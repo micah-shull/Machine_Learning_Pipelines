{
  "nbformat": 4,
  "nbformat_minor": 0,
  "metadata": {
    "colab": {
      "provenance": [],
      "authorship_tag": "ABX9TyMrCLYGcOiodIHaLu5uAfll",
      "include_colab_link": true
    },
    "kernelspec": {
      "name": "python3",
      "display_name": "Python 3"
    },
    "language_info": {
      "name": "python"
    }
  },
  "cells": [
    {
      "cell_type": "markdown",
      "metadata": {
        "id": "view-in-github",
        "colab_type": "text"
      },
      "source": [
        "<a href=\"https://colab.research.google.com/github/micah-shull/pipelines/blob/main/pipelines_05_pytorch_sklearn_pipeline_01_threshold_tuning.ipynb\" target=\"_parent\"><img src=\"https://colab.research.google.com/assets/colab-badge.svg\" alt=\"Open In Colab\"/></a>"
      ]
    },
    {
      "cell_type": "markdown",
      "source": [
        "### Threshold Tuning: Brief Description\n",
        "\n",
        "**Threshold tuning** is the process of adjusting the decision threshold used to classify instances in a binary classification problem. By default, many classifiers use a threshold of 0.5, meaning that if the predicted probability of an instance belonging to the positive class is greater than or equal to 0.5, it is classified as positive; otherwise, it is classified as negative. However, this default threshold may not always be optimal for your specific problem, especially in cases of imbalanced classes or when the costs of false positives and false negatives are different.\n",
        "\n",
        "### Importance of Threshold Tuning\n",
        "\n",
        "1. **Class Imbalance**: In many real-world datasets, the classes are imbalanced (one class is much more frequent than the other). Using a default threshold of 0.5 may lead to poor performance on the minority class. Tuning the threshold can help improve the classifier's ability to correctly identify minority class instances.\n",
        "\n",
        "2. **Cost Sensitivity**: Different applications may have different costs associated with false positives and false negatives. For example, in medical diagnostics, a false negative (failing to identify a disease) might be more costly than a false positive. Adjusting the threshold can help balance the trade-offs between precision and recall to align with the specific cost considerations of your application.\n",
        "\n",
        "3. **Performance Metrics**: By tuning the threshold, you can optimize the classifier for specific performance metrics that are important for your application, such as maximizing the F1 score, precision, recall, or a combination of these metrics.\n",
        "\n",
        "### How Threshold Tuning Works\n",
        "\n",
        "1. **Prediction Probabilities**: The classifier outputs probabilities indicating the likelihood that each instance belongs to the positive class.\n",
        "\n",
        "2. **Precision-Recall Curve**: You can calculate precision and recall for different thresholds and plot these values to visualize the trade-offs.\n",
        "\n",
        "3. **Optimal Threshold Selection**: By evaluating performance metrics (such as the F1 score) for different thresholds, you can identify the threshold that provides the best balance between precision and recall, or that maximizes a specific metric.\n",
        "\n",
        "4. **Applying the Threshold**: Once the optimal threshold is determined, you use it to make final classification decisions, improving the classifier's performance according to your specific criteria.\n",
        "\n"
      ],
      "metadata": {
        "id": "u0lFDzuss5Ju"
      }
    },
    {
      "cell_type": "markdown",
      "source": [
        "### Baseline Model Pipeline with Sklearn Wrapper\n"
      ],
      "metadata": {
        "id": "YkTAZVr7gyDj"
      }
    },
    {
      "cell_type": "code",
      "execution_count": 1,
      "metadata": {
        "colab": {
          "base_uri": "https://localhost:8080/"
        },
        "id": "HaKMhhNTczg7",
        "outputId": "a8e550fc-5d8a-4ed3-c9db-005e1db1f3af"
      },
      "outputs": [
        {
          "output_type": "stream",
          "name": "stdout",
          "text": [
            "              precision    recall  f1-score   support\n",
            "\n",
            "         0.0       0.89      0.71      0.79      4673\n",
            "         1.0       0.40      0.68      0.50      1327\n",
            "\n",
            "    accuracy                           0.70      6000\n",
            "   macro avg       0.64      0.69      0.64      6000\n",
            "weighted avg       0.78      0.70      0.72      6000\n",
            "\n"
          ]
        }
      ],
      "source": [
        "import pandas as pd\n",
        "import numpy as np\n",
        "import torch\n",
        "import torch.nn as nn\n",
        "import torch.optim as optim\n",
        "from sklearn.base import BaseEstimator, ClassifierMixin\n",
        "from sklearn.model_selection import train_test_split, GridSearchCV, StratifiedKFold\n",
        "from sklearn.pipeline import Pipeline\n",
        "from sklearn.compose import ColumnTransformer\n",
        "from sklearn.impute import SimpleImputer\n",
        "from sklearn.preprocessing import StandardScaler, OneHotEncoder\n",
        "from sklearn.metrics import classification_report, precision_recall_curve\n",
        "from imblearn.over_sampling import SMOTE\n",
        "\n",
        "# Load the dataset\n",
        "url = \"https://archive.ics.uci.edu/ml/machine-learning-databases/00350/default%20of%20credit%20card%20clients.xls\"\n",
        "df = pd.read_excel(url, header=1)\n",
        "\n",
        "# Rename columns to lower case and replace spaces with underscores\n",
        "df.columns = [col.lower().replace(' ', '_') for col in df.columns]\n",
        "\n",
        "# Select features and target\n",
        "target = 'default_payment_next_month'\n",
        "X = df.drop(columns=[target])\n",
        "y = df[target]\n",
        "\n",
        "# Perform stratified train-test split\n",
        "X_train, X_test, y_train, y_test = train_test_split(X, y, test_size=0.2, random_state=42, stratify=y)\n",
        "\n",
        "# Identify column types\n",
        "numeric_features = X_train.select_dtypes(include=['int64', 'float64']).columns.tolist()\n",
        "categorical_features = X_train.select_dtypes(include=['object', 'category']).columns.tolist()\n",
        "\n",
        "# Define preprocessing for numeric columns\n",
        "numeric_transformer = Pipeline(steps=[\n",
        "    ('imputer', SimpleImputer(strategy='median')),\n",
        "    ('scaler', StandardScaler())])\n",
        "\n",
        "# Define preprocessing for categorical columns\n",
        "categorical_transformer = Pipeline(steps=[\n",
        "    ('imputer', SimpleImputer(strategy='constant', fill_value='missing')),\n",
        "    ('onehot', OneHotEncoder(handle_unknown='ignore'))])\n",
        "\n",
        "# Combine preprocessing steps\n",
        "preprocessor = ColumnTransformer(\n",
        "    transformers=[\n",
        "        ('num', numeric_transformer, numeric_features),\n",
        "        ('cat', categorical_transformer, categorical_features)])\n",
        "\n",
        "# Create the preprocessing pipeline\n",
        "preprocessing_pipeline = Pipeline(steps=[('preprocessor', preprocessor)])\n",
        "\n",
        "# Fit and transform the data\n",
        "X_train_processed = preprocessing_pipeline.fit_transform(X_train)\n",
        "X_test_processed = preprocessing_pipeline.transform(X_test)\n",
        "\n",
        "# Apply SMOTE to balance the training dataset\n",
        "smote = SMOTE(random_state=42)\n",
        "X_train_resampled, y_train_resampled = smote.fit_resample(X_train_processed, y_train)\n",
        "\n",
        "# Convert to PyTorch tensors\n",
        "X_train_tensor = torch.tensor(X_train_resampled, dtype=torch.float32)\n",
        "y_train_tensor = torch.tensor(y_train_resampled.values, dtype=torch.float32).unsqueeze(1)\n",
        "X_test_tensor = torch.tensor(X_test_processed, dtype=torch.float32)\n",
        "y_test_tensor = torch.tensor(y_test.values, dtype=torch.float32).unsqueeze(1)\n",
        "\n",
        "# Define the neural network model\n",
        "class SimpleNN(nn.Module):\n",
        "    def __init__(self, input_dim):\n",
        "        super(SimpleNN, self).__init__()\n",
        "        self.fc1 = nn.Linear(input_dim, 32)\n",
        "        self.fc2 = nn.Linear(32, 1)\n",
        "\n",
        "    def forward(self, x):\n",
        "        x = torch.relu(self.fc1(x))\n",
        "        x = self.fc2(x)\n",
        "        return x\n",
        "\n",
        "\n",
        "# Define the sklearn wrapper for the neural network model\n",
        "class SklearnSimpleNN(BaseEstimator, ClassifierMixin):\n",
        "    def __init__(self, input_dim, learning_rate=0.001, epochs=50, batch_size=64, pos_weight=1.0):\n",
        "        self.input_dim = input_dim\n",
        "        self.learning_rate = learning_rate\n",
        "        self.epochs = epochs\n",
        "        self.batch_size = batch_size\n",
        "        self.pos_weight = pos_weight  # Accept as float\n",
        "        self.model = SimpleNN(self.input_dim)\n",
        "\n",
        "    def fit(self, X, y):\n",
        "        # Convert pos_weight to tensor here\n",
        "        criterion = nn.BCEWithLogitsLoss(pos_weight=torch.tensor(self.pos_weight, dtype=torch.float32))\n",
        "        optimizer = optim.Adam(self.model.parameters(), lr=self.learning_rate)\n",
        "        train_dataset = torch.utils.data.TensorDataset(torch.tensor(X, dtype=torch.float32), torch.tensor(y, dtype=torch.float32).unsqueeze(1))\n",
        "        train_loader = torch.utils.data.DataLoader(train_dataset, batch_size=self.batch_size, shuffle=True)\n",
        "\n",
        "        for epoch in range(self.epochs):\n",
        "            self.model.train()\n",
        "            for inputs, targets in train_loader:\n",
        "                optimizer.zero_grad()\n",
        "                outputs = self.model(inputs)\n",
        "                loss = criterion(outputs, targets.view(-1, 1))\n",
        "                loss.backward()\n",
        "                optimizer.step()\n",
        "        return self\n",
        "\n",
        "    def predict(self, X):\n",
        "        self.model.eval()\n",
        "        with torch.no_grad():\n",
        "            outputs = self.model(torch.tensor(X, dtype=torch.float32))\n",
        "            probabilities = torch.sigmoid(outputs)\n",
        "            predictions = (probabilities > 0.65).float()  # Use the manually adjusted threshold here\n",
        "        return predictions.numpy().squeeze()\n",
        "\n",
        "# Calculate the class weights\n",
        "class_weights = len(y_train) / (2 * np.bincount(y_train))\n",
        "\n",
        "# Create an instance of SklearnSimplexNN with the adjusted weight\n",
        "input_dim = X_train_tensor.shape[1]\n",
        "nn_estimator = SklearnSimpleNN(input_dim=input_dim, pos_weight=class_weights[1])\n",
        "\n",
        "# Fit the model\n",
        "nn_estimator.fit(X_train_tensor.numpy(), y_train_tensor.numpy())\n",
        "\n",
        "# Function to adjust decision threshold\n",
        "def predict_with_threshold(model, X, threshold=0.65):\n",
        "    model.eval()\n",
        "    with torch.no_grad():\n",
        "        outputs = model(torch.tensor(X, dtype=torch.float32))\n",
        "        probabilities = torch.sigmoid(outputs)\n",
        "        predictions = (probabilities > threshold).float()\n",
        "    return predictions.numpy().squeeze()\n",
        "\n",
        "# Predict on the test set with the manually set threshold\n",
        "test_predictions_best_threshold = predict_with_threshold(nn_estimator.model, X_test_tensor.numpy(), threshold=0.65)\n",
        "\n",
        "# Evaluate the model with the manually set threshold\n",
        "print(classification_report(y_test_tensor.numpy(), test_predictions_best_threshold))"
      ]
    },
    {
      "cell_type": "markdown",
      "source": [
        "### Classification Report Analysis\n",
        "\n",
        "1. **Precision for Class 0 (Non-default)**:\n",
        "   - **Precision**: 0.89. This means that 89% of the instances predicted as non-defaults were actually non-defaults.\n",
        "   - **Recall**: 0.71. This indicates that 71% of actual non-defaults were correctly identified by the model.\n",
        "   - **F1-Score**: 0.79. The harmonic mean of precision and recall for non-defaults.\n",
        "\n",
        "2. **Precision for Class 1 (Default)**:\n",
        "   - **Precision**: 0.40. This means that 40% of the instances predicted as defaults were actually defaults. This suggests a relatively high false positive rate.\n",
        "   - **Recall**: 0.68. This indicates that 68% of actual defaults were correctly identified by the model.\n",
        "   - **F1-Score**: 0.50. The harmonic mean of precision and recall for defaults.\n",
        "\n",
        "3. **Overall Metrics**:\n",
        "   - **Accuracy**: 0.70. This means that 70% of all instances were correctly classified.\n",
        "   - **Macro Average**:\n",
        "     - **Precision**: 0.64. The average precision considering both classes equally.\n",
        "     - **Recall**: 0.69. The average recall considering both classes equally.\n",
        "     - **F1-Score**: 0.64. The average F1 score considering both classes equally.\n",
        "   - **Weighted Average**:\n",
        "     - **Precision**: 0.78. The average precision weighted by the number of instances in each class.\n",
        "     - **Recall**: 0.70. The average recall weighted by the number of instances in each class.\n",
        "     - **F1-Score**: 0.72. The average F1 score weighted by the number of instances in each class.\n",
        "\n",
        "### Observations\n",
        "\n",
        "- The model has a relatively high precision for non-defaults but a lower precision for defaults, indicating that it predicts non-defaults more accurately than defaults.\n",
        "- The recall for defaults is moderate, suggesting that the model is able to identify a fair number of defaults but still misses some.\n",
        "- Overall accuracy is 70%, which is decent, but the disparity in precision and recall for the two classes indicates room for improvement, especially in correctly predicting defaults.\n",
        "\n",
        "### Recommendations for Next Steps\n",
        "\n",
        "1. **Threshold Tuning**:\n",
        "   - Experiment with different decision thresholds to find the optimal balance between precision and recall for the default class.\n",
        "\n",
        "2. **Further Feature Engineering**:\n",
        "   - Create new features or transform existing ones to provide more informative inputs to the model. For instance, consider feature interactions, polynomial features, or domain-specific features.\n",
        "\n",
        "3. **Model Complexity**:\n",
        "   - Experiment with slightly more complex neural network architectures. Adding more layers or neurons might capture more complex patterns in the data.\n",
        "\n",
        "4. **Alternative Resampling Techniques**:\n",
        "   - Try other resampling techniques such as ADASYN or a combination of SMOTE and Tomek links to see if they improve the balance between precision and recall for the default class.\n",
        "\n",
        "5. **Cost-Sensitive Learning**:\n",
        "   - Modify the loss function to penalize misclassifications of the default class more heavily. This can be done by adjusting the class weights in the loss function.\n",
        "\n",
        "6. **Ensemble Methods**:\n",
        "   - Combine the neural network with other models (e.g., Random Forest, Gradient Boosting) to create an ensemble model that may improve overall performance.\n",
        "\n",
        "7. **Cross-Validation**:\n",
        "   - Use cross-validation to ensure the model's robustness and to better tune the hyperparameters.\n",
        "\n",
        "8. **Regularization**:\n",
        "   - Apply regularization techniques like L2 regularization (weight decay) or dropout to prevent overfitting and improve generalization.\n",
        "\n",
        "\n",
        "\n"
      ],
      "metadata": {
        "id": "dEpiN6rKk1gu"
      }
    },
    {
      "cell_type": "markdown",
      "source": [
        "### Threshold Tuning Plot\n",
        "\n",
        "You can use a precision-recall curve to find the optimal threshold"
      ],
      "metadata": {
        "id": "rECuEBJOpW1u"
      }
    },
    {
      "cell_type": "code",
      "source": [
        "from sklearn.metrics import precision_recall_curve\n",
        "import matplotlib.pyplot as plt\n",
        "\n",
        "# Function to plot precision-recall curve\n",
        "def plot_precision_recall(y_true, y_scores):\n",
        "    precision, recall, thresholds = precision_recall_curve(y_true, y_scores)\n",
        "    plt.figure(figsize=(8, 6))\n",
        "    plt.plot(thresholds, precision[:-1], 'b--', label='Precision')\n",
        "    plt.plot(thresholds, recall[:-1], 'g--', label='Recall')\n",
        "    plt.xlabel('Threshold')\n",
        "    plt.ylabel('Precision/Recall')\n",
        "    plt.legend(loc='best')\n",
        "    plt.title('Precision-Recall vs Threshold')\n",
        "    plt.show()\n",
        "\n",
        "# Get the predicted probabilities\n",
        "nn_estimator.model.eval()\n",
        "with torch.no_grad():\n",
        "    outputs = nn_estimator.model(X_test_tensor)\n",
        "    probabilities = torch.sigmoid(outputs).numpy().squeeze()\n",
        "\n",
        "# Plot precision-recall curve\n",
        "plot_precision_recall(y_test_tensor.numpy(), probabilities)"
      ],
      "metadata": {
        "colab": {
          "base_uri": "https://localhost:8080/",
          "height": 564
        },
        "id": "Epq_nbzEpQ0j",
        "outputId": "8b9177d8-acc0-45c8-9b9c-ffbc936316ab"
      },
      "execution_count": 2,
      "outputs": [
        {
          "output_type": "display_data",
          "data": {
            "text/plain": [
              "<Figure size 800x600 with 1 Axes>"
            ],
            "image/png": "[encoded data removed]"
          },
          "metadata": {}
        }
      ]
    },
    {
      "cell_type": "markdown",
      "source": [
        "### Extracting the Optimal Threshold\n",
        "\n",
        "Here’s how you can extract the optimal threshold and use it in your model.\n",
        "This process will help you find and apply the optimal threshold, potentially improving the model’s balance between precision and recall."
      ],
      "metadata": {
        "id": "deJ52QaQpMWn"
      }
    },
    {
      "cell_type": "code",
      "source": [
        "# Calculate precision-recall curve\n",
        "precision, recall, thresholds = precision_recall_curve(y_test_tensor.numpy(), probabilities)\n",
        "\n",
        "# Calculate F1 score for each threshold\n",
        "f1_scores = 2 * (precision * recall) / (precision + recall)\n",
        "\n",
        "# Find the threshold that maximizes the F1 score\n",
        "optimal_threshold_index = f1_scores.argmax()\n",
        "optimal_threshold = thresholds[optimal_threshold_index]\n",
        "print(f'Optimal Threshold: {optimal_threshold}')\n",
        "\n",
        "# Function to predict with the optimal threshold\n",
        "def predict_with_optimal_threshold(model, X, threshold):\n",
        "    model.eval()\n",
        "    with torch.no_grad():\n",
        "        outputs = model(torch.tensor(X, dtype=torch.float32))\n",
        "        probabilities = torch.sigmoid(outputs)\n",
        "        predictions = (probabilities > threshold).float()\n",
        "    return predictions.numpy().squeeze()\n",
        "\n",
        "# Predict on the test set with the optimal threshold\n",
        "test_predictions_optimal_threshold = predict_with_optimal_threshold(nn_estimator.model, X_test_tensor.numpy(), optimal_threshold)\n",
        "\n",
        "# Evaluate the model with the optimal threshold\n",
        "print(classification_report(y_test_tensor.numpy(), test_predictions_optimal_threshold))"
      ],
      "metadata": {
        "colab": {
          "base_uri": "https://localhost:8080/"
        },
        "id": "XM3K3uq-pH0t",
        "outputId": "337d379c-b75a-4083-8b9a-03419bf6585c"
      },
      "execution_count": 3,
      "outputs": [
        {
          "output_type": "stream",
          "name": "stdout",
          "text": [
            "Optimal Threshold: 0.8000141978263855\n",
            "              precision    recall  f1-score   support\n",
            "\n",
            "         0.0       0.86      0.88      0.87      4673\n",
            "         1.0       0.54      0.50      0.52      1327\n",
            "\n",
            "    accuracy                           0.80      6000\n",
            "   macro avg       0.70      0.69      0.70      6000\n",
            "weighted avg       0.79      0.80      0.79      6000\n",
            "\n"
          ]
        }
      ]
    },
    {
      "cell_type": "markdown",
      "source": [
        "### New Classification Report Analysis\n",
        "\n",
        "1. **Class 0 (Non-default)**:\n",
        "   - **Precision**: 0.86. This means that 86% of the instances predicted as non-defaults were actually non-defaults.\n",
        "   - **Recall**: 0.88. This indicates that 88% of actual non-defaults were correctly identified by the model.\n",
        "   - **F1-Score**: 0.87. The harmonic mean of precision and recall for non-defaults.\n",
        "\n",
        "2. **Class 1 (Default)**:\n",
        "   - **Precision**: 0.54. This means that 54% of the instances predicted as defaults were actually defaults. This suggests an improved precision compared to the original.\n",
        "   - **Recall**: 0.50. This indicates that 50% of actual defaults were correctly identified by the model. Recall has decreased slightly.\n",
        "   - **F1-Score**: 0.52. The harmonic mean of precision and recall for defaults.\n",
        "\n",
        "3. **Overall Metrics**:\n",
        "   - **Accuracy**: 0.80. This means that 80% of all instances were correctly classified.\n",
        "   - **Macro Average**:\n",
        "     - **Precision**: 0.70. The average precision considering both classes equally.\n",
        "     - **Recall**: 0.69. The average recall considering both classes equally.\n",
        "     - **F1-Score**: 0.70. The average F1 score considering both classes equally.\n",
        "   - **Weighted Average**:\n",
        "     - **Precision**: 0.79. The average precision weighted by the number of instances in each class.\n",
        "     - **Recall**: 0.80. The average recall weighted by the number of instances in each class.\n",
        "     - **F1-Score**: 0.79. The average F1 score weighted by the number of instances in each class.\n",
        "\n",
        "\n",
        "### Key Improvements and Trade-offs\n",
        "\n",
        "1. **Accuracy**: Increased from 70% to 80%, indicating that the overall correct classification rate has improved.\n",
        "\n",
        "2. **Precision for Class 1 (Default)**: Increased from 0.40 to 0.54, suggesting that the model now makes more accurate positive predictions, reducing the false positive rate.\n",
        "\n",
        "3. **Recall for Class 1**: Decreased slightly from 0.68 to 0.50, meaning the model now misses more actual defaults.\n",
        "\n",
        "4. **F1-Score for Class 1**: Improved marginally from 0.50 to 0.52, showing a slight overall improvement in the balance between precision and recall for defaults.\n",
        "\n",
        "5. **Class 0 Metrics**: Precision for class 0 decreased slightly from 0.89 to 0.86, but recall increased significantly from 0.71 to 0.88, leading to a higher F1-score for class 0 (from 0.79 to 0.87).\n",
        "\n",
        "6. **Macro and Weighted Averages**: Both macro and weighted averages for precision, recall, and F1-score have improved, indicating a better overall performance across both classes.\n",
        "\n",
        "### Summary and Next Steps\n",
        "\n",
        "- The new model with the optimal threshold has significantly improved accuracy and balanced precision and recall for the two classes better than the original model.\n",
        "- The higher precision for the default class means fewer false positives, which is beneficial if the cost of false positives is high.\n",
        "- However, the recall for the default class has decreased, indicating the model misses more actual defaults. This trade-off needs to be considered based on the application context.\n",
        "\n",
        "### Next Steps\n",
        "\n",
        "1. **Further Threshold Tuning**: Consider finer adjustments around the current optimal threshold to see if a slightly different threshold could provide better balance between precision and recall for class 1.\n",
        "2. **Feature Engineering**: Enhance the feature set by exploring interaction terms, polynomial features, or domain-specific features to improve the model's ability to distinguish between classes.\n",
        "3. **Model Complexity**: Slightly increase the model complexity by adding more layers or neurons, ensuring to monitor for overfitting.\n",
        "4. **Regularization**: Apply regularization techniques like dropout or weight decay to help the model generalize better.\n",
        "5. **Ensemble Methods**: Explore ensemble methods to combine the strengths of multiple models, potentially leading to better performance.\n",
        "6. **Cross-Validation**: Use cross-validation to ensure robustness and stability of the model across different subsets of the data.\n",
        "\n",
        "By taking these steps, you can continue to refine and improve the model's performance."
      ],
      "metadata": {
        "id": "evXEj4z6qb73"
      }
    }
  ]
}