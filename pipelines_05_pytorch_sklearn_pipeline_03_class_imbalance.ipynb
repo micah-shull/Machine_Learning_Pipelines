{
  "nbformat": 4,
  "nbformat_minor": 0,
  "metadata": {
    "colab": {
      "provenance": [],
      "authorship_tag": "ABX9TyNhVbiwKX/Rys0aX43RVXc0",
      "include_colab_link": true
    },
    "kernelspec": {
      "name": "python3",
      "display_name": "Python 3"
    },
    "language_info": {
      "name": "python"
    }
  },
  "cells": [
    {
      "cell_type": "markdown",
      "metadata": {
        "id": "view-in-github",
        "colab_type": "text"
      },
      "source": [
        "<a href=\"https://colab.research.google.com/github/micah-shull/pipelines/blob/main/pipelines_05_pytorch_sklearn_pipeline_03_class_imbalance.ipynb\" target=\"_parent\"><img src=\"https://colab.research.google.com/assets/colab-badge.svg\" alt=\"Open In Colab\"/></a>"
      ]
    },
    {
      "cell_type": "markdown",
      "source": [
        "#### Baseline Code\n"
      ],
      "metadata": {
        "id": "xav5nmUnrkt_"
      }
    },
    {
      "cell_type": "code",
      "execution_count": 1,
      "metadata": {
        "colab": {
          "base_uri": "https://localhost:8080/"
        },
        "id": "xwceRJ1jptLV",
        "outputId": "4b035c61-2ac0-442c-99d6-827b56403f40"
      },
      "outputs": [
        {
          "output_type": "stream",
          "name": "stdout",
          "text": [
            "              precision    recall  f1-score   support\n",
            "\n",
            "         0.0       0.86      0.89      0.87      4673\n",
            "         1.0       0.55      0.48      0.51      1327\n",
            "\n",
            "    accuracy                           0.80      6000\n",
            "   macro avg       0.70      0.68      0.69      6000\n",
            "weighted avg       0.79      0.80      0.79      6000\n",
            "\n"
          ]
        }
      ],
      "source": [
        "# Import necessary libraries\n",
        "import pandas as pd\n",
        "import numpy as np\n",
        "import torch\n",
        "import torch.nn as nn\n",
        "import torch.optim as optim\n",
        "from sklearn.base import BaseEstimator, ClassifierMixin\n",
        "from sklearn.model_selection import train_test_split, StratifiedKFold, cross_val_score\n",
        "from sklearn.pipeline import Pipeline\n",
        "from sklearn.compose import ColumnTransformer\n",
        "from sklearn.impute import SimpleImputer\n",
        "from sklearn.preprocessing import StandardScaler, OneHotEncoder\n",
        "from sklearn.metrics import classification_report, precision_recall_curve, f1_score\n",
        "from imblearn.over_sampling import SMOTE\n",
        "from imblearn.pipeline import Pipeline as ImbPipeline\n",
        "\n",
        "# Load the dataset\n",
        "url = \"https://archive.ics.uci.edu/ml/machine-learning-databases/00350/default%20of%20credit%20card%20clients.xls\"\n",
        "df = pd.read_excel(url, header=1)\n",
        "\n",
        "# Rename columns to lower case and replace spaces with underscores\n",
        "df.columns = [col.lower().replace(' ', '_') for col in df.columns]\n",
        "\n",
        "# Select features and target\n",
        "target = 'default_payment_next_month'\n",
        "X = df.drop(columns=[target])\n",
        "y = df[target]\n",
        "\n",
        "# Perform stratified train-test split\n",
        "X_train, X_test, y_train, y_test = train_test_split(X, y, test_size=0.2, random_state=42, stratify=y)\n",
        "\n",
        "# Identify column types\n",
        "numeric_features = X_train.select_dtypes(include=['int64', 'float64']).columns.tolist()\n",
        "categorical_features = X_train.select_dtypes(include=['object', 'category']).columns.tolist()\n",
        "\n",
        "# Define preprocessing for numeric columns\n",
        "numeric_transformer = Pipeline(steps=[\n",
        "    ('imputer', SimpleImputer(strategy='median')),\n",
        "    ('scaler', StandardScaler())])\n",
        "\n",
        "# Define preprocessing for categorical columns\n",
        "categorical_transformer = Pipeline(steps=[\n",
        "    ('imputer', SimpleImputer(strategy='constant', fill_value='missing')),\n",
        "    ('onehot', OneHotEncoder(handle_unknown='ignore'))])\n",
        "\n",
        "# Combine preprocessing steps\n",
        "preprocessor = ColumnTransformer(\n",
        "    transformers=[\n",
        "        ('num', numeric_transformer, numeric_features),\n",
        "        ('cat', categorical_transformer, categorical_features)])\n",
        "\n",
        "# Fit and transform the data\n",
        "preprocessing_pipeline = Pipeline(steps=[('preprocessor', preprocessor)])\n",
        "X_train_processed = preprocessing_pipeline.fit_transform(X_train)\n",
        "X_test_processed = preprocessing_pipeline.transform(X_test)\n",
        "\n",
        "# Apply SMOTE to balance the training dataset\n",
        "smote = SMOTE(random_state=42)\n",
        "X_train_resampled, y_train_resampled = smote.fit_resample(X_train_processed, y_train)\n",
        "\n",
        "# Convert to PyTorch tensors\n",
        "X_train_tensor = torch.tensor(X_train_resampled, dtype=torch.float32)\n",
        "y_train_tensor = torch.tensor(y_train_resampled.values, dtype=torch.float32).unsqueeze(1)\n",
        "X_test_tensor = torch.tensor(X_test_processed, dtype=torch.float32)\n",
        "y_test_tensor = torch.tensor(y_test.values, dtype=torch.float32).unsqueeze(1)\n",
        "\n",
        "optimal_threshold = 0.8000141978263855\n",
        "\n",
        "# Define a simple neural network model\n",
        "class SimpleNN(nn.Module):\n",
        "    def __init__(self, input_dim):\n",
        "        super(SimpleNN, self).__init__()\n",
        "        self.fc1 = nn.Linear(input_dim, 32)\n",
        "        self.fc2 = nn.Linear(32, 1)\n",
        "\n",
        "    def forward(self, x):\n",
        "        x = torch.relu(self.fc1(x))\n",
        "        x = self.fc2(x)\n",
        "        return x\n",
        "\n",
        "# Define the sklearn wrapper for the neural network model\n",
        "class SklearnSimpleNN(BaseEstimator, ClassifierMixin):\n",
        "    def __init__(self, input_dim, learning_rate=0.001, epochs=50, batch_size=64, pos_weight=1.0):\n",
        "        self.input_dim = input_dim\n",
        "        self.learning_rate = learning_rate\n",
        "        self.epochs = epochs\n",
        "        self.batch_size = batch_size\n",
        "        self.pos_weight = pos_weight  # Accept as float\n",
        "        self.model = SimpleNN(self.input_dim)\n",
        "\n",
        "    def fit(self, X, y):\n",
        "        # Convert pos_weight to tensor here\n",
        "        criterion = nn.BCEWithLogitsLoss(pos_weight=torch.tensor(self.pos_weight, dtype=torch.float32))\n",
        "        optimizer = optim.Adam(self.model.parameters(), lr=self.learning_rate)\n",
        "        train_dataset = torch.utils.data.TensorDataset(torch.tensor(X, dtype=torch.float32), torch.tensor(y, dtype=torch.float32).unsqueeze(1))\n",
        "        train_loader = torch.utils.data.DataLoader(train_dataset, batch_size=self.batch_size, shuffle=True)\n",
        "\n",
        "        for epoch in range(self.epochs):\n",
        "            self.model.train()\n",
        "            for inputs, targets in train_loader:\n",
        "                optimizer.zero_grad()\n",
        "                outputs = self.model(inputs)\n",
        "                loss = criterion(outputs, targets.view(-1, 1))\n",
        "                loss.backward()\n",
        "                optimizer.step()\n",
        "        return self\n",
        "\n",
        "    def predict(self, X):\n",
        "        self.model.eval()\n",
        "        with torch.no_grad():\n",
        "            outputs = self.model(torch.tensor(X, dtype=torch.float32))\n",
        "            probabilities = torch.sigmoid(outputs)\n",
        "            predictions = (probabilities > optimal_threshold).float()  # Use the manually adjusted threshold here\n",
        "        return predictions.numpy().squeeze()\n",
        "\n",
        "# Calculate the class weights\n",
        "class_weights = len(y_train) / (2 * np.bincount(y_train))\n",
        "\n",
        "# Create an instance of SklearnSimpleNN with the adjusted weight\n",
        "input_dim = X_train_tensor.shape[1]\n",
        "nn_estimator = SklearnSimpleNN(input_dim=input_dim, pos_weight=class_weights[1])\n",
        "\n",
        "# Fit the model\n",
        "nn_estimator.fit(X_train_tensor.numpy(), y_train_tensor.numpy())\n",
        "\n",
        "# Predict on the test set with the optimal threshold\n",
        "test_predictions = nn_estimator.predict(X_test_tensor.numpy())\n",
        "\n",
        "# Evaluate the model with the optimal threshold\n",
        "print(classification_report(y_test_tensor.numpy(), test_predictions))\n"
      ]
    },
    {
      "cell_type": "markdown",
      "source": [
        "### Exploring Resampling Techniques\n",
        "\n",
        "Let's start by testing various resampling techniques from the `imblearn` library. Here are some techniques we'll explore:\n",
        "\n",
        "1. **ADASYN (Adaptive Synthetic Sampling Approach)**:\n",
        "   - Generates synthetic samples for the minority class, with more focus on difficult-to-learn examples.\n",
        "\n",
        "2. **RandomUnderSampler**:\n",
        "   - Randomly under-samples the majority class to balance the class distribution.\n",
        "\n",
        "3. **BalancedBaggingClassifier**:\n",
        "   - An ensemble method that performs balanced bootstrapping on the dataset."
      ],
      "metadata": {
        "id": "jFSaW8Nsq4TT"
      }
    },
    {
      "cell_type": "markdown",
      "source": [
        "#### Function to plot before and after target data imbalance"
      ],
      "metadata": {
        "id": "BUXiJLbFsDhn"
      }
    },
    {
      "cell_type": "code",
      "source": [
        "import matplotlib.pyplot as plt\n",
        "import seaborn as sns\n",
        "\n",
        "def plot_class_distribution(y_before, y_after, title_before=\"Before Resampling\", title_after=\"After Resampling\"):\n",
        "    fig, axes = plt.subplots(1, 2, figsize=(10, 4), sharey=True)\n",
        "    custom_colors = ['yellowgreen', 'yellow']\n",
        "\n",
        "    # Plot before resampling\n",
        "    sns.countplot(x=y_before, hue=y_before, palette=custom_colors, ax=axes[0], legend=False)\n",
        "    axes[0].set_title(title_before)\n",
        "    axes[0].set_xlabel('Class')\n",
        "    axes[0].set_ylabel('Count')\n",
        "    axes[0].legend(['On Time', 'Default'])\n",
        "\n",
        "    # Plot after resampling\n",
        "    sns.countplot(x=y_after, hue=y_after, palette=custom_colors, ax=axes[1], legend=False)\n",
        "    axes[1].set_title(title_after)\n",
        "    axes[1].set_xlabel('Class')\n",
        "    axes[1].set_ylabel('Count')\n",
        "    axes[1].legend(['On Time', 'Default'])\n",
        "\n",
        "    plt.tight_layout()\n",
        "    plt.show()\n",
        "\n",
        "# Example usage before and after SMOTE\n",
        "y_before = y_train\n",
        "y_after = y_train_resampled\n",
        "\n",
        "plot_class_distribution(y_before, y_after, title_before='Before SMOTE', title_after='After SMOTE')\n"
      ],
      "metadata": {
        "colab": {
          "base_uri": "https://localhost:8080/",
          "height": 407
        },
        "id": "RmxCU3OcsKr9",
        "outputId": "2e1ca095-3592-4211-bb8a-f3eea947e565"
      },
      "execution_count": 7,
      "outputs": [
        {
          "output_type": "display_data",
          "data": {
            "text/plain": [
              "<Figure size 1000x400 with 2 Axes>"
            ],
            "image/png": "[encoded data removed]"
          },
          "metadata": {}
        }
      ]
    },
    {
      "cell_type": "markdown",
      "source": [
        "### ADASYN"
      ],
      "metadata": {
        "id": "84GYVFpZrZq6"
      }
    },
    {
      "cell_type": "markdown",
      "source": [
        "### Summary of ADASYN (Adaptive Synthetic Sampling Approach)\n",
        "\n",
        "**What is ADASYN?**\n",
        "\n",
        "ADASYN, short for Adaptive Synthetic Sampling Approach for Imbalanced Learning, is a technique designed to handle imbalanced datasets. It generates synthetic data points for the minority class to balance the class distribution. The goal is to reduce the bias introduced by class imbalance and improve the performance of machine learning models.\n",
        "\n",
        "**How Does ADASYN Work?**\n",
        "\n",
        "1. **Identifying Minority Class Examples**:\n",
        "   - ADASYN first identifies the minority class examples in the dataset.\n",
        "\n",
        "2. **Calculating Class Imbalance Degree**:\n",
        "   - It calculates the degree of imbalance between the majority and minority classes.\n",
        "\n",
        "3. **Determining Synthetic Sample Generation**:\n",
        "   - ADASYN determines the number of synthetic samples to generate for each minority class example based on its difficulty of learning, which is estimated by the density of majority class examples around it.\n",
        "   - Minority examples surrounded by more majority class examples are considered harder to learn and will have more synthetic samples generated.\n",
        "\n",
        "4. **Generating Synthetic Samples**:\n",
        "   - For each minority class example, synthetic samples are generated by interpolating between the example and its k-nearest minority class neighbors.\n",
        "   - The interpolation is weighted by the density of majority class examples around each minority example, focusing more on harder-to-learn examples.\n",
        "\n",
        "5. **Balancing the Dataset**:\n",
        "   - The synthetic samples are added to the dataset, resulting in a more balanced class distribution.\n",
        "\n",
        "**Advantages of ADASYN**:\n",
        "- Focuses on generating synthetic samples for harder-to-learn examples, potentially leading to better model performance on difficult cases.\n",
        "- Adaptively adjusts the number of synthetic samples based on local data distribution, which can provide a more nuanced approach to balancing.\n",
        "\n",
        "**Limitations of ADASYN**:\n",
        "- Like other synthetic sampling methods, it can introduce noise if not used carefully.\n",
        "- May lead to overfitting if the synthetic samples do not accurately represent real-world data variations.\n",
        "\n",
        "**When to Use ADASYN**:\n",
        "- ADASYN is particularly useful when the dataset has a significant class imbalance and the minority class has complex decision boundaries that are hard for models to learn.\n",
        "\n"
      ],
      "metadata": {
        "id": "zeIyLQSbu3c5"
      }
    },
    {
      "cell_type": "code",
      "source": [
        "from imblearn.over_sampling import ADASYN\n",
        "\n",
        "# Apply ADASYN to balance the training dataset\n",
        "adasyn = ADASYN(random_state=42)\n",
        "X_train_resampled, y_train_resampled = adasyn.fit_resample(X_train_processed, y_train)\n",
        "\n",
        "# Plot after resampling with ADASYN\n",
        "plot_class_distribution(y_train, y_train_resampled, title_before=\"Before Resampling\", title_after=\"After Resampling with ADASYN\")\n",
        "\n",
        "# Convert to PyTorch tensors\n",
        "X_train_tensor = torch.tensor(X_train_resampled, dtype=torch.float32)\n",
        "y_train_tensor = torch.tensor(y_train_resampled.values, dtype=torch.float32).unsqueeze(1)\n",
        "\n",
        "# Fit the model\n",
        "nn_estimator.fit(X_train_tensor.numpy(), y_train_tensor.numpy())\n",
        "\n",
        "# Predict on the test set with the optimal threshold\n",
        "test_predictions = nn_estimator.predict(X_test_tensor.numpy())\n",
        "\n",
        "# Evaluate the model with the optimal threshold\n",
        "print(\"ADASYN Resampling:\")\n",
        "print(classification_report(y_test_tensor.numpy(), test_predictions))"
      ],
      "metadata": {
        "colab": {
          "base_uri": "https://localhost:8080/",
          "height": 581
        },
        "id": "PAdGBqqBu9ro",
        "outputId": "bdbb069b-3be3-4e8f-fb81-89c9b0486f32"
      },
      "execution_count": 9,
      "outputs": [
        {
          "output_type": "display_data",
          "data": {
            "text/plain": [
              "<Figure size 1000x400 with 2 Axes>"
            ],
            "image/png": "[encoded data removed]"
          },
          "metadata": {}
        },
        {
          "output_type": "stream",
          "name": "stdout",
          "text": [
            "ADASYN Resampling:\n",
            "              precision    recall  f1-score   support\n",
            "\n",
            "         0.0       0.86      0.84      0.85      4673\n",
            "         1.0       0.48      0.53      0.50      1327\n",
            "\n",
            "    accuracy                           0.77      6000\n",
            "   macro avg       0.67      0.68      0.67      6000\n",
            "weighted avg       0.78      0.77      0.77      6000\n",
            "\n"
          ]
        }
      ]
    },
    {
      "cell_type": "markdown",
      "source": [
        "## RandomUnderSampler"
      ],
      "metadata": {
        "id": "jfSIQLH4rPNu"
      }
    },
    {
      "cell_type": "markdown",
      "source": [
        "### What is RandomUnderSampler?\n",
        "\n",
        "RandomUnderSampler is a technique used to handle class imbalance in datasets by reducing the number of samples from the majority class. It randomly removes instances from the majority class until the class distribution is balanced or reaches a specified ratio.\n",
        "\n",
        "**How Does RandomUnderSampler Work?**\n",
        "\n",
        "1. **Identifying Majority and Minority Classes**:\n",
        "   - The method identifies the majority and minority classes in the dataset.\n",
        "\n",
        "2. **Determining the Sampling Strategy**:\n",
        "   - A target ratio of minority to majority class samples is set. This can be done automatically to balance the classes or specified by the user.\n",
        "\n",
        "3. **Random Sampling**:\n",
        "   - RandomUnderSampler randomly selects and removes instances from the majority class until the desired class ratio is achieved.\n",
        "\n",
        "4. **Balancing the Dataset**:\n",
        "   - The resulting dataset has a more balanced class distribution with fewer instances from the majority class.\n",
        "\n",
        "**Advantages of RandomUnderSampler**:\n",
        "- Simple and easy to implement.\n",
        "- Can effectively balance the class distribution by reducing the size of the majority class.\n",
        "\n",
        "**Limitations of RandomUnderSampler**:\n",
        "- Potentially removes informative instances from the majority class, which can lead to loss of information.\n",
        "- Might not be suitable for small datasets, as it reduces the number of training samples.\n"
      ],
      "metadata": {
        "id": "T9LEcgl8wO3Y"
      }
    },
    {
      "cell_type": "markdown",
      "source": [
        "### Undersampling (SMOTE)"
      ],
      "metadata": {
        "id": "XYtqF9towxF-"
      }
    },
    {
      "cell_type": "code",
      "source": [
        "from imblearn.under_sampling import RandomUnderSampler\n",
        "\n",
        "# Apply RandomUnderSampler to balance the training dataset\n",
        "undersampler = RandomUnderSampler(random_state=42)\n",
        "X_train_resampled, y_train_resampled = undersampler.fit_resample(X_train_processed, y_train)\n",
        "\n",
        "# Plot after resampling with RandomUnderSampler\n",
        "plot_class_distribution(y_train, y_train_resampled, title_before=\"Before Resampling\", title_after=\"After Resampling with RandomUnderSampler\")\n",
        "\n",
        "# Convert to PyTorch tensors\n",
        "X_train_tensor = torch.tensor(X_train_resampled, dtype=torch.float32)\n",
        "y_train_tensor = torch.tensor(y_train_resampled.values, dtype=torch.float32).unsqueeze(1)\n",
        "\n",
        "# Fit the model\n",
        "nn_estimator.fit(X_train_tensor.numpy(), y_train_tensor.numpy())\n",
        "\n",
        "# Predict on the test set with the optimal threshold\n",
        "test_predictions_optimal_threshold = nn_estimator.predict(X_test_tensor.numpy())\n",
        "\n",
        "# Evaluate the model with the optimal threshold\n",
        "print(\"RandomUnderSampler Resampling:\")\n",
        "print(classification_report(y_test_tensor.numpy(), test_predictions_optimal_threshold))"
      ],
      "metadata": {
        "colab": {
          "base_uri": "https://localhost:8080/",
          "height": 581
        },
        "id": "O9P8zVpGrLDj",
        "outputId": "23538e95-63fe-421e-a8f0-08fc6d63f0b6"
      },
      "execution_count": 14,
      "outputs": [
        {
          "output_type": "display_data",
          "data": {
            "text/plain": [
              "<Figure size 1000x400 with 2 Axes>"
            ],
            "image/png": "[encoded data removed]"
          },
          "metadata": {}
        },
        {
          "output_type": "stream",
          "name": "stdout",
          "text": [
            "RandomUnderSampler Resampling:\n",
            "              precision    recall  f1-score   support\n",
            "\n",
            "         0.0       0.86      0.86      0.86      4673\n",
            "         1.0       0.52      0.51      0.51      1327\n",
            "\n",
            "    accuracy                           0.79      6000\n",
            "   macro avg       0.69      0.69      0.69      6000\n",
            "weighted avg       0.78      0.79      0.79      6000\n",
            "\n"
          ]
        }
      ]
    },
    {
      "cell_type": "markdown",
      "source": [
        "### Oversampling (SMOTE)\n",
        "\n",
        "### Summary of Oversampling\n",
        "\n",
        "**What is Oversampling?**\n",
        "\n",
        "Oversampling is a technique used to handle class imbalance by increasing the number of instances in the minority class. This can be done through duplication of existing samples or generating synthetic samples (like SMOTE or ADASYN).\n",
        "\n",
        "**How Does Oversampling Work?**\n",
        "\n",
        "1. **Identifying Minority Class**:\n",
        "   - The method identifies the minority class in the dataset.\n",
        "\n",
        "2. **Generating Additional Samples**:\n",
        "   - Oversampling generates additional samples for the minority class to balance the class distribution. This can be done through simple duplication or synthetic sample generation (e.g., SMOTE, ADASYN).\n",
        "\n",
        "3. **Balancing the Dataset**:\n",
        "   - The resulting dataset has more balanced class distribution with additional instances in the minority class.\n",
        "\n",
        "**Advantages of Oversampling**:\n",
        "- Increases the representation of the minority class without reducing the number of majority class samples.\n",
        "- Can improve model performance on imbalanced datasets by providing more training examples for the minority class.\n",
        "\n",
        "**Limitations of Oversampling**:\n",
        "- Can lead to overfitting, especially if simple duplication is used, as the model might memorize the duplicated samples.\n",
        "- Increases the size of the dataset, which can lead to longer training times and higher computational costs.\n",
        "\n",
        "\n",
        "\n",
        "\n"
      ],
      "metadata": {
        "id": "yB6ToS82wU65"
      }
    },
    {
      "cell_type": "code",
      "source": [
        "from imblearn.over_sampling import SMOTE\n",
        "\n",
        "# Apply SMOTE to balance the training dataset\n",
        "smote = SMOTE(random_state=42)\n",
        "X_train_resampled, y_train_resampled = smote.fit_resample(X_train_processed, y_train)\n",
        "\n",
        "# Plot after resampling with SMOTE\n",
        "plot_class_distribution(y_train, y_train_resampled, title_before=\"Before Resampling\", title_after=\"After Resampling with SMOTE\")\n",
        "\n",
        "# Convert to PyTorch tensors\n",
        "X_train_tensor = torch.tensor(X_train_resampled, dtype=torch.float32)\n",
        "y_train_tensor = torch.tensor(y_train_resampled.values, dtype=torch.float32).unsqueeze(1)\n",
        "\n",
        "# Fit the model\n",
        "nn_estimator.fit(X_train_tensor.numpy(), y_train_tensor.numpy())\n",
        "\n",
        "# Predict on the test set with the optimal threshold\n",
        "test_predictions_optimal_threshold = nn_estimator.predict(X_test_tensor.numpy())\n",
        "\n",
        "# Evaluate the model with the optimal threshold\n",
        "print(\"SMOTE Resampling:\")\n",
        "print(classification_report(y_test_tensor.numpy(), test_predictions_optimal_threshold))"
      ],
      "metadata": {
        "id": "TAbc1IKBxN6h"
      },
      "execution_count": null,
      "outputs": []
    },
    {
      "cell_type": "markdown",
      "source": [
        "### Choosing Between Oversampling and Undersampling\n",
        "\n",
        "**When to Use Oversampling**:\n",
        "- When the dataset is small and removing majority class samples would lead to loss of valuable information.\n",
        "- When you want to improve model performance on the minority class by providing more training examples.\n",
        "- When you have the computational resources to handle the increased dataset size.\n",
        "\n",
        "**When to Use Undersampling**:\n",
        "- When the dataset is large, and you can afford to remove some majority class samples without losing significant information.\n",
        "- When you want to reduce the size of the dataset to decrease training times and computational costs.\n",
        "- When you want to quickly balance the class distribution without increasing the dataset size."
      ],
      "metadata": {
        "id": "JaUxkF4kxlZq"
      }
    },
    {
      "cell_type": "markdown",
      "source": [
        "## BalancedBaggingClassifier"
      ],
      "metadata": {
        "id": "lbsapjQrrHWC"
      }
    },
    {
      "cell_type": "code",
      "source": [
        "from imblearn.ensemble import BalancedBaggingClassifier\n",
        "from sklearn.tree import DecisionTreeClassifier\n",
        "\n",
        "# Define the BalancedBaggingClassifier\n",
        "bbc = BalancedBaggingClassifier(estimator=DecisionTreeClassifier(),\n",
        "                                sampling_strategy='auto',\n",
        "                                replacement=False,\n",
        "                                random_state=42)\n",
        "\n",
        "# Fit the model\n",
        "bbc.fit(X_train_processed, y_train)\n",
        "\n",
        "# Predict on the test set\n",
        "test_predictions = bbc.predict(X_test_processed)\n",
        "\n",
        "# Evaluate the model\n",
        "print(\"BalancedBaggingClassifier Resampling:\")\n",
        "print(classification_report(y_test_tensor.numpy(), test_predictions))"
      ],
      "metadata": {
        "colab": {
          "base_uri": "https://localhost:8080/"
        },
        "id": "rxg74bbirC1w",
        "outputId": "238f1829-b08c-434b-9176-6ccf09890c69"
      },
      "execution_count": 12,
      "outputs": [
        {
          "output_type": "stream",
          "name": "stdout",
          "text": [
            "BalancedBaggingClassifier Resampling:\n",
            "              precision    recall  f1-score   support\n",
            "\n",
            "         0.0       0.86      0.84      0.85      4673\n",
            "         1.0       0.48      0.52      0.50      1327\n",
            "\n",
            "    accuracy                           0.77      6000\n",
            "   macro avg       0.67      0.68      0.67      6000\n",
            "weighted avg       0.78      0.77      0.77      6000\n",
            "\n"
          ]
        }
      ]
    },
    {
      "cell_type": "code",
      "source": [],
      "metadata": {
        "id": "B9pTHI1fwHm8"
      },
      "execution_count": null,
      "outputs": []
    }
  ]
}