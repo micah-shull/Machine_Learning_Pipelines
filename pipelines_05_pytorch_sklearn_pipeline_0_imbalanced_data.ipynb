{
  "nbformat": 4,
  "nbformat_minor": 0,
  "metadata": {
    "colab": {
      "provenance": [],
      "toc_visible": true,
      "authorship_tag": "ABX9TyPyiSRpKtIiCxpAB3ADwi2G"
    },
    "kernelspec": {
      "name": "python3",
      "display_name": "Python 3"
    },
    "language_info": {
      "name": "python"
    }
  },
  "cells": [
    {
      "cell_type": "markdown",
      "source": [
        "## Establish a Baseline\n",
        "\n",
        "## Reasons for Incrementally Adding Complexity\n",
        "\n",
        "1. **Understanding the Model**:\n",
        "   - **Starting Simple**: Beginning with a simple model allows you to establish a baseline performance and understand the basic behavior of the model.\n",
        "   - **Diagnosing Issues**: Simple models are easier to debug. If there are any issues, they are more straightforward to identify and fix.\n",
        "\n",
        "2. **Preventing Overfitting**:\n",
        "   - **Controlled Complexity**: Gradually increasing complexity helps in controlling overfitting. You can monitor how the model's performance on the training and validation data changes as you add more layers, neurons, or other complexities.\n",
        "   - **Regularization**: Adding complexity slowly allows you to implement and fine-tune regularization techniques such as dropout, L2 regularization, or early stopping.\n",
        "\n",
        "3. **Efficient Resource Use**:\n",
        "   - **Resource Management**: Simple models require less computational power and memory, making them faster to train and easier to iterate upon. This is especially important in environments with limited resources.\n",
        "   - **Scalability**: You can incrementally scale up your model as needed, optimizing resource usage and training time.\n",
        "\n",
        "4. **Improved Model Performance**:\n",
        "   - **Layer-Wise Optimization**: By incrementally adding layers or neurons, you can optimize each part of the model. This helps in identifying the most effective architecture.\n",
        "   - **Hyperparameter Tuning**: Incremental complexity allows for systematic hyperparameter tuning, ensuring each added complexity contributes positively to the model's performance.\n",
        "\n",
        "5. **Building Intuition**:\n",
        "   - **Learning Process**: This approach helps build intuition about how different architectural changes impact model performance. It’s a valuable learning process for understanding deep learning principles.\n",
        "   - **Domain Knowledge**: Incorporating domain knowledge gradually into the model architecture can lead to better and more interpretable models."
      ],
      "metadata": {
        "id": "99k8oAPgiw_S"
      }
    },
    {
      "cell_type": "markdown",
      "source": [
        "### Step 1: Load and Preprocess the Dataset\n",
        "\n"
      ],
      "metadata": {
        "id": "5L9ykdfvhut2"
      }
    },
    {
      "cell_type": "code",
      "source": [
        "import pandas as pd\n",
        "from sklearn.model_selection import train_test_split\n",
        "from sklearn.pipeline import Pipeline\n",
        "from sklearn.compose import ColumnTransformer\n",
        "from sklearn.impute import SimpleImputer\n",
        "from sklearn.preprocessing import StandardScaler, OneHotEncoder\n",
        "\n",
        "# Load the dataset\n",
        "url = \"https://archive.ics.uci.edu/ml/machine-learning-databases/00350/default%20of%20credit%20card%20clients.xls\"\n",
        "df = pd.read_excel(url, header=1)\n",
        "\n",
        "# Rename columns to lower case and replace spaces with underscores\n",
        "df.columns = [col.lower().replace(' ', '_') for col in df.columns]\n",
        "\n",
        "# Select features and target\n",
        "target = 'default_payment_next_month'\n",
        "X = df.drop(columns=[target])\n",
        "y = df[target]\n",
        "\n",
        "# Split the data\n",
        "X_train, X_test, y_train, y_test = train_test_split(X, y, test_size=0.2, random_state=42)\n",
        "\n",
        "# Identify column types\n",
        "numeric_features = X_train.select_dtypes(include=['int64', 'float64']).columns.tolist()\n",
        "categorical_features = X_train.select_dtypes(include=['object', 'category']).columns.tolist()\n",
        "\n",
        "# Define preprocessing for numeric columns\n",
        "numeric_transformer = Pipeline(steps=[\n",
        "    ('imputer', SimpleImputer(strategy='median')),\n",
        "    ('scaler', StandardScaler())])\n",
        "\n",
        "# Define preprocessing for categorical columns\n",
        "categorical_transformer = Pipeline(steps=[\n",
        "    ('imputer', SimpleImputer(strategy='constant', fill_value='missing')),\n",
        "    ('onehot', OneHotEncoder(handle_unknown='ignore'))])\n",
        "\n",
        "# Combine preprocessing steps\n",
        "preprocessor = ColumnTransformer(\n",
        "    transformers=[\n",
        "        ('num', numeric_transformer, numeric_features),\n",
        "        ('cat', categorical_transformer, categorical_features)])\n",
        "\n",
        "# Create the preprocessing pipeline\n",
        "preprocessing_pipeline = Pipeline(steps=[('preprocessor', preprocessor)])\n",
        "\n",
        "# Fit and transform the data\n",
        "X_train_processed = preprocessing_pipeline.fit_transform(X_train)\n",
        "X_test_processed = preprocessing_pipeline.transform(X_test)"
      ],
      "metadata": {
        "id": "PrjjOGuAiTi4"
      },
      "execution_count": null,
      "outputs": []
    },
    {
      "cell_type": "markdown",
      "source": [
        "### Step 2: Apply SMOTE to Balance the Dataset"
      ],
      "metadata": {
        "id": "saJVxiiGiNHr"
      }
    },
    {
      "cell_type": "code",
      "source": [
        "from imblearn.over_sampling import SMOTE\n",
        "import torch\n",
        "\n",
        "# Apply SMOTE to balance the dataset\n",
        "smote = SMOTE(random_state=42)\n",
        "X_train_resampled, y_train_resampled = smote.fit_resample(X_train_processed, y_train)\n",
        "\n",
        "# Convert to PyTorch tensors\n",
        "X_train_tensor = torch.tensor(X_train_resampled, dtype=torch.float32)\n",
        "y_train_tensor = torch.tensor(y_train_resampled.values, dtype=torch.float32).unsqueeze(1)\n",
        "X_test_tensor = torch.tensor(X_test_processed, dtype=torch.float32)\n",
        "y_test_tensor = torch.tensor(y_test.values, dtype=torch.float32).unsqueeze(1)"
      ],
      "metadata": {
        "id": "FgMwBqsJiJxn"
      },
      "execution_count": null,
      "outputs": []
    },
    {
      "cell_type": "markdown",
      "source": [
        "#### Visualize the Distribution before and after SMOTE"
      ],
      "metadata": {
        "id": "gv4orursmqJ5"
      }
    },
    {
      "cell_type": "code",
      "source": [
        "import matplotlib.pyplot as plt\n",
        "import seaborn as sns\n",
        "from imblearn.over_sampling import SMOTE\n",
        "\n",
        "# Define custom colors for the bars\n",
        "# custom_colors = ['#1f77b4', '#ff7f0e']  # Blue for class 0, Orange for class 1\n",
        "custom_colors = ['yellowgreen', 'yellow']\n",
        "\n",
        "# Original target data plot\n",
        "plt.figure(figsize=(12, 6))\n",
        "\n",
        "plt.subplot(1, 2, 1)\n",
        "sns.countplot(x=y, hue=y, palette=custom_colors, legend=False)\n",
        "plt.title('Original Target Data')\n",
        "plt.xlabel('Class')\n",
        "plt.ylabel('Count')\n",
        "\n",
        "# Apply SMOTE to balance the dataset\n",
        "smote = SMOTE(random_state=42)\n",
        "X_train_resampled, y_train_resampled = smote.fit_resample(X_train_processed, y_train)\n",
        "\n",
        "# Resampled target data plot\n",
        "plt.subplot(1, 2, 2)\n",
        "sns.countplot(x=y_train_resampled, hue=y_train_resampled, palette=custom_colors, legend=False)\n",
        "plt.title('Resampled Target Data (After SMOTE)')\n",
        "plt.xlabel('Class')\n",
        "plt.ylabel('Count')\n",
        "\n",
        "plt.tight_layout()\n",
        "plt.show()"
      ],
      "metadata": {
        "colab": {
          "base_uri": "https://localhost:8080/",
          "height": 488
        },
        "id": "zOjfgVWikCDp",
        "outputId": "beec2995-ad0f-49b4-d714-2ec66e83d5e1"
      },
      "execution_count": null,
      "outputs": [
        {
          "output_type": "display_data",
          "data": {
            "text/plain": [
              "<Figure size 1200x600 with 2 Axes>"
            ],
            "image/png": "[encoded data removed]"
          },
          "metadata": {}
        }
      ]
    },
    {
      "cell_type": "code",
      "source": [
        "# Display value counts before SMOTE\n",
        "original_counts = y.value_counts()\n",
        "print(\"Original Target Data Value Counts:\")\n",
        "print(original_counts)\n",
        "\n",
        "# Display value counts after SMote\n",
        "resampled_counts = y_train_resampled.value_counts()\n",
        "print(\"Resampled Target Data Value Counts (After SMOTE):\")\n",
        "print(resampled_counts)"
      ],
      "metadata": {
        "colab": {
          "base_uri": "https://localhost:8080/"
        },
        "id": "K3q9bO49nEYV",
        "outputId": "d2f7c7ce-a13b-45be-8a10-e4248d3f9baf"
      },
      "execution_count": null,
      "outputs": [
        {
          "output_type": "stream",
          "name": "stdout",
          "text": [
            "Original Target Data Value Counts:\n",
            "default_payment_next_month\n",
            "0    23364\n",
            "1     6636\n",
            "Name: count, dtype: int64\n",
            "Resampled Target Data Value Counts (After SMOTE):\n",
            "default_payment_next_month\n",
            "0    18677\n",
            "1    18677\n",
            "Name: count, dtype: int64\n"
          ]
        }
      ]
    },
    {
      "cell_type": "markdown",
      "source": [
        "### Step 3: Define the Most Simple PyTorch Neural Network Model"
      ],
      "metadata": {
        "id": "Zcw1icVsiFy8"
      }
    },
    {
      "cell_type": "code",
      "source": [
        "import torch.nn as nn\n",
        "\n",
        "class SimpleNN(nn.Module):\n",
        "    def __init__(self, input_dim):\n",
        "        super(SimpleNN, self).__init__()\n",
        "        self.fc1 = nn.Linear(input_dim, 1)\n",
        "\n",
        "    def forward(self, x):\n",
        "        x = torch.sigmoid(self.fc1(x))\n",
        "        return x"
      ],
      "metadata": {
        "id": "4AQISCpgiDfi"
      },
      "execution_count": null,
      "outputs": []
    },
    {
      "cell_type": "markdown",
      "source": [
        "### Step 4: Define the sklearn Wrapper"
      ],
      "metadata": {
        "id": "s65jNBZZh_9O"
      }
    },
    {
      "cell_type": "code",
      "source": [
        "from sklearn.base import BaseEstimator, ClassifierMixin\n",
        "import torch.optim as optim\n",
        "\n",
        "class SklearnNN(BaseEstimator, ClassifierMixin):\n",
        "    def __init__(self, input_dim, learning_rate=0.001, epochs=50, batch_size=64):\n",
        "        self.input_dim = input_dim\n",
        "        self.learning_rate = learning_rate\n",
        "        self.epochs = epochs\n",
        "        self.batch_size = batch_size\n",
        "        self.model = SimpleNN(self.input_dim)\n",
        "\n",
        "    def fit(self, X, y):\n",
        "        criterion = nn.BCELoss()\n",
        "        optimizer = optim.Adam(self.model.parameters(), lr=self.learning_rate)\n",
        "        train_dataset = torch.utils.data.TensorDataset(torch.tensor(X, dtype=torch.float32), torch.tensor(y, dtype=torch.float32).unsqueeze(1))\n",
        "        train_loader = torch.utils.data.DataLoader(train_dataset, batch_size=self.batch_size, shuffle=True)\n",
        "\n",
        "        for epoch in range(self.epochs):\n",
        "            self.model.train()\n",
        "            for inputs, targets in train_loader:\n",
        "                optimizer.zero_grad()\n",
        "                outputs = self.model(inputs)\n",
        "                loss = criterion(outputs, targets.view(-1, 1))\n",
        "                loss.backward()\n",
        "                optimizer.step()\n",
        "        return self\n",
        "\n",
        "    def predict(self, X):\n",
        "        self.model.eval()\n",
        "        with torch.no_grad():\n",
        "            outputs = self.model(torch.tensor(X, dtype=torch.float32))\n",
        "            predictions = (outputs > 0.5).float()\n",
        "        return predictions.numpy().squeeze()"
      ],
      "metadata": {
        "id": "ILUqLRvGh6mA"
      },
      "execution_count": null,
      "outputs": []
    },
    {
      "cell_type": "markdown",
      "source": [
        "### Step 5: Train and Evaluate the Model"
      ],
      "metadata": {
        "id": "BJwdz74th2PE"
      }
    },
    {
      "cell_type": "code",
      "source": [
        "# Create an instance of SklearnNN\n",
        "input_dim = X_train_tensor.shape[1]\n",
        "nn_estimator = SklearnNN(input_dim=input_dim)\n",
        "\n",
        "# Fit the model\n",
        "nn_estimator.fit(X_train_tensor.numpy(), y_train_tensor.numpy())\n",
        "\n",
        "# Predict on the test set\n",
        "test_predictions = nn_estimator.predict(X_test_tensor.numpy())\n",
        "\n",
        "# Evaluate the model\n",
        "from sklearn.metrics import classification_report\n",
        "print(classification_report(y_test_tensor.numpy(), test_predictions))"
      ],
      "metadata": {
        "id": "HFz5vLycoiqL",
        "colab": {
          "base_uri": "https://localhost:8080/"
        },
        "outputId": "e638495d-48b0-48b8-d720-3172454d5a56"
      },
      "execution_count": null,
      "outputs": [
        {
          "output_type": "stream",
          "name": "stdout",
          "text": [
            "              precision    recall  f1-score   support\n",
            "\n",
            "         0.0       0.88      0.69      0.77      4687\n",
            "         1.0       0.37      0.66      0.48      1313\n",
            "\n",
            "    accuracy                           0.68      6000\n",
            "   macro avg       0.63      0.67      0.63      6000\n",
            "weighted avg       0.77      0.68      0.71      6000\n",
            "\n"
          ]
        }
      ]
    },
    {
      "cell_type": "markdown",
      "source": [
        "Certainly! Let's analyze the classification report with the updated information that the data has been balanced using SMOTE:\n",
        "\n",
        "## Classification Report Analysis\n",
        "\n",
        "### Key Metrics to Focus On\n",
        "\n",
        "1. **Precision**:\n",
        "   - **Class 0 (No Default)**: 0.88\n",
        "   - **Class 1 (Default)**: 0.37\n",
        "   - Precision for class 0 is high, indicating that when the model predicts no default, it is usually correct. However, precision for class 1 is relatively low, meaning there are more false positives (instances predicted as defaults that are actually no defaults).\n",
        "\n",
        "2. **Recall**:\n",
        "   - **Class 0 (No Default)**: 0.69\n",
        "   - **Class 1 (Default)**: 0.66\n",
        "   - Recall for class 0 is moderate, indicating that the model correctly identifies 68% of the no default cases. Recall for class 1 is relatively high, meaning the model correctly identifies 66% of the default cases.\n",
        "\n",
        "3. **F1-score**:\n",
        "   - **Class 0 (No Default)**: 0.77\n",
        "   - **Class 1 (Default)**: 0.48\n",
        "   - The F1-score for class 0 is significantly higher than for class 1, reflecting better overall performance in predicting no defaults compared to defaults.\n",
        "\n",
        "4. **Support**:\n",
        "   - **Class 0 (No Default)**: 4687 instances\n",
        "   - **Class 1 (Default)**: 1313 instances\n",
        "   - The support values indicate the number of instances in each class in the test set, which remains imbalanced.\n",
        "\n",
        "5. **Overall Accuracy**:\n",
        "   - The overall accuracy is 0.68, meaning the model correctly classifies 68% of the instances in the dataset.\n",
        "\n",
        "6. **Macro Average**:\n",
        "   - **Precision**: 0.63\n",
        "   - **Recall**: 0.67\n",
        "   - **F1-score**: 0.62\n",
        "   - The macro average is the arithmetic mean of the precision, recall, and F1-score for both classes. It treats both classes equally, regardless of their support.\n",
        "\n",
        "7. **Weighted Average**:\n",
        "   - **Precision**: 0.77\n",
        "   - **Recall**: 0.68\n",
        "   - **F1-score**: 0.71\n",
        "   - The weighted average takes into account the support of each class, providing an overall measure that reflects the class distribution in the test set.\n",
        "\n",
        "### Observations\n",
        "\n",
        "1. **Class Imbalance in Test Set**:\n",
        "   - Although the training set was balanced using SMOTE, the test set remains imbalanced, with a higher number of class 0 instances compared to class 1. This can affect the overall performance metrics.\n",
        "\n",
        "2. **High Recall for Class 1**:\n",
        "   - The model has a relatively high recall for class 1 (defaults), indicating that it correctly identifies a substantial proportion of default cases. This is crucial in scenarios where identifying defaults is more important than avoiding false positives.\n",
        "\n",
        "3. **Low Precision for Class 1**:\n",
        "   - The precision for class 1 is relatively low, meaning that many instances predicted as defaults are actually no defaults. This could lead to unnecessary actions or interventions based on false positive predictions.\n",
        "\n",
        "4. **Trade-off Between Precision and Recall**:\n",
        "   - The model demonstrates a trade-off between precision and recall for class 1. High recall comes at the cost of lower precision, which is typical in scenarios where false negatives are more costly than false positives.\n",
        "\n",
        "5. **Moderate Overall Performance**:\n",
        "   - The overall accuracy is moderate at 0.68, but this metric can be misleading in imbalanced datasets. The weighted average F1-score (0.71) provides a better measure of the model's performance, considering the class imbalance in the test set.\n",
        "\n",
        "### Next Steps\n",
        "\n",
        "To further improve the model's performance, consider the following steps:\n",
        "\n",
        "1. **Tune Hyperparameters**:\n",
        "   - Experiment with different learning rates, batch sizes, and the number of epochs to find the optimal settings for the model.\n",
        "\n",
        "2. **Experiment with Different Architectures**:\n",
        "   - Try different neural network architectures, including deeper networks or different activation functions, to see if they provide better performance.\n",
        "\n",
        "3. **Adjust Decision Threshold**:\n",
        "   - Experiment with different decision thresholds for the classification to see if adjusting the threshold can improve precision for class 1 without significantly impacting recall.\n",
        "\n",
        "4. **Implement Regularization Techniques**:\n",
        "   - Add regularization techniques like L2 regularization (weight decay) to prevent overfitting and improve generalization.\n",
        "\n",
        "5. **Further Address Class Imbalance**:\n",
        "   - Consider using cost-sensitive learning or ensemble methods to handle class imbalance more effectively.\n",
        "\n",
        "By systematically exploring these options, you can improve the model's performance, especially in terms of balancing precision and recall for both classes."
      ],
      "metadata": {
        "id": "dNAMwjK8j8ct"
      }
    },
    {
      "cell_type": "markdown",
      "source": [
        "The imbalance in the test set arises from the natural distribution of the classes in the original dataset. Even though SMOTE was applied to balance the training set, it does not affect the test set. The test set remains a true representation of the real-world distribution of the data, which is why it shows a higher number of instances for class 0 compared to class 1.\n",
        "\n",
        "### Why the Imbalance Exists\n",
        "\n",
        "1. **Real-World Distribution**:\n",
        "   - The imbalance in the dataset reflects the real-world scenario where defaults are less common than non-defaults. This is typical in many financial datasets where the number of people who default on payments is much smaller compared to those who do not.\n",
        "\n",
        "2. **Test Set Sampling**:\n",
        "   - The test set is a random sample from the original dataset. Since the original dataset is imbalanced, the test set will likely retain this imbalance.\n",
        "\n",
        "### Addressing the Imbalance in the Test Set\n",
        "\n",
        "While SMOTE is used to balance the training set to help the model learn equally from both classes, there are several strategies to handle the imbalance in the test set:\n",
        "\n",
        "1. **Stratified Sampling**:\n",
        "   - Use stratified sampling to ensure that the training and test sets maintain the same class distribution. This does not change the imbalance but ensures consistent distribution in both sets.\n",
        "\n",
        "2. **Evaluate with Balanced Metrics**:\n",
        "   - Use metrics that are less sensitive to class imbalance, such as precision, recall, F1-score, and the ROC-AUC score, rather than relying solely on accuracy.\n",
        "   - Report the performance metrics for each class separately to get a clear picture of the model's performance on the minority class.\n",
        "\n",
        "3. **Use Additional Balancing Techniques**:\n",
        "   - Apply post-processing techniques such as adjusting the decision threshold or using cost-sensitive learning during evaluation.\n",
        "   - Consider ensemble methods or different resampling strategies if the test set imbalance significantly affects performance metrics.\n"
      ],
      "metadata": {
        "id": "cmLnnoLqqfmJ"
      }
    },
    {
      "cell_type": "markdown",
      "source": [
        "### Implementing Stratified Sampling\n",
        "\n",
        "To ensure that both training and test sets have the same class distribution, you can use stratified sampling during the train-test split:\n",
        "\n",
        "\n",
        "### Summary\n",
        "\n",
        "- **Class Imbalance**: The test set remains imbalanced because it reflects the real-world distribution of the data.\n",
        "- **Strategies**: Use stratified sampling, balanced metrics, and post-processing techniques to handle the imbalance.\n",
        "- **Implementation**: The provided code uses stratified sampling to ensure consistent class distribution in both training and test sets.\n",
        "\n",
        "By applying these strategies, you can better handle the imbalance in the test set and obtain more reliable performance metrics for your model."
      ],
      "metadata": {
        "id": "u2dWU0MbrDuG"
      }
    },
    {
      "cell_type": "code",
      "source": [
        "from sklearn.model_selection import train_test_split\n",
        "\n",
        "# Perform stratified train-test split\n",
        "X_train, X_test, y_train, y_test = train_test_split(X, y, test_size=0.2, random_state=42, stratify=y)\n",
        "\n",
        "# Identify column types\n",
        "numeric_features = X_train.select_dtypes(include=['int64', 'float64']).columns.tolist()\n",
        "categorical_features = X_train.select_dtypes(include=['object', 'category']).columns.tolist()\n",
        "\n",
        "# Define preprocessing for numeric columns\n",
        "numeric_transformer = Pipeline(steps=[\n",
        "    ('imputer', SimpleImputer(strategy='median')),\n",
        "    ('scaler', StandardScaler())])\n",
        "\n",
        "# Define preprocessing for categorical columns\n",
        "categorical_transformer = Pipeline(steps=[\n",
        "    ('imputer', SimpleImputer(strategy='constant', fill_value='missing')),\n",
        "    ('onehot', OneHotEncoder(handle_unknown='ignore'))])\n",
        "\n",
        "# Combine preprocessing steps\n",
        "preprocessor = ColumnTransformer(\n",
        "    transformers=[\n",
        "        ('num', numeric_transformer, numeric_features),\n",
        "        ('cat', categorical_transformer, categorical_features)])\n",
        "\n",
        "# Create the preprocessing pipeline\n",
        "preprocessing_pipeline = Pipeline(steps=[('preprocessor', preprocessor)])\n",
        "\n",
        "# Fit and transform the data\n",
        "X_train_processed = preprocessing_pipeline.fit_transform(X_train)\n",
        "X_test_processed = preprocessing_pipeline.transform(X_test)\n",
        "\n",
        "# Apply SMOTE to balance the training dataset\n",
        "smote = SMOTE(random_state=42)\n",
        "X_train_resampled, y_train_resampled = smote.fit_resample(X_train_processed, y_train)\n",
        "\n",
        "# Convert to PyTorch tensors\n",
        "X_train_tensor = torch.tensor(X_train_resampled, dtype=torch.float32)\n",
        "y_train_tensor = torch.tensor(y_train_resampled.values, dtype=torch.float32).unsqueeze(1)\n",
        "X_test_tensor = torch.tensor(X_test_processed, dtype=torch.float32)\n",
        "y_test_tensor = torch.tensor(y_test.values, dtype=torch.float32).unsqueeze(1)"
      ],
      "metadata": {
        "id": "EeosUSvwkUW8"
      },
      "execution_count": null,
      "outputs": []
    },
    {
      "cell_type": "code",
      "source": [
        "# Create an instance of SklearnNN\n",
        "input_dim = X_train_tensor.shape[1]\n",
        "nn_estimator = SklearnNN(input_dim=input_dim)\n",
        "\n",
        "# Fit the model\n",
        "nn_estimator.fit(X_train_tensor.numpy(), y_train_tensor.numpy())\n",
        "\n",
        "# Predict on the test set\n",
        "test_predictions = nn_estimator.predict(X_test_tensor.numpy())\n",
        "\n",
        "# Evaluate the model\n",
        "from sklearn.metrics import classification_report\n",
        "print(classification_report(y_test_tensor.numpy(), test_predictions))"
      ],
      "metadata": {
        "colab": {
          "base_uri": "https://localhost:8080/"
        },
        "id": "tKlmk4f_rjrI",
        "outputId": "e1478ed1-8829-4aee-800b-8b9a80c00246"
      },
      "execution_count": null,
      "outputs": [
        {
          "output_type": "stream",
          "name": "stdout",
          "text": [
            "              precision    recall  f1-score   support\n",
            "\n",
            "         0.0       0.87      0.69      0.77      4673\n",
            "         1.0       0.36      0.63      0.46      1327\n",
            "\n",
            "    accuracy                           0.68      6000\n",
            "   macro avg       0.62      0.66      0.61      6000\n",
            "weighted avg       0.76      0.68      0.70      6000\n",
            "\n"
          ]
        }
      ]
    },
    {
      "cell_type": "markdown",
      "source": [
        "Let's analyze the updated classification report after applying stratified sampling during the train-test split and using SMOTE for balancing the training set:\n",
        "\n",
        "## Classification Report Analysis\n",
        "\n",
        "1. **Class Imbalance in Test Set**:\n",
        "   - The test set remains imbalanced, reflecting the real-world distribution of the data despite the stratified sampling. This impacts the overall performance metrics.\n",
        "\n",
        "2. **Improved Recall for Class 1**:\n",
        "   - The model has a relatively high recall for class 1 (defaults) at 0.63. This indicates that the model is correctly identifying a substantial proportion of default cases. This is a crucial improvement, especially in scenarios where identifying defaults is important.\n",
        "\n",
        "3. **Low Precision for Class 1**:\n",
        "   - The precision for class 1 is relatively low at 0.36. This means that many instances predicted as defaults are actually no defaults. This could lead to unnecessary actions or interventions based on false positive predictions.\n",
        "\n",
        "4. **Balanced Recall**:\n",
        "   - The recall for both classes is relatively balanced, which indicates that the model is fairly good at identifying both no defaults and defaults.\n",
        "\n",
        "5. **Overall Performance**:\n",
        "   - The overall accuracy is moderate at 0.68. The weighted average F1-score (0.70) provides a more comprehensive measure of the model's performance, considering the class imbalance in the test set.\n",
        "\n",
        "### Next Steps\n",
        "\n",
        "To further improve the model's performance, consider the following steps:\n",
        "\n",
        "1. **Tune Hyperparameters**:\n",
        "   - Experiment with different learning rates, batch sizes, and the number of epochs to find the optimal settings for the model.\n",
        "\n",
        "2. **Experiment with Different Architectures**:\n",
        "   - Try different neural network architectures, including deeper networks or different activation functions, to see if they provide better performance.\n",
        "\n",
        "3. **Adjust Decision Threshold**:\n",
        "   - Experiment with different decision thresholds for the classification to see if adjusting the threshold can improve precision for class 1 without significantly impacting recall.\n",
        "\n",
        "4. **Implement Regularization Techniques**:\n",
        "   - Add regularization techniques like L2 regularization (weight decay) to prevent overfitting and improve generalization.\n",
        "\n",
        "5. **Further Address Class Imbalance**:\n",
        "   - Consider using cost-sensitive learning or ensemble methods to handle class imbalance more effectively.\n",
        "\n",
        "By systematically exploring these options, you can improve the model's performance, especially in terms of balancing precision and recall for both classes."
      ],
      "metadata": {
        "id": "xn9UTwuWsZlm"
      }
    },
    {
      "cell_type": "markdown",
      "source": [
        "\n",
        "\n",
        "### Additional Strategies for Handling Imbalanced Data\n",
        "\n",
        "1. **Use Different Resampling Techniques**:\n",
        "   - **Under-sampling**: Reduce the number of instances in the majority class to balance the dataset. This can be done in combination with SMOTE to avoid losing too much data.\n",
        "   - **Over-sampling with SMOTE Variants**: Use variants of SMOTE like SMOTENC (for categorical data) or Borderline-SMOTE to generate synthetic samples in a more sophisticated manner.\n",
        "\n",
        "2. **Use Ensemble Methods**:\n",
        "   - **Bagging and Boosting**: Techniques like Random Forest, AdaBoost, and Gradient Boosting can be effective on imbalanced datasets. They can be adapted to focus more on the minority class.\n",
        "   - **Balanced Random Forest**: This is a variant of Random Forest that resamples the data at each iteration to balance the classes.\n",
        "\n",
        "3. **Cost-Sensitive Learning**:\n",
        "   - **Weighted Loss Functions**: Modify the loss function to penalize misclassifications of the minority class more than those of the majority class. For example, in PyTorch, you can use the `pos_weight` parameter in `BCELoss`.\n",
        "   - **Class Weights in Sklearn**: Use the `class_weight` parameter in classifiers like `LogisticRegression` or `RandomForestClassifier` to give more importance to the minority class.\n",
        "\n",
        "4. **Anomaly Detection Approaches**:\n",
        "   - Treat the minority class as anomalies or outliers and use anomaly detection techniques to identify them.\n",
        "\n",
        "5. **Synthetic Data Generation**:\n",
        "   - Use GANs (Generative Adversarial Networks) to generate synthetic data for the minority class.\n",
        "\n"
      ],
      "metadata": {
        "id": "138zdm6lunG-"
      }
    },
    {
      "cell_type": "markdown",
      "source": [
        "\n",
        "\n",
        "#### Under-sampling with SMOTE\n",
        "\n",
        "1. **Under-sampling with SMOTE**: Combines under-sampling the majority class with SMOTE to balance the dataset.\n",
        "2. **Weighted Loss Function**: Uses a weighted loss function to give more importance to the minority class during training.\n",
        "\n",
        "These techniques can help improve the performance of your model on imbalanced data. By exploring these additional options, you can address the class imbalance more effectively and potentially achieve better performance on the minority class."
      ],
      "metadata": {
        "id": "YkJPAMwMu06Z"
      }
    },
    {
      "cell_type": "code",
      "source": [
        "from imblearn.combine import SMOTEENN\n",
        "\n",
        "# Apply SMOTEENN to balance the dataset\n",
        "smote_enn = SMOTEENN(random_state=42)\n",
        "X_train_resampled, y_train_resampled = smote_enn.fit_resample(X_train_processed, y_train)\n",
        "\n",
        "# Convert to PyTorch tensors\n",
        "X_train_tensor = torch.tensor(X_train_resampled, dtype=torch.float32)\n",
        "y_train_tensor = torch.tensor(y_train_resampled.values, dtype=torch.float32).unsqueeze(1)\n",
        "X_test_tensor = torch.tensor(X_test_processed, dtype=torch.float32)\n",
        "y_test_tensor = torch.tensor(y_test.values, dtype=torch.float32).unsqueeze(1)"
      ],
      "metadata": {
        "id": "8khrndJmvJ-L"
      },
      "execution_count": null,
      "outputs": []
    },
    {
      "cell_type": "code",
      "source": [
        "import matplotlib.pyplot as plt\n",
        "import seaborn as sns\n",
        "from imblearn.combine import SMOTEENN\n",
        "\n",
        "# Define custom colors for the bars\n",
        "custom_colors = ['yellowgreen', 'yellow']  # Define your custom colors\n",
        "\n",
        "# Original target data plot\n",
        "plt.figure(figsize=(12, 6))\n",
        "\n",
        "plt.subplot(1, 2, 1)\n",
        "sns.countplot(x=y, hue=y, palette=custom_colors, legend=False)\n",
        "plt.title('Original Target Data')\n",
        "plt.xlabel('Class')\n",
        "plt.ylabel('Count')\n",
        "\n",
        "# Apply SMOTEENN to balance the dataset\n",
        "smote_enn = SMOTEENN(random_state=42)\n",
        "X_train_resampled, y_train_resampled = smote_enn.fit_resample(X_train_processed, y_train)\n",
        "\n",
        "# Resampled target data plot\n",
        "plt.subplot(1, 2, 2)\n",
        "sns.countplot(x=y_train_resampled, hue=y_train_resampled, palette=custom_colors, legend=False)\n",
        "plt.title('Resampled Target Data (After SMOTEENN)')\n",
        "plt.xlabel('Class')\n",
        "plt.ylabel('Count')\n",
        "\n",
        "plt.tight_layout()\n",
        "plt.show()\n",
        "\n",
        "# Display value counts before and after resampling\n",
        "print(\"Original Target Data Value Counts:\")\n",
        "print(y.value_counts())\n",
        "print(\"\\nResampled Target Data Value Counts (After SMOTEENN):\")\n",
        "print(y_train_resampled.value_counts())\n"
      ],
      "metadata": {
        "colab": {
          "base_uri": "https://localhost:8080/",
          "height": 679
        },
        "id": "LWRhRudyvVZi",
        "outputId": "6faa248e-dde7-41b9-f9f3-4cae71ecbb9b"
      },
      "execution_count": null,
      "outputs": [
        {
          "output_type": "display_data",
          "data": {
            "text/plain": [
              "<Figure size 1200x600 with 2 Axes>"
            ],
            "image/png": "[encoded data removed]"
          },
          "metadata": {}
        },
        {
          "output_type": "stream",
          "name": "stdout",
          "text": [
            "Original Target Data Value Counts:\n",
            "default_payment_next_month\n",
            "0    23364\n",
            "1     6636\n",
            "Name: count, dtype: int64\n",
            "\n",
            "Resampled Target Data Value Counts (After SMOTEENN):\n",
            "default_payment_next_month\n",
            "1    14996\n",
            "0     9626\n",
            "Name: count, dtype: int64\n"
          ]
        }
      ]
    },
    {
      "cell_type": "markdown",
      "source": [
        "#### Weighted Loss Function\n",
        "\n",
        "A weighted loss function is used to handle class imbalance in classification problems by assigning different weights to the classes. This approach ensures that the model gives more importance to the minority class during training. In the context of binary classification, the weighted loss function can help improve the model's performance for the minority class by penalizing misclassifications of this class more heavily.\n",
        "\n",
        "### How It Works\n",
        "\n",
        "1. **Class Weights Calculation**:\n",
        "   - Class weights are calculated based on the frequency of each class in the training data. The weight for a class is typically inversely proportional to its frequency.\n",
        "   - For instance, if the minority class occurs less frequently, it will be assigned a higher weight.\n",
        "\n",
        "2. **Incorporating Weights into Loss Function**:\n",
        "   - The calculated class weights are incorporated into the loss function. In PyTorch, this can be done using the `pos_weight` parameter for `nn.BCELoss` (Binary Cross Entropy Loss).\n",
        "\n",
        "3. **Penalizing Misclassifications**:\n",
        "   - During training, the loss function will penalize misclassifications of the minority class more than those of the majority class. This encourages the model to pay more attention to correctly classifying instances of the minority class.\n",
        "\n"
      ],
      "metadata": {
        "id": "xdP8LnTCvMVX"
      }
    },
    {
      "cell_type": "code",
      "source": [
        "import numpy as np\n",
        "import torch\n",
        "import torch.nn as nn\n",
        "import torch.optim as optim\n",
        "from sklearn.base import BaseEstimator, ClassifierMixin\n",
        "\n",
        "class SklearnNNWeightedLoss(BaseEstimator, ClassifierMixin):\n",
        "    def __init__(self, input_dim, learning_rate=0.001, epochs=50, batch_size=64, pos_weight=1.0):\n",
        "        self.input_dim = input_dim\n",
        "        self.learning_rate = learning_rate\n",
        "        self.epochs = epochs\n",
        "        self.batch_size = batch_size\n",
        "        self.pos_weight = torch.tensor(pos_weight, dtype=torch.float32)\n",
        "        self.model = SimpleNN(self.input_dim)\n",
        "\n",
        "    def fit(self, X, y):\n",
        "        criterion = nn.BCEWithLogitsLoss(pos_weight=self.pos_weight)\n",
        "        optimizer = optim.Adam(self.model.parameters(), lr=self.learning_rate)\n",
        "        train_dataset = torch.utils.data.TensorDataset(torch.tensor(X, dtype=torch.float32), torch.tensor(y, dtype=torch.float32).unsqueeze(1))\n",
        "        train_loader = torch.utils.data.DataLoader(train_dataset, batch_size=self.batch_size, shuffle=True)\n",
        "\n",
        "        for epoch in range(self.epochs):\n",
        "            self.model.train()\n",
        "            for inputs, targets in train_loader:\n",
        "                optimizer.zero_grad()\n",
        "                outputs = self.model(inputs)\n",
        "                loss = criterion(outputs, targets.view(-1, 1))\n",
        "                loss.backward()\n",
        "                optimizer.step()\n",
        "        return self\n",
        "\n",
        "    def predict(self, X):\n",
        "        self.model.eval()\n",
        "        with torch.no_grad():\n",
        "            outputs = self.model(torch.tensor(X, dtype=torch.float32))\n",
        "            predictions = (torch.sigmoid(outputs) > 0.5).float()\n",
        "        return predictions.numpy().squeeze()\n",
        "\n",
        "# Define the simple PyTorch neural network model\n",
        "class SimpleNN(nn.Module):\n",
        "    def __init__(self, input_dim):\n",
        "        super(SimpleNN, self).__init__()\n",
        "        self.fc1 = nn.Linear(input_dim, 1)\n",
        "\n",
        "    def forward(self, x):\n",
        "        x = self.fc1(x)\n",
        "        return x\n",
        "\n",
        "# Calculate the class weights\n",
        "class_weights = len(y_train) / (2 * np.bincount(y_train))\n",
        "\n",
        "# Create an instance of SklearnNNWeightedLoss\n",
        "input_dim = X_train_tensor.shape[1]\n",
        "nn_estimator_weighted = SklearnNNWeightedLoss(input_dim=input_dim, pos_weight=class_weights[1])\n",
        "\n",
        "# Fit the model\n",
        "nn_estimator_weighted.fit(X_train_tensor.numpy(), y_train_tensor.numpy())\n",
        "\n",
        "# Predict on the test set\n",
        "test_predictions_weighted = nn_estimator_weighted.predict(X_test_tensor.numpy())\n",
        "\n",
        "# Evaluate the model\n",
        "from sklearn.metrics import classification_report\n",
        "print(classification_report(y_test_tensor.numpy(), test_predictions_weighted))"
      ],
      "metadata": {
        "colab": {
          "base_uri": "https://localhost:8080/"
        },
        "id": "JBsHBRnhwPSb",
        "outputId": "b09e118e-1a3b-4267-bc9b-d3904575e000"
      },
      "execution_count": null,
      "outputs": [
        {
          "output_type": "stream",
          "name": "stdout",
          "text": [
            "              precision    recall  f1-score   support\n",
            "\n",
            "         0.0       0.88      0.21      0.34      4673\n",
            "         1.0       0.24      0.90      0.38      1327\n",
            "\n",
            "    accuracy                           0.36      6000\n",
            "   macro avg       0.56      0.55      0.36      6000\n",
            "weighted avg       0.74      0.36      0.35      6000\n",
            "\n"
          ]
        }
      ]
    },
    {
      "cell_type": "markdown",
      "source": [
        "## Classification Report Analysis\n",
        "\n",
        "### Key Metrics to Focus On\n",
        "\n",
        "1. **Precision**:\n",
        "   - **Class 0 (No Default)**: 0.88\n",
        "   - **Class 1 (Default)**: 0.24\n",
        "   - Precision for class 0 is very high, indicating that when the model predicts no default, it is usually correct. However, precision for class 1 is low, indicating many false positives (instances predicted as defaults that are actually no defaults).\n",
        "\n",
        "2. **Recall**:\n",
        "   - **Class 0 (No Default)**: 0.21\n",
        "   - **Class 1 (Default)**: 0.90\n",
        "   - Recall for class 0 is very low, indicating that the model is missing a significant number of no default cases. Recall for class 1 is very high, indicating that the model correctly identifies most default cases.\n",
        "\n",
        "3. **F1-score**:\n",
        "   - **Class 0 (No Default)**: 0.34\n",
        "   - **Class 1 (Default)**: 0.38\n",
        "   - The F1-score for both classes is low, reflecting poor overall performance.\n",
        "\n",
        "4. **Support**:\n",
        "   - **Class 0 (No Default)**: 4673 instances\n",
        "   - **Class 1 (Default)**: 1327 instances\n",
        "\n",
        "5. **Overall Accuracy**:\n",
        "   - The overall accuracy is 0.36, meaning the model correctly classifies only 36% of the instances.\n",
        "\n",
        "6. **Macro Average**:\n",
        "   - **Precision**: 0.56\n",
        "   - **Recall**: 0.55\n",
        "   - **F1-score**: 0.36\n",
        "   - The macro average treats both classes equally, regardless of their support.\n",
        "\n",
        "7. **Weighted Average**:\n",
        "   - **Precision**: 0.74\n",
        "   - **Recall**: 0.36\n",
        "   - **F1-score**: 0.35\n",
        "   - The weighted average takes into account the support of each class, providing an overall measure that reflects the class distribution in the test set.\n",
        "\n",
        "### Observations\n",
        "\n",
        "1. **High Recall for Class 1 (Defaults)**:\n",
        "   - The model has a very high recall for class 1, meaning it correctly identifies 90% of the default cases. This is beneficial in scenarios where identifying defaults is critical.\n",
        "\n",
        "2. **Low Precision for Class 1 (Defaults)**:\n",
        "   - The precision for class 1 is very low, indicating a high number of false positives. This suggests that while the model is good at identifying defaults, it also incorrectly predicts many no defaults as defaults.\n",
        "\n",
        "3. **Low Recall for Class 0 (No Defaults)**:\n",
        "   - The model has a very low recall for class 0, meaning it misses a significant number of no default cases. This could be problematic as it indicates that many non-default instances are not being correctly identified.\n",
        "\n",
        "4. **Trade-off in Precision and Recall**:\n",
        "   - There is a significant trade-off between precision and recall for class 1. The high recall comes at the cost of low precision, indicating that the model is heavily biased towards predicting defaults.\n",
        "\n",
        "5. **Overall Low Accuracy**:\n",
        "   - The overall accuracy is low at 0.36, suggesting that the model's performance is not satisfactory. The weighted average F1-score of 0.35 further supports this conclusion.\n",
        "\n",
        "### Next Steps\n",
        "\n",
        "To improve the model's performance, consider the following strategies:\n",
        "\n",
        "1. **Adjust the Class Weights**:\n",
        "   - Experiment with different class weights to find a better balance between precision and recall for both classes.\n",
        "\n",
        "2. **Tune Hyperparameters**:\n",
        "   - Experiment with different learning rates, batch sizes, and the number of epochs to find the optimal settings for the model.\n",
        "\n",
        "3. **Experiment with Different Architectures**:\n",
        "   - Try different neural network architectures, including deeper networks or different activation functions, to see if they provide better performance.\n",
        "\n",
        "4. **Adjust Decision Threshold**:\n",
        "   - Experiment with different decision thresholds to improve precision for class 1 without significantly impacting recall.\n",
        "\n",
        "5. **Implement Regularization Techniques**:\n",
        "   - Add regularization techniques like L2 regularization (weight decay) to prevent overfitting and improve generalization.\n",
        "\n",
        "6. **Further Address Class Imbalance**:\n",
        "   - Consider using cost-sensitive learning or ensemble methods to handle class imbalance more effectively.\n",
        "\n",
        "\n"
      ],
      "metadata": {
        "id": "qUnYt3x01P3_"
      }
    },
    {
      "cell_type": "markdown",
      "source": [
        "#### Adjust Class Weights\n",
        "\n",
        "By experimenting with different class weights, you can fine-tune the balance between precision and recall for both classes, potentially improving the overall performance of the model."
      ],
      "metadata": {
        "id": "QhDfqWLh1Zg-"
      }
    },
    {
      "cell_type": "code",
      "source": [
        "class_weights = len(y_train) / (2 * np.bincount(y_train))\n",
        "adjusted_pos_weight = class_weights[1] * 0.5  # Adjust the weight to fine-tune\n",
        "\n",
        "# Create an instance of SklearnNNWeightedLoss with adjusted weight\n",
        "nn_estimator_weighted = SklearnNNWeightedLoss(input_dim=input_dim, pos_weight=adjusted_pos_weight)\n",
        "\n",
        "# Fit the model\n",
        "nn_estimator_weighted.fit(X_train_tensor.numpy(), y_train_tensor.numpy())\n",
        "\n",
        "# Predict on the test set\n",
        "test_predictions_weighted = nn_estimator_weighted.predict(X_test_tensor.numpy())\n",
        "\n",
        "# Evaluate the model\n",
        "print(classification_report(y_test_tensor.numpy(), test_predictions_weighted))"
      ],
      "metadata": {
        "colab": {
          "base_uri": "https://localhost:8080/"
        },
        "id": "KXbzGyC9wvbz",
        "outputId": "1261d8b0-bf16-4b23-ee46-bff194a3001b"
      },
      "execution_count": null,
      "outputs": [
        {
          "output_type": "stream",
          "name": "stdout",
          "text": [
            "              precision    recall  f1-score   support\n",
            "\n",
            "         0.0       0.87      0.43      0.57      4673\n",
            "         1.0       0.28      0.78      0.41      1327\n",
            "\n",
            "    accuracy                           0.51      6000\n",
            "   macro avg       0.58      0.61      0.49      6000\n",
            "weighted avg       0.74      0.51      0.54      6000\n",
            "\n"
          ]
        }
      ]
    },
    {
      "cell_type": "markdown",
      "source": [
        "## Classification Report Analysis\n",
        "\n",
        "### Key Metrics to Focus On\n",
        "\n",
        "1. **Precision**:\n",
        "   - **Class 0 (No Default)**: 0.87\n",
        "   - **Class 1 (Default)**: 0.28\n",
        "   - Precision for class 0 is high, indicating that when the model predicts no default, it is usually correct. However, precision for class 1 is relatively low, indicating many false positives.\n",
        "\n",
        "2. **Recall**:\n",
        "   - **Class 0 (No Default)**: 0.43\n",
        "   - **Class 1 (Default)**: 0.78\n",
        "   - Recall for class 0 is moderate, indicating that the model is missing more than half of the no default cases. Recall for class 1 is relatively high, meaning the model correctly identifies most default cases.\n",
        "\n",
        "3. **F1-score**:\n",
        "   - **Class 0 (No Default)**: 0.57\n",
        "   - **Class 1 (Default)**: 0.41\n",
        "   - The F1-score for class 0 is better than for class 1, reflecting that the model is performing better in predicting no defaults.\n",
        "\n",
        "4. **Support**:\n",
        "   - **Class 0 (No Default)**: 4673 instances\n",
        "   - **Class 1 (Default)**: 1327 instances\n",
        "\n",
        "5. **Overall Accuracy**:\n",
        "   - The overall accuracy is 0.51, meaning the model correctly classifies 51% of the instances.\n",
        "\n",
        "6. **Macro Average**:\n",
        "   - **Precision**: 0.58\n",
        "   - **Recall**: 0.61\n",
        "   - **F1-score**: 0.49\n",
        "   - The macro average treats both classes equally, regardless of their support.\n",
        "\n",
        "7. **Weighted Average**:\n",
        "   - **Precision**: 0.74\n",
        "   - **Recall**: 0.51\n",
        "   - **F1-score**: 0.54\n",
        "   - The weighted average takes into account the support of each class, providing an overall measure that reflects the class distribution in the test set.\n",
        "\n",
        "### Observations\n",
        "\n",
        "1. **Improved Recall for Class 0**:\n",
        "   - Recall for class 0 has improved compared to the previous report, but it is still moderate, meaning the model misses more than half of the no default cases.\n",
        "\n",
        "2. **High Recall for Class 1**:\n",
        "   - Recall for class 1 is high, indicating that the model is correctly identifying a substantial proportion of default cases.\n",
        "\n",
        "3. **Low Precision for Class 1**:\n",
        "   - Precision for class 1 remains low, indicating a high number of false positives. This suggests that the model is still biased towards predicting defaults, leading to incorrect predictions of no defaults as defaults.\n",
        "\n",
        "4. **Overall Accuracy**:\n",
        "   - The overall accuracy has improved slightly to 0.51, but it is still not satisfactory. The weighted average F1-score of 0.54 further supports this conclusion.\n",
        "\n",
        "### Next Steps\n",
        "\n",
        "To further improve the model's performance, consider the following strategies:\n",
        "\n",
        "1. **Fine-Tune Class Weights**:\n",
        "   - Continue experimenting with different class weights to find a better balance between precision and recall for both classes.\n",
        "\n",
        "2. **Adjust Decision Threshold**:\n",
        "   - Experiment with different decision thresholds to improve precision for class 1 without significantly impacting recall.\n",
        "\n",
        "3. **Use a More Complex Neural Network Architecture**:\n",
        "   - Try using a deeper neural network with more layers or different activation functions to improve the model's ability to learn from the data.\n",
        "\n",
        "4. **Implement Regularization Techniques**:\n",
        "   - Add regularization techniques like L2 regularization (weight decay) or dropout layers to prevent overfitting and improve generalization.\n",
        "\n",
        "5. **Use Ensemble Methods**:\n",
        "   - Consider using ensemble methods like Bagging, Boosting, or Stacking to combine the predictions of multiple models for better performance.\n",
        "\n"
      ],
      "metadata": {
        "id": "oVq5b5OH2fpT"
      }
    },
    {
      "cell_type": "markdown",
      "source": [
        "### Implementation of Adjusting Decision Threshold\n",
        "\n",
        "By adjusting the decision threshold, you can potentially improve the precision for class 1 without significantly impacting recall. This strategy, combined with further fine-tuning of class weights, using more complex neural network architectures, and implementing regularization techniques, can help improve the overall performance of the model."
      ],
      "metadata": {
        "id": "jO0PGIUa2vX9"
      }
    },
    {
      "cell_type": "markdown",
      "source": [
        "### Adjusting Decision Threshold: Explanation\n",
        "\n",
        "The decision threshold is the value at which the model decides to classify an instance as either class 0 or class 1. In binary classification, the default threshold is usually set at 0.5, meaning that if the predicted probability of an instance belonging to class 1 is greater than 0.5, the model classifies it as class 1; otherwise, it classifies it as class 0.\n",
        "\n",
        "### Why Adjust the Decision Threshold?\n",
        "\n",
        "Adjusting the decision threshold can be useful in several scenarios:\n",
        "\n",
        "1. **Class Imbalance**:\n",
        "   - When dealing with imbalanced datasets, the default threshold might not be optimal. Adjusting the threshold can help balance precision and recall, especially for the minority class.\n",
        "\n",
        "2. **Different Costs of Misclassification**:\n",
        "   - In some applications, the cost of misclassifying one class might be higher than the other. For instance, in fraud detection, missing a fraudulent transaction (false negative) might be more costly than incorrectly flagging a legitimate transaction (false positive). Adjusting the threshold can help minimize the more costly error.\n",
        "\n",
        "3. **Improving Specific Metrics**:\n",
        "   - Depending on the specific application, you might want to optimize for certain metrics, such as precision, recall, or F1-score. Adjusting the threshold can help achieve the desired balance between these metrics.\n",
        "\n",
        "### Implementation of Adjusting Decision Threshold\n",
        "\n",
        "The function `predict_with_threshold` adjusts the decision threshold to improve the model's performance. Here's how it works:\n",
        "\n",
        "1. **Model Evaluation Mode**:\n",
        "   - The model is set to evaluation mode using `self.model.eval()`, which ensures that layers like dropout behave differently during training and inference.\n",
        "\n",
        "2. **Forward Pass**:\n",
        "   - The input data is passed through the model to get the raw output logits. These logits are the raw, unscaled scores output by the model.\n",
        "\n",
        "3. **Sigmoid Activation**:\n",
        "   - The logits are converted to probabilities using the sigmoid function, which squashes the raw output to a range between 0 and 1.\n",
        "\n",
        "4. **Thresholding**:\n",
        "   - The probabilities are compared against the specified threshold. If a probability is greater than the threshold, it is classified as class 1; otherwise, it is classified as class 0.\n",
        "\n",
        "### Benefits of Adjusting Decision Threshold\n",
        "\n",
        "1. **Improved Precision or Recall**:\n",
        "   - By adjusting the threshold, you can improve precision or recall depending on your application's requirements.\n",
        "\n",
        "2. **Better Balance**:\n",
        "   - Adjusting the threshold helps achieve a better balance between false positives and false negatives, which is crucial in applications with imbalanced data or different misclassification costs.\n",
        "\n",
        "3. **Customization**:\n",
        "   - It allows for fine-tuning the model's performance to align with specific business or operational goals.\n",
        "\n",
        "### Summary\n",
        "\n",
        "Adjusting the decision threshold is a powerful technique to optimize the performance of a classification model, especially in scenarios with class imbalance or differing misclassification costs. By fine-tuning the threshold, you can achieve a better balance between precision, recall, and other performance metrics to suit the specific needs of your application."
      ],
      "metadata": {
        "id": "m0J6YoaW4iVP"
      }
    },
    {
      "cell_type": "code",
      "source": [
        "# Function to adjust decision threshold\n",
        "def predict_with_threshold(model, X, threshold=0.5):\n",
        "    model.eval()\n",
        "    with torch.no_grad():\n",
        "        outputs = model(torch.tensor(X, dtype=torch.float32))\n",
        "        probabilities = torch.sigmoid(outputs)\n",
        "        predictions = (probabilities > threshold).float()\n",
        "    return predictions.numpy().squeeze()\n",
        "\n",
        "# Predict on the test set with a different threshold\n",
        "test_predictions_adjusted = predict_with_threshold(nn_estimator_weighted.model, X_test_tensor.numpy(), threshold=0.6)\n",
        "\n",
        "# Evaluate the model with the adjusted threshold\n",
        "print(classification_report(y_test_tensor.numpy(), test_predictions_adjusted))"
      ],
      "metadata": {
        "colab": {
          "base_uri": "https://localhost:8080/"
        },
        "id": "8KJ42tI-2iDP",
        "outputId": "a601d18f-f4de-4b2c-8614-c36ec97fe3f4"
      },
      "execution_count": null,
      "outputs": [
        {
          "output_type": "stream",
          "name": "stdout",
          "text": [
            "              precision    recall  f1-score   support\n",
            "\n",
            "         0.0       0.87      0.58      0.69      4673\n",
            "         1.0       0.32      0.69      0.43      1327\n",
            "\n",
            "    accuracy                           0.60      6000\n",
            "   macro avg       0.59      0.63      0.56      6000\n",
            "weighted avg       0.75      0.60      0.64      6000\n",
            "\n"
          ]
        }
      ]
    },
    {
      "cell_type": "markdown",
      "source": [
        "## Classification Report Analysis\n",
        "\n",
        "### Key Metrics to Focus On\n",
        "\n",
        "1. **Precision**:\n",
        "   - **Class 0 (No Default)**: 0.87\n",
        "   - **Class 1 (Default)**: 0.32\n",
        "   - Precision for class 0 is high, indicating that when the model predicts no default, it is usually correct. Precision for class 1 has improved slightly but is still relatively low, indicating many false positives.\n",
        "\n",
        "2. **Recall**:\n",
        "   - **Class 0 (No Default)**: 0.58\n",
        "   - **Class 1 (Default)**: 0.69\n",
        "   - Recall for class 0 has improved, indicating the model is correctly identifying more no default cases. Recall for class 1 remains high, meaning the model correctly identifies most default cases.\n",
        "\n",
        "3. **F1-score**:\n",
        "   - **Class 0 (No Default)**: 0.69\n",
        "   - **Class 1 (Default)**: 0.43\n",
        "   - The F1-score for class 0 is significantly better than for class 1, reflecting that the model is performing better in predicting no defaults but still struggling with defaults.\n",
        "\n",
        "4. **Support**:\n",
        "   - **Class 0 (No Default)**: 4673 instances\n",
        "   - **Class 1 (Default)**: 1327 instances\n",
        "\n",
        "5. **Overall Accuracy**:\n",
        "   - The overall accuracy is 0.60, meaning the model correctly classifies 60% of the instances.\n",
        "\n",
        "6. **Macro Average**:\n",
        "   - **Precision**: 0.59\n",
        "   - **Recall**: 0.63\n",
        "   - **F1-score**: 0.56\n",
        "   - The macro average treats both classes equally, regardless of their support.\n",
        "\n",
        "7. **Weighted Average**:\n",
        "   - **Precision**: 0.75\n",
        "   - **Recall**: 0.60\n",
        "   - **F1-score**: 0.64\n",
        "   - The weighted average takes into account the support of each class, providing an overall measure that reflects the class distribution in the test set.\n",
        "\n",
        "### Observations\n",
        "\n",
        "1. **Improved Recall for Class 0**:\n",
        "   - Recall for class 0 has improved to 0.58, indicating that the model is now correctly identifying more no default cases compared to previous reports.\n",
        "\n",
        "2. **High Recall for Class 1**:\n",
        "   - Recall for class 1 is high at 0.69, indicating that the model is correctly identifying a substantial proportion of default cases.\n",
        "\n",
        "3. **Slight Improvement in Precision for Class 1**:\n",
        "   - Precision for class 1 has improved slightly to 0.32, indicating fewer false positives compared to previous reports, but it is still relatively low.\n",
        "\n",
        "4. **Overall Accuracy**:\n",
        "   - The overall accuracy has improved to 0.60. The weighted average F1-score of 0.64 also reflects this improvement.\n",
        "\n",
        "### Next Steps\n",
        "\n",
        "While the model's performance has improved, there is still room for further enhancement. Here are the next steps to consider:\n",
        "\n",
        "1. **Fine-Tune Class Weights Further**:\n",
        "   - Continue experimenting with different class weights to find a better balance between precision and recall for both classes.\n",
        "\n",
        "2. **Explore More Complex Neural Network Architectures**:\n",
        "   - Try using a deeper neural network with more layers, different activation functions, or adding regularization techniques like dropout to improve the model's ability to learn from the data.\n",
        "\n",
        "3. **Use Ensemble Methods**:\n",
        "   - Consider using ensemble methods like Bagging, Boosting, or Stacking to combine the predictions of multiple models for better performance.\n",
        "\n",
        "4. **Hyperparameter Tuning**:\n",
        "   - Experiment with different learning rates, batch sizes, and the number of epochs to find the optimal settings for the model.\n",
        "\n",
        "5. **Adjust Decision Threshold Further**:\n",
        "   - Fine-tune the decision threshold further to improve the balance between precision and recall for both classes.\n",
        "\n"
      ],
      "metadata": {
        "id": "cRDQajaU3gaL"
      }
    },
    {
      "cell_type": "markdown",
      "source": [
        "### Understanding Decision Threshold\n",
        "\n",
        "The decision threshold determines how the model classifies an instance as class 0 or class 1. The threshold is typically set based on the predicted probability. By default, this threshold is 0.5, meaning that if the predicted probability of class 1 is greater than 0.5, the model classifies it as class 1; otherwise, it classifies it as class 0.\n",
        "\n",
        "### Factors Influencing Decision Threshold\n",
        "\n",
        "1. **Class Distribution**:\n",
        "   - **Imbalanced Classes**: In cases where the classes are imbalanced (e.g., 80-20), the default threshold of 0.5 might not be optimal. Adjusting the threshold can help improve the performance for the minority class.\n",
        "   - **Balanced Classes**: If the classes are balanced, the default threshold might be more appropriate, but adjustments can still be made based on the specific application.\n",
        "\n",
        "2. **Cost of Misclassification**:\n",
        "   - **High Stakes**: In applications like cancer detection, the cost of missing a positive case (false negative) is very high. In such cases, you might want to lower the threshold to increase recall, even if it means accepting more false positives.\n",
        "   - **Low Stakes**: In applications where the cost of false positives is high but false negatives are acceptable, you might want to increase the threshold to improve precision.\n",
        "\n",
        "3. **Specific Use Case**:\n",
        "   - **Business Goals**: Depending on the business goals or operational requirements, you might adjust the threshold to achieve a balance between precision and recall that aligns with your objectives.\n",
        "   - **Regulatory Requirements**: In some industries, regulatory requirements might dictate the acceptable balance between false positives and false negatives.\n",
        "\n",
        "### Practical Examples\n",
        "\n",
        "1. **Cancer Detection**:\n",
        "   - **High Recall**: You might set a lower threshold (e.g., 0.3) to ensure that you catch as many positive cases as possible, even if it increases the number of false positives. This is because the cost of missing a cancer case is very high.\n",
        "\n",
        "2. **Fraud Detection**:\n",
        "   - **Balanced Approach**: You might set a moderate threshold (e.g., 0.5) to balance between detecting fraudulent transactions and not flagging too many legitimate transactions as fraudulent.\n",
        "\n",
        "3. **Spam Detection**:\n",
        "   - **High Precision**: You might set a higher threshold (e.g., 0.7) to ensure that only the most likely spam emails are filtered out, reducing the chance of legitimate emails being marked as spam.\n",
        "\n"
      ],
      "metadata": {
        "id": "Yb7rK-oh56vW"
      }
    },
    {
      "cell_type": "markdown",
      "source": [
        "### Adjusting Decision Threshold\n",
        "\n",
        "You can adjust the decision threshold by analyzing the performance metrics at different thresholds and choosing the one that best meets your objectives.\n",
        "\n",
        "- **Decision Threshold**: Determines how the model classifies instances based on predicted probabilities.\n",
        "- **Factors Influencing Threshold**: Class distribution, cost of misclassification, and specific use case.\n",
        "- **Adjusting Threshold**: Analyze performance metrics at different thresholds to choose the optimal one for your application.\n",
        "- **Practical Examples**: Cancer detection, fraud detection, and spam detection show how different applications might require different thresholds.\n",
        "\n",
        "By understanding and adjusting the decision threshold, you can optimize the model's performance to better align with the specific needs and goals of your application."
      ],
      "metadata": {
        "id": "7RMSatbS6J5h"
      }
    },
    {
      "cell_type": "code",
      "source": [
        "import numpy as np\n",
        "from sklearn.metrics import precision_recall_curve, classification_report\n",
        "\n",
        "def evaluate_thresholds(model, X, y_true):\n",
        "    y_scores = model(torch.tensor(X, dtype=torch.float32)).detach().numpy().ravel()\n",
        "    precisions, recalls, thresholds = precision_recall_curve(y_true, y_scores)\n",
        "\n",
        "    best_threshold = thresholds[np.argmax(recalls + precisions - 1)]  # Example of finding a balanced threshold\n",
        "    return precisions, recalls, thresholds, best_threshold\n",
        "\n",
        "# Predict on the test set and analyze thresholds\n",
        "precisions, recalls, thresholds, best_threshold = evaluate_thresholds(nn_estimator_weighted.model, X_test_tensor.numpy(), y_test_tensor.numpy())\n",
        "\n",
        "print(f\"Best Threshold: {best_threshold}\")\n",
        "\n",
        "# Plot precision-recall vs threshold\n",
        "plt.figure(figsize=(10, 6))\n",
        "plt.plot(thresholds, precisions[:-1], label=\"Precision\")\n",
        "plt.plot(thresholds, recalls[:-1], label=\"Recall\")\n",
        "plt.axvline(x=best_threshold, color='r', linestyle='--', label=f\"Best Threshold: {best_threshold:.2f}\")\n",
        "plt.xlabel(\"Threshold\")\n",
        "plt.ylabel(\"Score\")\n",
        "plt.legend(loc=\"best\")\n",
        "plt.title(\"Precision and Recall vs Threshold\")\n",
        "plt.show()\n",
        "\n",
        "# Evaluate the model with the best threshold\n",
        "test_predictions_best_threshold = predict_with_threshold(nn_estimator_weighted.model, X_test_tensor.numpy(), threshold=best_threshold)\n",
        "# print(classification_report(y_test_tensor.numpy(), test_predictions_best_threshold))"
      ],
      "metadata": {
        "colab": {
          "base_uri": "https://localhost:8080/",
          "height": 581
        },
        "id": "ZAySpFER6CDm",
        "outputId": "d97ef78a-9483-4fa0-9f22-c53452732fef"
      },
      "execution_count": null,
      "outputs": [
        {
          "output_type": "stream",
          "name": "stdout",
          "text": [
            "Best Threshold: -5.4875593185424805\n"
          ]
        },
        {
          "output_type": "display_data",
          "data": {
            "text/plain": [
              "<Figure size 1000x600 with 1 Axes>"
            ],
            "image/png": "[encoded data removed]"
          },
          "metadata": {}
        }
      ]
    },
    {
      "cell_type": "markdown",
      "source": [
        "\n",
        "#### Understanding the Plot\n",
        "\n",
        "The plot will typically have the following components:\n",
        "\n",
        "1. **X-Axis (Threshold)**:\n",
        "   - This represents the decision threshold values. As you move from left to right, the threshold increases.\n",
        "\n",
        "2. **Y-Axis (Scores)**:\n",
        "   - This represents the precision and recall scores.\n",
        "\n",
        "3. **Precision Curve**:\n",
        "   - This curve shows how precision changes with different threshold values.\n",
        "   - Precision is the ratio of true positives to the total number of predicted positives (true positives + false positives).\n",
        "   - As the threshold increases, precision typically increases because the model becomes more conservative, predicting fewer positives and thus reducing false positives.\n",
        "\n",
        "4. **Recall Curve**:\n",
        "   - This curve shows how recall changes with different threshold values.\n",
        "   - Recall is the ratio of true positives to the total number of actual positives (true positives + false negatives).\n",
        "   - As the threshold increases, recall typically decreases because the model predicts fewer positives, which means it misses more actual positives.\n",
        "\n",
        "5. **Best Threshold Line**:\n",
        "   - A vertical line indicating the chosen threshold that balances precision and recall based on your criteria.\n",
        "\n",
        "### Interpreting the Plot\n",
        "\n",
        "1. **Low Threshold**:\n",
        "   - At low thresholds, the model predicts more positives, leading to high recall but low precision.\n",
        "   - This is because many instances are classified as positive, including a significant number of false positives.\n",
        "\n",
        "2. **High Threshold**:\n",
        "   - At high thresholds, the model predicts fewer positives, leading to high precision but low recall.\n",
        "   - This is because only the most confident predictions are classified as positive, reducing false positives but increasing false negatives.\n",
        "\n",
        "3. **Optimal Threshold**:\n",
        "   - The point where the precision and recall curves intersect or are balanced according to your criteria.\n",
        "   - This threshold provides a compromise between precision and recall, ensuring neither is too low.\n",
        "\n",
        "### Example Plot Interpretation\n",
        "\n",
        "- **Precision Curve**: Decreases as the threshold decreases.\n",
        "- **Recall Curve**: Increases as the threshold decreases.\n",
        "- **Best Threshold Line**: Vertical line at the optimal threshold.\n"
      ],
      "metadata": {
        "id": "JKOh-UQp6qC-"
      }
    },
    {
      "cell_type": "code",
      "source": [
        "# Function to adjust decision threshold\n",
        "def predict_with_threshold(model, X, threshold=0.5):\n",
        "    model.eval()\n",
        "    with torch.no_grad():\n",
        "        outputs = model(torch.tensor(X, dtype=torch.float32))\n",
        "        probabilities = torch.sigmoid(outputs)\n",
        "        predictions = (probabilities > threshold).float()\n",
        "    return predictions.numpy().squeeze()\n",
        "\n",
        "# Predict on the test set with the best threshold\n",
        "test_predictions_best_threshold = predict_with_threshold(nn_estimator_weighted.model, X_test_tensor.numpy(), threshold=best_threshold)\n",
        "\n",
        "# Evaluate the model with the best threshold\n",
        "print(classification_report(y_test_tensor.numpy(), test_predictions_best_threshold))\n"
      ],
      "metadata": {
        "colab": {
          "base_uri": "https://localhost:8080/"
        },
        "id": "OvXitoDI7wqB",
        "outputId": "a28a7faa-de31-4c8d-a979-9d17085954e1"
      },
      "execution_count": null,
      "outputs": [
        {
          "output_type": "stream",
          "name": "stdout",
          "text": [
            "              precision    recall  f1-score   support\n",
            "\n",
            "         0.0       0.00      0.00      0.00      4673\n",
            "         1.0       0.22      1.00      0.36      1327\n",
            "\n",
            "    accuracy                           0.22      6000\n",
            "   macro avg       0.11      0.50      0.18      6000\n",
            "weighted avg       0.05      0.22      0.08      6000\n",
            "\n"
          ]
        },
        {
          "output_type": "stream",
          "name": "stderr",
          "text": [
            "/usr/local/lib/python3.10/dist-packages/sklearn/metrics/_classification.py:1344: UndefinedMetricWarning: Precision and F-score are ill-defined and being set to 0.0 in labels with no predicted samples. Use `zero_division` parameter to control this behavior.\n",
            "  _warn_prf(average, modifier, msg_start, len(result))\n",
            "/usr/local/lib/python3.10/dist-packages/sklearn/metrics/_classification.py:1344: UndefinedMetricWarning: Precision and F-score are ill-defined and being set to 0.0 in labels with no predicted samples. Use `zero_division` parameter to control this behavior.\n",
            "  _warn_prf(average, modifier, msg_start, len(result))\n",
            "/usr/local/lib/python3.10/dist-packages/sklearn/metrics/_classification.py:1344: UndefinedMetricWarning: Precision and F-score are ill-defined and being set to 0.0 in labels with no predicted samples. Use `zero_division` parameter to control this behavior.\n",
            "  _warn_prf(average, modifier, msg_start, len(result))\n"
          ]
        }
      ]
    },
    {
      "cell_type": "markdown",
      "source": [
        "### Understanding the Warning and Results\n",
        "\n",
        "The warning indicates that the precision and F-score are ill-defined for class 0 because no instances of class 0 were predicted. This can happen when the chosen threshold is too low, resulting in the model predicting all instances as class 1.\n",
        "\n",
        "### Updated Classification Report Analysis\n",
        "\n",
        "```plaintext\n",
        "              precision    recall  f1-score   support\n",
        "\n",
        "         0.0       0.00      0.00      0.00      4673\n",
        "         1.0       0.22      1.00      0.36      1327\n",
        "\n",
        "    accuracy                           0.22      6000\n",
        "   macro avg       0.11      0.50      0.18      6000\n",
        "weighted avg       0.05      0.22      0.08      6000\n",
        "```\n",
        "\n",
        "### Observations\n",
        "\n",
        "1. **Class 0 (No Default)**:\n",
        "   - **Precision**: 0.00\n",
        "   - **Recall**: 0.00\n",
        "   - **F1-score**: 0.00\n",
        "   - No instances of class 0 were predicted, resulting in undefined precision, recall, and F1-score.\n",
        "\n",
        "2. **Class 1 (Default)**:\n",
        "   - **Precision**: 0.22\n",
        "   - **Recall**: 1.00\n",
        "   - **F1-score**: 0.36\n",
        "   - All instances were predicted as class 1, resulting in perfect recall but low precision due to many false positives.\n",
        "\n",
        "3. **Overall Accuracy**:\n",
        "   - The overall accuracy is 0.22, meaning the model correctly classifies only 22% of the instances.\n",
        "\n",
        "4. **Macro Average**:\n",
        "   - **Precision**: 0.11\n",
        "   - **Recall**: 0.50\n",
        "   - **F1-score**: 0.18\n",
        "   - The macro average treats both classes equally, resulting in low scores due to the poor performance on class 0.\n",
        "\n",
        "5. **Weighted Average**:\n",
        "   - **Precision**: 0.05\n",
        "   - **Recall**: 0.22\n",
        "   - **F1-score**: 0.08\n",
        "   - The weighted average takes into account the support of each class, resulting in low scores due to the poor performance on class 0.\n",
        "\n",
        "### Next Steps\n",
        "\n",
        "1. **Verify the Best Threshold Calculation**:\n",
        "   - Double-check the calculation of the best threshold to ensure it is correct.\n",
        "   - Consider using a different criterion for selecting the best threshold, such as maximizing the F1-score or the sum of precision and recall.\n",
        "\n",
        "2. **Adjust the Threshold**:\n",
        "   - Manually adjust the threshold to a higher value and observe how the performance metrics change.\n",
        "   - A higher threshold will likely increase precision for class 1 while reducing recall, leading to more balanced predictions.\n",
        "\n",
        "### Adjusting the Threshold Manually\n",
        "\n",
        "Let's manually adjust the threshold to a higher value and check the performance.\n",
        "\n",
        "### Summary\n",
        "\n",
        "- **Warning**: The warning indicates that no instances of class 0 were predicted, resulting in ill-defined precision and F1-score.\n",
        "- **Next Steps**: Verify the best threshold calculation, manually adjust the threshold, and observe the performance metrics to find a more balanced threshold.\n",
        "\n",
        "By manually adjusting the threshold and observing the changes in performance metrics, you can find a more suitable threshold that balances precision and recall for both classes."
      ],
      "metadata": {
        "id": "VAMSmUU68Rxz"
      }
    },
    {
      "cell_type": "code",
      "source": [
        "# Manually set a higher threshold\n",
        "manual_threshold = 0.7  # Adjust this value as needed\n",
        "\n",
        "# Predict on the test set with the manually set threshold\n",
        "test_predictions_manual_threshold = predict_with_threshold(nn_estimator_weighted.model, X_test_tensor.numpy(), threshold=manual_threshold)\n",
        "\n",
        "# Evaluate the model with the manually set threshold\n",
        "print(classification_report(y_test_tensor.numpy(), test_predictions_manual_threshold))"
      ],
      "metadata": {
        "colab": {
          "base_uri": "https://localhost:8080/"
        },
        "id": "PgIsxXhB8WXA",
        "outputId": "0fc6363c-99eb-49aa-bec4-706c7830be62"
      },
      "execution_count": null,
      "outputs": [
        {
          "output_type": "stream",
          "name": "stdout",
          "text": [
            "              precision    recall  f1-score   support\n",
            "\n",
            "         0.0       0.86      0.77      0.81      4673\n",
            "         1.0       0.41      0.56      0.47      1327\n",
            "\n",
            "    accuracy                           0.72      6000\n",
            "   macro avg       0.63      0.67      0.64      6000\n",
            "weighted avg       0.76      0.72      0.74      6000\n",
            "\n"
          ]
        }
      ]
    },
    {
      "cell_type": "markdown",
      "source": [
        "## Classification Report Analysis\n",
        "\n",
        "### Key Metrics to Focus On\n",
        "\n",
        "1. **Precision**:\n",
        "   - **Class 0 (No Default)**: 0.86\n",
        "   - **Class 1 (Default)**: 0.41\n",
        "   - Precision for class 0 is high, indicating that when the model predicts no default, it is usually correct. Precision for class 1 has improved, indicating fewer false positives compared to previous results.\n",
        "\n",
        "2. **Recall**:\n",
        "   - **Class 0 (No Default)**: 0.77\n",
        "   - **Class 1 (Default)**: 0.56\n",
        "   - Recall for class 0 is high, indicating the model is correctly identifying most no default cases. Recall for class 1 has improved, meaning the model correctly identifies more default cases.\n",
        "\n",
        "3. **F1-score**:\n",
        "   - **Class 0 (No Default)**: 0.81\n",
        "   - **Class 1 (Default)**: 0.47\n",
        "   - The F1-score for class 0 is better than for class 1, reflecting that the model is performing well in predicting no defaults but still has room for improvement in predicting defaults.\n",
        "\n",
        "4. **Support**:\n",
        "   - **Class 0 (No Default)**: 4673 instances\n",
        "   - **Class 1 (Default)**: 1327 instances\n",
        "\n",
        "5. **Overall Accuracy**:\n",
        "   - The overall accuracy is 0.72, meaning the model correctly classifies 72% of the instances.\n",
        "\n",
        "6. **Macro Average**:\n",
        "   - **Precision**: 0.63\n",
        "   - **Recall**: 0.67\n",
        "   - **F1-score**: 0.64\n",
        "   - The macro average treats both classes equally, resulting in balanced scores due to improved performance on class 1.\n",
        "\n",
        "7. **Weighted Average**:\n",
        "   - **Precision**: 0.76\n",
        "   - **Recall**: 0.72\n",
        "   - **F1-score**: 0.74\n",
        "   - The weighted average takes into account the support of each class, resulting in overall good performance metrics.\n",
        "\n",
        "### Observations\n",
        "\n",
        "1. **Improved Performance for Class 1**:\n",
        "   - The precision, recall, and F1-score for class 1 have improved significantly. This indicates that the model is better at identifying defaults, with fewer false positives and more true positives.\n",
        "\n",
        "2. **High Performance for Class 0**:\n",
        "   - The model continues to perform well for class 0, maintaining high precision and recall. This means it is still correctly identifying the majority of no default cases.\n",
        "\n",
        "3. **Balanced Metrics**:\n",
        "   - The macro and weighted averages show a more balanced performance across both classes. The model has improved in handling the minority class (defaults) while maintaining good performance on the majority class (no defaults).\n",
        "\n",
        "### Next Steps\n",
        "\n",
        "1. **Further Fine-Tuning**:\n",
        "   - Experiment with slightly adjusting the threshold further to see if even better balance can be achieved.\n",
        "   - Fine-tune the class weights further if necessary to continue improving the precision and recall for both classes.\n",
        "\n",
        "2. **Explore More Complex Architectures**:\n",
        "   - Experiment with more complex neural network architectures to see if they can provide additional performance improvements.\n",
        "   - Add regularization techniques like dropout and L2 regularization to prevent overfitting.\n",
        "\n",
        "3. **Cross-Validation**:\n",
        "   - Implement cross-validation to ensure the model's performance is consistent across different subsets of the data.\n"
      ],
      "metadata": {
        "id": "eO8AIVD_9rH1"
      }
    },
    {
      "cell_type": "markdown",
      "source": [
        "The best method for handling imbalanced data and adjusting thresholds often depends on the specific characteristics of the dataset and the requirements of the application. However, based on the experiments and results we've discussed, here are some general recommendations:\n",
        "\n",
        "### Best Methods for Handling Imbalanced Data\n",
        "\n",
        "1. **Resampling Techniques**:\n",
        "   - **SMOTE (Synthetic Minority Over-sampling Technique)**: Effective for creating synthetic examples of the minority class to balance the dataset. SMOTE has shown consistent improvements in our experiments.\n",
        "   - **SMOTE Variants (e.g., SMOTE-ENN, ADASYN)**: These techniques can further refine the synthetic samples by combining SMOTE with under-sampling (e.g., SMOTE-ENN) or focusing on harder-to-classify samples (e.g., ADASYN).\n",
        "\n",
        "2. **Cost-Sensitive Learning**:\n",
        "   - **Weighted Loss Functions**: Assign higher weights to the minority class to penalize misclassifications more heavily. This approach can be implemented using the `pos_weight` parameter in `BCEWithLogitsLoss` in PyTorch.\n",
        "\n",
        "3. **Ensemble Methods**:\n",
        "   - **Balanced Random Forest**: Resamples the data at each iteration to balance the classes.\n",
        "   - **Boosting Techniques**: Methods like AdaBoost or Gradient Boosting can focus more on hard-to-classify instances, often improving performance on the minority class.\n",
        "\n",
        "4. **Combining Multiple Techniques**:\n",
        "   - Combining resampling techniques with cost-sensitive learning or ensemble methods can yield better results than using any single method alone.\n",
        "\n",
        "### Best Practices for Adjusting Decision Thresholds\n",
        "\n",
        "1. **Data-Driven Threshold Adjustment**:\n",
        "   - Use precision-recall curves to find the optimal threshold that balances precision and recall according to your application’s needs. This helps in finding a threshold that maximizes a specific metric or combination of metrics.\n",
        "\n",
        "2. **Manual Adjustment Based on Business Requirements**:\n",
        "   - Adjust the threshold based on the cost of false positives and false negatives. For example, in medical diagnoses, a lower threshold may be acceptable to ensure high recall, even at the expense of precision.\n",
        "\n",
        "3. **Cross-Validation for Robustness**:\n",
        "   - Use cross-validation to ensure that the chosen threshold generalizes well across different subsets of the data. This helps in selecting a threshold that performs consistently.\n",
        "\n",
        "### Recommended Pipeline and Approach\n",
        "\n",
        "### Summary\n",
        "\n",
        "The above implementation includes the best practices for handling imbalanced data and adjusting decision thresholds based on our experiments. It combines SMOTE for balancing the dataset, a more complex neural network architecture for better learning capacity, and manual adjustment of the decision threshold to optimize performance metrics according to the application's requirements. This approach should provide a robust and flexible framework for handling imbalanced datasets in various contexts.\n",
        "\n",
        "Based on our experiments, here is a consolidated approach for handling imbalanced data and adjusting thresholds\n",
        "\n"
      ],
      "metadata": {
        "id": "-kBtBG__9_hz"
      }
    },
    {
      "cell_type": "code",
      "source": [
        "import pandas as pd\n",
        "import numpy as np\n",
        "import torch\n",
        "import torch.nn as nn\n",
        "import torch.optim as optim\n",
        "from sklearn.base import BaseEstimator, ClassifierMixin\n",
        "from sklearn.model_selection import train_test_split, GridSearchCV, StratifiedKFold\n",
        "from sklearn.pipeline import Pipeline\n",
        "from sklearn.compose import ColumnTransformer\n",
        "from sklearn.impute import SimpleImputer\n",
        "from sklearn.preprocessing import StandardScaler, OneHotEncoder\n",
        "from sklearn.metrics import classification_report, precision_recall_curve\n",
        "from imblearn.over_sampling import SMOTE\n",
        "\n",
        "# Load the dataset\n",
        "url = \"https://archive.ics.uci.edu/ml/machine-learning-databases/00350/default%20of%20credit%20card%20clients.xls\"\n",
        "df = pd.read_excel(url, header=1)\n",
        "\n",
        "# Rename columns to lower case and replace spaces with underscores\n",
        "df.columns = [col.lower().replace(' ', '_') for col in df.columns]\n",
        "\n",
        "# Select features and target\n",
        "target = 'default_payment_next_month'\n",
        "X = df.drop(columns=[target])\n",
        "y = df[target]\n",
        "\n",
        "# Perform stratified train-test split\n",
        "X_train, X_test, y_train, y_test = train_test_split(X, y, test_size=0.2, random_state=42, stratify=y)\n",
        "\n",
        "# Identify column types\n",
        "numeric_features = X_train.select_dtypes(include=['int64', 'float64']).columns.tolist()\n",
        "categorical_features = X_train.select_dtypes(include=['object', 'category']).columns.tolist()\n",
        "\n",
        "# Define preprocessing for numeric columns\n",
        "numeric_transformer = Pipeline(steps=[\n",
        "    ('imputer', SimpleImputer(strategy='median')),\n",
        "    ('scaler', StandardScaler())])\n",
        "\n",
        "# Define preprocessing for categorical columns\n",
        "categorical_transformer = Pipeline(steps=[\n",
        "    ('imputer', SimpleImputer(strategy='constant', fill_value='missing')),\n",
        "    ('onehot', OneHotEncoder(handle_unknown='ignore'))])\n",
        "\n",
        "# Combine preprocessing steps\n",
        "preprocessor = ColumnTransformer(\n",
        "    transformers=[\n",
        "        ('num', numeric_transformer, numeric_features),\n",
        "        ('cat', categorical_transformer, categorical_features)])\n",
        "\n",
        "# Create the preprocessing pipeline\n",
        "preprocessing_pipeline = Pipeline(steps=[('preprocessor', preprocessor)])\n",
        "\n",
        "# Fit and transform the data\n",
        "X_train_processed = preprocessing_pipeline.fit_transform(X_train)\n",
        "X_test_processed = preprocessing_pipeline.transform(X_test)\n",
        "\n",
        "# Apply SMOTE to balance the training dataset\n",
        "smote = SMOTE(random_state=42)\n",
        "X_train_resampled, y_train_resampled = smote.fit_resample(X_train_processed, y_train)\n",
        "\n",
        "# Convert to PyTorch tensors\n",
        "X_train_tensor = torch.tensor(X_train_resampled, dtype=torch.float32)\n",
        "y_train_tensor = torch.tensor(y_train_resampled.values, dtype=torch.float32).unsqueeze(1)\n",
        "X_test_tensor = torch.tensor(X_test_processed, dtype=torch.float32)\n",
        "y_test_tensor = torch.tensor(y_test.values, dtype=torch.float32).unsqueeze(1)\n",
        "\n",
        "# Define the more complex PyTorch neural network model\n",
        "class MoreComplexNN(nn.Module):\n",
        "    def __init__(self, input_dim, hidden_dim1=128, hidden_dim2=64, dropout_rate=0.5):\n",
        "        super(MoreComplexNN, self).__init__()\n",
        "        self.fc1 = nn.Linear(input_dim, hidden_dim1)\n",
        "        self.dropout1 = nn.Dropout(dropout_rate)\n",
        "        self.fc2 = nn.Linear(hidden_dim1, hidden_dim2)\n",
        "        self.dropout2 = nn.Dropout(dropout_rate)\n",
        "        self.fc3 = nn.Linear(hidden_dim2, 1)\n",
        "\n",
        "    def forward(self, x):\n",
        "        x = torch.relu(self.fc1(x))\n",
        "        x = self.dropout1(x)\n",
        "        x = torch.relu(self.fc2(x))\n",
        "        x = self.dropout2(x)\n",
        "        x = self.fc3(x)\n",
        "        return x\n",
        "\n",
        "# Define the sklearn wrapper for the neural network model\n",
        "class SklearnMoreComplexNN(BaseEstimator, ClassifierMixin):\n",
        "    def __init__(self, input_dim, hidden_dim1=128, hidden_dim2=64, dropout_rate=0.5, learning_rate=0.001, epochs=50, batch_size=64, pos_weight=1.0):\n",
        "        self.input_dim = input_dim\n",
        "        self.hidden_dim1 = hidden_dim1\n",
        "        self.hidden_dim2 = hidden_dim2\n",
        "        self.dropout_rate = dropout_rate\n",
        "        self.learning_rate = learning_rate\n",
        "        self.epochs = epochs\n",
        "        self.batch_size = batch_size\n",
        "        self.pos_weight = torch.tensor(pos_weight, dtype=torch.float32)\n",
        "        self.model = MoreComplexNN(self.input_dim, self.hidden_dim1, self.hidden_dim2, self.dropout_rate)\n",
        "\n",
        "    def fit(self, X, y):\n",
        "        criterion = nn.BCEWithLogitsLoss(pos_weight=self.pos_weight)\n",
        "        optimizer = optim.Adam(self.model.parameters(), lr=self.learning_rate)\n",
        "        train_dataset = torch.utils.data.TensorDataset(torch.tensor(X, dtype=torch.float32), torch.tensor(y, dtype=torch.float32).unsqueeze(1))\n",
        "        train_loader = torch.utils.data.DataLoader(train_dataset, batch_size=self.batch_size, shuffle=True)\n",
        "\n",
        "        for epoch in range(self.epochs):\n",
        "            self.model.train()\n",
        "            for inputs, targets in train_loader:\n",
        "                optimizer.zero_grad()\n",
        "                outputs = self.model(inputs)\n",
        "                loss = criterion(outputs, targets.view(-1, 1))\n",
        "                loss.backward()\n",
        "                optimizer.step()\n",
        "        return self\n",
        "\n",
        "    def predict(self, X):\n",
        "        self.model.eval()\n",
        "        with torch.no_grad():\n",
        "            outputs = self.model(torch.tensor(X, dtype=torch.float32))\n",
        "            probabilities = torch.sigmoid(outputs)\n",
        "            predictions = (probabilities > 0.65).float()  # Use the manually adjusted threshold here\n",
        "        return predictions.numpy().squeeze()\n",
        "\n",
        "# Calculate the class weights\n",
        "class_weights = len(y_train) / (2 * np.bincount(y_train))\n",
        "\n",
        "# Create an instance of SklearnMoreComplexNN with the adjusted weight\n",
        "input_dim = X_train_tensor.shape[1]\n",
        "nn_estimator_complex = SklearnMoreComplexNN(input_dim=input_dim, pos_weight=class_weights[1])\n",
        "\n",
        "# Fit the model\n",
        "nn_estimator_complex.fit(X_train_tensor.numpy(), y_train_tensor.numpy())\n",
        "\n",
        "# Function to adjust decision threshold\n",
        "def predict_with_threshold(model, X, threshold=0.65):\n",
        "    model.eval()\n",
        "    with torch.no_grad():\n",
        "        outputs = model(torch.tensor(X, dtype=torch.float32))\n",
        "        probabilities = torch.sigmoid(outputs)\n",
        "        predictions = (probabilities > threshold).float()\n",
        "    return predictions.numpy().squeeze()\n",
        "\n",
        "# Predict on the test set with the manually set threshold\n",
        "test_predictions_best_threshold = predict_with_threshold(nn_estimator_complex.model, X_test_tensor.numpy(), threshold=0.65)\n",
        "\n",
        "# Evaluate the model with the manually set threshold\n",
        "print(classification_report(y_test_tensor.numpy(), test_predictions_best_threshold))"
      ],
      "metadata": {
        "colab": {
          "base_uri": "https://localhost:8080/"
        },
        "id": "AYvoLZwq_n3r",
        "outputId": "7751ffab-ad7a-4179-891f-7c73329fc6f8"
      },
      "execution_count": null,
      "outputs": [
        {
          "output_type": "stream",
          "name": "stdout",
          "text": [
            "              precision    recall  f1-score   support\n",
            "\n",
            "         0.0       0.89      0.64      0.75      4673\n",
            "         1.0       0.37      0.73      0.49      1327\n",
            "\n",
            "    accuracy                           0.66      6000\n",
            "   macro avg       0.63      0.69      0.62      6000\n",
            "weighted avg       0.78      0.66      0.69      6000\n",
            "\n"
          ]
        }
      ]
    },
    {
      "cell_type": "code",
      "source": [],
      "metadata": {
        "id": "xen09uZj-GMk"
      },
      "execution_count": null,
      "outputs": []
    }
  ]
}