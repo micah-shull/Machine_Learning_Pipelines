{
  "nbformat": 4,
  "nbformat_minor": 0,
  "metadata": {
    "colab": {
      "provenance": [],
      "toc_visible": true,
      "authorship_tag": "ABX9TyP9kpri8jzHQphDJsWdyJIM",
      "include_colab_link": true
    },
    "kernelspec": {
      "name": "python3",
      "display_name": "Python 3"
    },
    "language_info": {
      "name": "python"
    }
  },
  "cells": [
    {
      "cell_type": "markdown",
      "metadata": {
        "id": "view-in-github",
        "colab_type": "text"
      },
      "source": [
        "<a href=\"https://colab.research.google.com/github/micah-shull/pipelines/blob/main/pipelines_07_pytorch_pipeline_01_imbalanced_data.ipynb\" target=\"_parent\"><img src=\"https://colab.research.google.com/assets/colab-badge.svg\" alt=\"Open In Colab\"/></a>"
      ]
    },
    {
      "cell_type": "markdown",
      "source": [
        "### Class Imbalance in Machine Learning\n",
        "\n",
        "**Class imbalance** refers to a situation in a classification problem where the number of instances in different classes is significantly disproportionate. In other words, one class (the majority class) has many more instances than the other class (the minority class).\n",
        "\n",
        "#### Key Points about Class Imbalance:\n",
        "\n",
        "1. **Prevalence**:\n",
        "   - Class imbalance is common in many real-world datasets. Examples include fraud detection (where fraudulent transactions are rare), medical diagnosis (where certain diseases have low prevalence), and spam detection (where spam emails are much fewer than legitimate ones).\n",
        "\n",
        "2. **Impact on Model Performance**:\n",
        "   - **Bias Toward Majority Class**: Many machine learning algorithms assume that the classes are balanced. When they are not, the model may become biased toward the majority class, resulting in high accuracy but poor performance on the minority class.\n",
        "   - **Misleading Metrics**: Accuracy becomes a misleading metric in imbalanced datasets. A model that always predicts the majority class can achieve high accuracy but fails to correctly identify the minority class.\n",
        "   - **Poor Generalization**: The model might fail to generalize well to unseen data, especially in correctly identifying instances of the minority class.\n",
        "\n",
        "3. **Performance Metrics for Imbalanced Data**:\n",
        "   - **Precision**: The proportion of true positives among all predicted positives. Useful when the cost of false positives is high.\n",
        "   - **Recall (Sensitivity)**: The proportion of true positives among all actual positives. Useful when the cost of false negatives is high.\n",
        "   - **F1 Score**: The harmonic mean of precision and recall. Provides a balanced measure, especially useful for imbalanced datasets.\n",
        "   - **ROC-AUC**: Measures the ability of the model to distinguish between classes. The area under the ROC curve (AUC) provides an aggregate measure of performance across all classification thresholds.\n",
        "   - **Precision-Recall AUC**: Particularly useful for highly imbalanced datasets, focusing on the performance with respect to the minority class.\n",
        "\n",
        "4. **Techniques to Address Class Imbalance**:\n",
        "   - **Resampling Techniques**:\n",
        "     - **Oversampling**: Increasing the number of instances in the minority class. Techniques include Random Oversampling and Synthetic Minority Over-sampling Technique (SMOTE).\n",
        "     - **Undersampling**: Reducing the number of instances in the majority class. Techniques include Random Undersampling and NearMiss.\n",
        "   - **Algorithmic Approaches**:\n",
        "     - **Cost-sensitive Learning**: Assigning different misclassification costs to classes, penalizing the misclassification of the minority class more heavily.\n",
        "     - **Anomaly Detection Models**: Treating the minority class as anomalies and using specialized models designed for anomaly detection.\n",
        "   - **Ensemble Methods**:\n",
        "     - **Balanced Random Forest**: Combining multiple decision trees with resampling to create balanced datasets for each tree.\n",
        "     - **EasyEnsemble and BalanceCascade**: Combining boosting with undersampling techniques.\n",
        "\n",
        "5. **Threshold Adjustment**:\n",
        "   - Adjusting the decision threshold of the classifier to better capture the minority class. For example, lowering the threshold can increase the recall for the minority class at the expense of precision.\n",
        "\n"
      ],
      "metadata": {
        "id": "R5wUJdpdC-fv"
      }
    },
    {
      "cell_type": "markdown",
      "source": [
        "#### Visualize Class Imbalance\n",
        "\n",
        "\n",
        "\n"
      ],
      "metadata": {
        "id": "yHe3mvsM6_br"
      }
    },
    {
      "cell_type": "code",
      "source": [
        "import pandas as pd\n",
        "import matplotlib.pyplot as plt\n",
        "import seaborn as sns\n",
        "from model_pipeline import load_data_from_url, clean_column_names, remove_id_column, convert_categorical, split_data\n",
        "\n",
        "# Define dataset-specific parameters\n",
        "url = \"https://archive.ics.uci.edu/ml/machine-learning-databases/00350/default%20of%20credit%20card%20clients.xls\"\n",
        "categorical_columns = ['sex', 'education', 'marriage']\n",
        "target = 'default_payment_next_month'\n",
        "\n",
        "# Load and preprocess data\n",
        "data = load_data_from_url(url)\n",
        "data = clean_column_names(data)\n",
        "data = remove_id_column(data)\n",
        "data = convert_categorical(data, categorical_columns=categorical_columns)\n",
        "X_train, X_test, y_train, y_test = split_data(data, target=target)\n",
        "\n",
        "# Plot class balance in the training set with ratio annotations\n",
        "def plot_class_distribution(y_train):\n",
        "    plt.figure(figsize=(8, 5))\n",
        "    sns.countplot(x=y_train, hue=y_train, palette='PuRd')\n",
        "    plt.title('Class Distribution in Training Set')\n",
        "    plt.xlabel('Class')\n",
        "    plt.ylabel('Count')\n",
        "\n",
        "    # Calculate the percentage for each class\n",
        "    total = len(y_train)\n",
        "    class_counts = y_train.value_counts()\n",
        "    for i, count in enumerate(class_counts):\n",
        "        percentage = 100 * count / total\n",
        "        plt.text(i, count, f'{percentage:.1f}%', ha='center', va='bottom')\n",
        "\n",
        "    plt.show()\n"
      ],
      "metadata": {
        "colab": {
          "base_uri": "https://localhost:8080/",
          "height": 487
        },
        "id": "fdATPnUG7oxv",
        "outputId": "a823a074-e865-4ffb-edaa-8d6ab1821a60"
      },
      "execution_count": 11,
      "outputs": [
        {
          "output_type": "display_data",
          "data": {
            "text/plain": [
              "<Figure size 800x500 with 1 Axes>"
            ],
            "image/png": "[encoded data removed]"
          },
          "metadata": {}
        }
      ]
    },
    {
      "cell_type": "markdown",
      "source": [
        "In the context of fraud detection, **recall (sensitivity)** is generally considered more important than precision. Here’s why:\n",
        "\n",
        "### Importance of Recall in Fraud Detection\n",
        "\n",
        "1. **High Cost of Missing Fraudulent Transactions**:\n",
        "   - In fraud detection, the primary goal is to identify as many fraudulent transactions as possible. Missing a fraudulent transaction (false negative) can lead to significant financial losses and potential reputational damage. Therefore, having a high recall ensures that most fraudulent transactions are detected.\n",
        "\n",
        "2. **Accepting Some False Positives**:\n",
        "   - While false positives (legitimate transactions flagged as fraudulent) can be inconvenient and may require additional verification steps, the consequences are typically less severe than missing a fraudulent transaction. Companies can manually review flagged transactions to confirm their legitimacy, which is a manageable process.\n",
        "\n",
        "3. **Safety Net**:\n",
        "   - Ensuring that most fraud cases are caught, even at the expense of some false alarms, provides a safety net that is crucial for protecting financial assets and maintaining customer trust.\n",
        "\n",
        "### Balancing Precision and Recall\n",
        "\n",
        "However, it’s important to find a balance that suits the specific context and resources available. Excessive false positives can lead to customer dissatisfaction and increased operational costs due to manual reviews. Therefore, while recall is prioritized, precision should not be completely disregarded.\n",
        "\n",
        "### Practical Approach in Fraud Detection\n",
        "\n",
        "1. **Adjusting the Threshold**:\n",
        "   - As mentioned earlier, adjusting the decision threshold can help balance recall and precision. Lowering the threshold increases recall but may reduce precision.\n",
        "\n",
        "2. **Using Evaluation Metrics**:\n",
        "   - **F1 Score**: The F1 score, which is the harmonic mean of precision and recall, can be a useful metric to find a balance. However, if recall is the priority, you might focus more on maximizing recall even if the F1 score is slightly lower.\n",
        "\n",
        "3. **Implementing Resampling Techniques**:\n",
        "   - Techniques like SMOTE or balanced random forests can help improve model performance on the minority class.\n",
        "\n",
        "4. **Post-Processing**:\n",
        "   - Implementing rules or secondary models to review flagged transactions can help manage false positives. For example, flagging transactions for manual review if they fall into a certain range of probabilities.\n",
        "\n",
        "\n"
      ],
      "metadata": {
        "id": "KvZ_jMDq9MD2"
      }
    },
    {
      "cell_type": "markdown",
      "source": [
        "#### Refactor Load and Process Steps"
      ],
      "metadata": {
        "id": "VqTVeEad_3fG"
      }
    },
    {
      "cell_type": "code",
      "source": [
        "# Function to be added to model_pipeline.py\n",
        "script_content = \"\"\"\n",
        "import pandas as pd\n",
        "import torch\n",
        "from model_pipeline import (\n",
        "    load_data_from_url,\n",
        "    clean_column_names,\n",
        "    remove_id_column,\n",
        "    convert_categorical,\n",
        "    split_data,\n",
        "    define_preprocessor,\n",
        "    preprocess_data\n",
        ")\n",
        "\n",
        "def load_and_preprocess_data(url, categorical_columns, target):\n",
        "    \\\"\"\"\n",
        "    Load and preprocess data from the given URL.\n",
        "\n",
        "    Parameters:\n",
        "    url (str): URL of the dataset.\n",
        "    categorical_columns (list): List of categorical column names.\n",
        "    target (str): Target column name.\n",
        "\n",
        "    Returns:\n",
        "    tuple: Processed training and testing data along with PyTorch tensors.\n",
        "    \\\"\"\"\n",
        "    # Load and preprocess data\n",
        "    data = load_data_from_url(url)\n",
        "    data = clean_column_names(data)\n",
        "    data = remove_id_column(data)\n",
        "    data = convert_categorical(data, categorical_columns=categorical_columns)\n",
        "    X_train, X_test, y_train, y_test = split_data(data, target=target)\n",
        "    preprocessor = define_preprocessor(X_train)\n",
        "    X_train_processed, X_test_processed = preprocess_data(preprocessor, X_train, X_test)\n",
        "\n",
        "    # Convert data to PyTorch tensors\n",
        "    X_train_tensor = torch.tensor(X_train_processed, dtype=torch.float32)\n",
        "    y_train_tensor = torch.tensor(y_train.values, dtype=torch.float32).unsqueeze(1)\n",
        "    X_test_tensor = torch.tensor(X_test_processed, dtype=torch.float32)\n",
        "    y_test_tensor = torch.tensor(y_test.values, dtype=torch.float32).unsqueeze(1)\n",
        "\n",
        "    return X_train, X_test, y_train, y_test, X_train_tensor, y_train_tensor, X_test_tensor, y_test_tensor\n",
        "\"\"\"\n",
        "\n",
        "# Append the function to model_pipeline.py\n",
        "with open(\"model_pipeline.py\", \"a\") as file:\n",
        "    file.write(script_content)\n",
        "\n",
        "print(\"Function appended successfully to model_pipeline.py\")\n",
        "\n",
        "# reload script to make function available for use\n",
        "# Reload the module\n",
        "import importlib\n",
        "import model_pipeline\n",
        "importlib.reload(model_pipeline)"
      ],
      "metadata": {
        "id": "FYShM_fhJIkv"
      },
      "execution_count": null,
      "outputs": []
    },
    {
      "cell_type": "markdown",
      "source": [
        "### Understanding Class Weights in Machine Learning\n",
        "\n",
        "**Class weights** are a mechanism used to address class imbalance in datasets during model training. Class imbalance occurs when the number of instances in different classes is significantly disproportionate, which can lead to biased models that perform poorly on the minority class.\n",
        "\n",
        "### Key Concepts\n",
        "\n",
        "1. **Class Imbalance**:\n",
        "   - In a dataset with class imbalance, the model tends to favor the majority class because it appears more frequently in the training data.\n",
        "   - This can result in high overall accuracy but poor performance on the minority class (e.g., fraud detection where fraudulent transactions are rare).\n",
        "\n",
        "2. **Class Weights**:\n",
        "   - Class weights are used to assign a different level of importance (weight) to each class.\n",
        "   - By assigning a higher weight to the minority class, the model is penalized more for misclassifying instances of the minority class compared to the majority class.\n",
        "   - This encourages the model to pay more attention to the minority class during training.\n",
        "\n",
        "### How Class Weights Affect Model Performance\n",
        "\n",
        "1. **Balanced Performance**:\n",
        "   - Properly setting class weights can lead to a more balanced model performance, improving metrics like precision, recall, and F1-score for the minority class.\n",
        "   - Without class weights, the model may achieve high accuracy but have low recall for the minority class.\n",
        "\n",
        "2. **Impact on Precision and Recall**:\n",
        "   - Increasing the weight of the minority class generally improves recall (the ability to identify true positive instances of the minority class) at the expense of precision (the proportion of true positive predictions among all positive predictions).\n",
        "   - The goal is to find a balance where the model accurately identifies minority class instances while minimizing false positives.\n",
        "\n",
        "3. **Cost-Sensitive Learning**:\n",
        "   - Class weights are a form of cost-sensitive learning, where different misclassification costs are applied to different classes.\n",
        "   - This approach is particularly useful in applications where the cost of false negatives is high, such as medical diagnosis or fraud detection.\n",
        "\n"
      ],
      "metadata": {
        "id": "2y4LFYDw-Y3o"
      }
    },
    {
      "cell_type": "markdown",
      "source": [
        "#### Optimal Class Weight for Recall"
      ],
      "metadata": {
        "id": "1EMu6WoCLpDf"
      }
    },
    {
      "cell_type": "code",
      "source": [
        "import numpy as np\n",
        "from sklearn.metrics import recall_score\n",
        "from model_pipeline import SklearnSimpleNN, train_model, evaluate_model, load_and_preprocess_data\n",
        "\n",
        "# Define dataset-specific parameters\n",
        "url = \"https://archive.ics.uci.edu/ml/machine-learning-databases/00350/default%20of%20credit%20card%20clients.xls\"\n",
        "categorical_columns = ['sex', 'education', 'marriage']\n",
        "target = 'default_payment_next_month'\n",
        "\n",
        "# Load and preprocess data\n",
        "X_train, X_test, y_train, y_test, X_train_tensor, y_train_tensor, X_test_tensor, y_test_tensor = load_and_preprocess_data(url, categorical_columns, target)\n",
        "\n",
        "# Function to evaluate the model with different class weights\n",
        "def evaluate_class_weights(class_weights):\n",
        "    nn_estimator = SklearnSimpleNN(input_dim=X_train_tensor.shape[1], pos_weight=class_weights[1])\n",
        "    nn_estimator = train_model(nn_estimator, X_train_tensor, y_train_tensor)\n",
        "    y_pred = nn_estimator.predict(X_test_tensor.numpy())\n",
        "    recall = recall_score(y_test_tensor.numpy(), y_pred)\n",
        "    return recall\n",
        "\n",
        "# Generate a range of class weights to test\n",
        "class_weight_range = np.linspace(0.5, 5.0, 10)\n",
        "best_recall = 0\n",
        "best_weights = None\n",
        "\n",
        "for weight in class_weight_range:\n",
        "    class_weights = [1.0, weight]\n",
        "    recall = evaluate_class_weights(class_weights)\n",
        "    print(f\"Class weights: {class_weights}, Recall: {recall}\")\n",
        "    if recall > best_recall:\n",
        "        best_recall = recall\n",
        "        best_weights = class_weights\n",
        "\n",
        "print(f\"Best class weights: {best_weights}, Best Recall: {best_recall}\")\n",
        "\n",
        "# Train and evaluate the model with the best class weights\n",
        "nn_estimator = SklearnSimpleNN(input_dim=X_train_tensor.shape[1], pos_weight=best_weights[1])\n",
        "nn_estimator = train_model(nn_estimator, X_train_tensor, y_train_tensor)\n",
        "evaluate_model(nn_estimator, X_test_tensor, y_test_tensor)\n"
      ],
      "metadata": {
        "colab": {
          "base_uri": "https://localhost:8080/"
        },
        "id": "pNR_feIANYYf",
        "outputId": "545b0210-102b-4805-99b5-03f3942750f7"
      },
      "execution_count": 20,
      "outputs": [
        {
          "output_type": "stream",
          "name": "stdout",
          "text": [
            "Class weights: [1.0, 0.5], Recall: 0.2192916352675207\n",
            "Class weights: [1.0, 1.0], Recall: 0.39261492087415223\n",
            "Class weights: [1.0, 1.5], Recall: 0.4348153730218538\n",
            "Class weights: [1.0, 2.0], Recall: 0.5048982667671439\n",
            "Class weights: [1.0, 2.5], Recall: 0.5275056518462697\n",
            "Class weights: [1.0, 3.0], Recall: 0.5636774679728711\n",
            "Class weights: [1.0, 3.5], Recall: 0.5885455915599096\n",
            "Class weights: [1.0, 4.0], Recall: 0.7053504144687265\n",
            "Class weights: [1.0, 4.5], Recall: 0.7106254709871892\n",
            "Class weights: [1.0, 5.0], Recall: 0.718914845516202\n",
            "Best class weights: [1.0, 5.0], Best Recall: 0.718914845516202\n",
            "              precision    recall  f1-score   support\n",
            "\n",
            "         0.0       0.89      0.70      0.78      4673\n",
            "         1.0       0.39      0.68      0.50      1327\n",
            "\n",
            "    accuracy                           0.70      6000\n",
            "   macro avg       0.64      0.69      0.64      6000\n",
            "weighted avg       0.78      0.70      0.72      6000\n",
            "\n"
          ]
        }
      ]
    },
    {
      "cell_type": "markdown",
      "source": [
        "### Understanding Class Weights in Machine Learning\n",
        "\n",
        "**Class weights** are a mechanism used to handle class imbalance in datasets during the training of machine learning models. Class imbalance occurs when one class is significantly underrepresented compared to another, leading to biased models that perform poorly on the minority class.\n",
        "\n",
        "### Key Concepts\n",
        "\n",
        "1. **Class Imbalance**:\n",
        "   - In datasets with class imbalance, models tend to favor the majority class because it has more instances.\n",
        "   - This can result in high overall accuracy but poor performance on the minority class, which is often the class of interest.\n",
        "\n",
        "2. **Class Weights**:\n",
        "   - Class weights adjust the importance of each class during model training.\n",
        "   - By assigning higher weights to the minority class, the model is penalized more for misclassifying instances of that class.\n",
        "   - This encourages the model to pay more attention to the minority class and improves its performance on that class.\n",
        "\n",
        "### How Class Weights Affect Model Performance\n",
        "\n",
        "1. **Balanced Performance**:\n",
        "   - Properly setting class weights leads to a more balanced model performance, improving metrics such as recall for the minority class.\n",
        "   - Without class weights, the model may achieve high accuracy but low recall for the minority class.\n",
        "\n",
        "2. **Impact on Precision and Recall**:\n",
        "   - Increasing the weight of the minority class generally improves recall (the ability to identify true positive instances of the minority class) at the expense of precision (the proportion of true positive predictions among all positive predictions).\n",
        "   - The goal is to find a balance where the model accurately identifies minority class instances while minimizing false positives.\n",
        "\n",
        "### Best Class Weights Example\n",
        "\n",
        "Based on your iteration results, the best class weights were `[1.0, 5.0]` with a recall of `0.718914845516202`.\n",
        "\n",
        "1. **Class 0 Weight (1.0)**:\n",
        "   - The weight for the majority class (class 0) is set to `1.0`, meaning its importance is unchanged.\n",
        "\n",
        "2. **Class 1 Weight (5.0)**:\n",
        "   - The weight for the minority class (class 1) is set to `5.0`, meaning the importance of the minority class is increased fivefold.\n",
        "   - This increased weight means that misclassifications of the minority class are penalized five times more than those of the majority class.\n",
        "\n",
        "### Impact of Best Weights\n",
        "\n",
        "- **Improved Recall**:\n",
        "  - By setting the weight of the minority class to `5.0`, the model is more sensitive to the minority class. This resulted in a recall of `0.718914845516202`, meaning that approximately 71.9% of the true positive instances of the minority class were correctly identified.\n",
        "- **Balancing Precision**:\n",
        "  - While increasing the recall, it is important to monitor precision to ensure that the number of false positives does not become excessively high. However, in scenarios like fraud detection or identifying loan defaults, recall is often prioritized to minimize the risk of missing true positive cases.\n",
        "\n",
        "### Practical Implementation\n",
        "\n",
        "- **Class weights** help to address class imbalance by assigning higher importance to the minority class.\n",
        "- The best class weights `[1.0, 5.0]` increased the model's recall to `0.718914845516202`, demonstrating an improved ability to correctly identify instances of the minority class.\n",
        "- Properly setting class weights ensures that the model performs better on the minority class, which is crucial in applications where missing true positive cases is costly."
      ],
      "metadata": {
        "id": "uh6R3tPWO5k0"
      }
    },
    {
      "cell_type": "markdown",
      "source": [
        "### Understanding Threshold in Machine Learning\n",
        "\n",
        "**Threshold** is a value used to convert a model’s continuous output (often a probability) into a binary classification. In binary classification problems, models typically output a probability score between 0 and 1 that indicates the likelihood of an instance belonging to the positive class. The threshold determines the cutoff point at which this probability is translated into a binary decision.\n",
        "\n",
        "### Key Points about Threshold\n",
        "\n",
        "1. **Definition**:\n",
        "   - The threshold is the value above which a model classifies an instance as the positive class. For example, if the threshold is set to 0.5, any instance with a predicted probability above 0.5 will be classified as positive, while those below 0.5 will be classified as negative.\n",
        "\n",
        "2. **Role in Classification**:\n",
        "   - The threshold plays a crucial role in balancing the trade-offs between precision, recall, and overall accuracy. Adjusting the threshold can significantly impact the model’s performance metrics.\n",
        "\n",
        "### Impact of Threshold on Model Performance\n",
        "\n",
        "1. **Precision and Recall**:\n",
        "   - **Precision**: The proportion of true positive predictions among all positive predictions. Increasing the threshold usually increases precision but may reduce recall.\n",
        "   - **Recall (Sensitivity)**: The proportion of true positives among all actual positives. Lowering the threshold usually increases recall but may reduce precision.\n",
        "\n",
        "2. **False Positives and False Negatives**:\n",
        "   - **False Positives**: Instances incorrectly classified as positive. Raising the threshold can reduce false positives but may increase false negatives.\n",
        "   - **False Negatives**: Instances incorrectly classified as negative. Lowering the threshold can reduce false negatives but may increase false positives.\n",
        "\n",
        "3. **Accuracy**:\n",
        "   - Overall accuracy might not be the best metric in imbalanced datasets. Adjusting the threshold helps in improving other important metrics like precision, recall, and F1-score, which provide a better understanding of the model’s performance on minority classes.\n",
        "\n",
        "### Choosing the Optimal Threshold\n",
        "\n",
        "1. **ROC Curve and AUC**:\n",
        "   - The ROC (Receiver Operating Characteristic) curve plots the true positive rate against the false positive rate at various threshold settings. The area under the ROC curve (AUC) provides an aggregate measure of performance across all thresholds.\n",
        "   - By analyzing the ROC curve, you can choose a threshold that balances true positives and false positives according to your specific needs.\n",
        "\n",
        "2. **Precision-Recall Curve**:\n",
        "   - The precision-recall curve is particularly useful for imbalanced datasets. It plots precision against recall for different thresholds, helping you find a threshold that achieves the desired balance between these two metrics.\n",
        "\n",
        "\n"
      ],
      "metadata": {
        "id": "5LvvwYdiB9Ll"
      }
    },
    {
      "cell_type": "markdown",
      "source": [
        "#### Optimal Threshold Identification\n",
        "\n",
        "1. **Primary Focus on Recall**:\n",
        "   - The function prints recall first for each threshold, highlighting its importance.\n",
        "   - It tracks the best recall score and the corresponding threshold, ensuring that the threshold maximizing recall is identified and emphasized.\n",
        "\n",
        "2. **Best Recall Tracking**:\n",
        "   - Introduces variables `best_recall` and `best_threshold` to store the highest recall score and the threshold at which it occurs.\n",
        "   - After evaluating all thresholds, it prints the best recall and its associated threshold.\n",
        "\n"
      ],
      "metadata": {
        "id": "ZRmYnmGb9vq5"
      }
    },
    {
      "cell_type": "code",
      "source": [
        "import numpy as np\n",
        "import torch\n",
        "from sklearn.metrics import classification_report, precision_recall_curve, f1_score, precision_score, recall_score\n",
        "import matplotlib.pyplot as plt\n",
        "from model_pipeline import load_and_preprocess_data, SklearnSimpleNN, train_model\n",
        "\n",
        "# Define dataset-specific parameters\n",
        "url = \"https://archive.ics.uci.edu/ml/machine-learning-databases/00350/default%20of%20credit%20card%20clients.xls\"\n",
        "categorical_columns = ['sex', 'education', 'marriage']\n",
        "target = 'default_payment_next_month'\n",
        "\n",
        "# Load and preprocess data\n",
        "X_train, X_test, y_train, y_test, X_train_tensor, y_train_tensor, X_test_tensor, y_test_tensor = load_and_preprocess_data(url, categorical_columns, target)\n",
        "\n",
        "# Best class weights obtained from previous evaluation\n",
        "best_weights = [1.0, 5.0]\n",
        "\n",
        "# Train the model with the best class weights\n",
        "nn_estimator = SklearnSimpleNN(input_dim=X_train_tensor.shape[1], pos_weight=best_weights[1])\n",
        "nn_estimator = train_model(nn_estimator, X_train_tensor, y_train_tensor)\n",
        "\n",
        "# Predict probabilities on the test set\n",
        "y_prob = nn_estimator.model(X_test_tensor).detach().numpy().squeeze()\n",
        "\n",
        "# Function to evaluate model performance at different thresholds, prioritizing recall\n",
        "def evaluate_thresholds(y_prob, y_test_tensor, thresholds):\n",
        "    results = []\n",
        "    best_recall = 0\n",
        "    best_threshold = 0\n",
        "    for threshold in thresholds:\n",
        "        y_pred = (y_prob > threshold).astype(int)\n",
        "        recall = recall_score(y_test_tensor.numpy(), y_pred)\n",
        "        precision = precision_score(y_test_tensor.numpy(), y_pred)\n",
        "        f1 = f1_score(y_test_tensor.numpy(), y_pred)\n",
        "        results.append((threshold, f1, precision, recall))\n",
        "        print(f\"Threshold: {threshold:.2f}, Recall: {recall:.4f}, Precision: {precision:.4f}, F1-score: {f1:.4f}\")\n",
        "        if recall > best_recall:\n",
        "            best_recall = recall\n",
        "            best_threshold = threshold\n",
        "    print(f\"Best Threshold for Recall: {best_threshold:.2f}, Best Recall: {best_recall:.4f}\")\n",
        "    return results\n",
        "\n",
        "# Define a range of thresholds to evaluate\n",
        "thresholds = np.arange(0.1, 0.9, 0.1)\n",
        "\n",
        "# Evaluate and print the results for each threshold\n",
        "results = evaluate_thresholds(y_prob, y_test_tensor, thresholds)\n",
        "\n",
        "# Plot Precision-Recall curve\n",
        "precision, recall, _ = precision_recall_curve(y_test_tensor.numpy(), y_prob)\n",
        "plt.plot(recall, precision, marker='.')\n",
        "plt.xlabel('Recall')\n",
        "plt.ylabel('Precision')\n",
        "plt.title('Precision-Recall Curve')\n",
        "plt.show()"
      ],
      "metadata": {
        "colab": {
          "base_uri": "https://localhost:8080/",
          "height": 628
        },
        "id": "9j05YIvCVII_",
        "outputId": "eadad857-7253-491e-a2a0-51fc6888643d"
      },
      "execution_count": 22,
      "outputs": [
        {
          "output_type": "stream",
          "name": "stdout",
          "text": [
            "Threshold: 0.10, Recall: 0.6518, Precision: 0.4289, F1-score: 0.5173\n",
            "Threshold: 0.20, Recall: 0.6194, Precision: 0.4482, F1-score: 0.5201\n",
            "Threshold: 0.30, Recall: 0.5976, Precision: 0.4684, F1-score: 0.5252\n",
            "Threshold: 0.40, Recall: 0.5863, Precision: 0.4905, F1-score: 0.5342\n",
            "Threshold: 0.50, Recall: 0.5576, Precision: 0.5003, F1-score: 0.5274\n",
            "Threshold: 0.60, Recall: 0.5396, Precision: 0.5207, F1-score: 0.5300\n",
            "Threshold: 0.70, Recall: 0.5200, Precision: 0.5386, F1-score: 0.5291\n",
            "Threshold: 0.80, Recall: 0.5034, Precision: 0.5609, F1-score: 0.5306\n",
            "Best Threshold for Recall: 0.10, Best Recall: 0.6518\n"
          ]
        },
        {
          "output_type": "display_data",
          "data": {
            "text/plain": [
              "<Figure size 640x480 with 1 Axes>"
            ],
            "image/png": "[encoded data removed]"
          },
          "metadata": {}
        }
      ]
    },
    {
      "cell_type": "markdown",
      "source": [
        "Interpreting the best recall value involves understanding the trade-offs and implications of choosing a specific threshold in the context of your application. Let's break down the interpretation of the best recall value and threshold:\n",
        "\n",
        "### Interpretation of Best Recall:\n",
        "\n",
        "**Best Threshold for Recall: 0.10, Best Recall: 0.6518**\n",
        "\n",
        "1. **Threshold of 0.10**:\n",
        "   - This means that any predicted probability greater than 0.10 will be classified as the positive class (e.g., predicting a default on a loan).\n",
        "   - A low threshold like 0.10 indicates that the model is being very lenient in classifying instances as positive, which generally increases recall.\n",
        "\n",
        "2. **Recall of 0.6518**:\n",
        "   - Recall (Sensitivity) of 0.6518 means that the model correctly identifies approximately 65.18% of all actual positive instances (e.g., actual loan defaults).\n",
        "   - This is the proportion of true positives among all actual positives. For instance, if there are 100 actual positive cases, the model correctly identifies about 65 of them.\n",
        "\n",
        "### Trade-offs and Implications:\n",
        "\n",
        "1. **High Recall, Lower Precision**:\n",
        "   - By setting a low threshold, the model is more likely to classify instances as positive, increasing the chances of catching true positives (high recall).\n",
        "   - However, this usually comes at the cost of precision. More instances classified as positive may include many false positives, reducing precision (the proportion of true positives among all predicted positives).\n",
        "\n",
        "2. **Application Context**:\n",
        "   - In loan default prediction or fraud detection, high recall is often prioritized because missing true positives can be costly.\n",
        "   - For example, identifying as many potential defaults as possible can help a financial institution mitigate risk, even if it means some non-defaults are flagged (false positives).\n",
        "\n",
        "3. **Balancing Precision and Recall**:\n",
        "   - While a high recall ensures that most positive cases are identified, it's important to monitor precision to avoid too many false positives.\n",
        "   - The precision-recall trade-off can be managed based on the specific needs and costs associated with false positives and false negatives in your application.\n",
        "\n",
        "### Example Summary:\n",
        "\n",
        "If the context is loan default prediction:\n",
        "\n",
        "- **High Recall**: Ensures that the model identifies most of the borrowers who will default. This is critical for taking preemptive measures to mitigate financial risk.\n",
        "- **Low Threshold**: Setting the threshold at 0.10 means the model is very cautious, preferring to err on the side of caution by flagging more loans as potential defaults.\n",
        "- **Actionable Insights**: Financial institutions can use this model to identify high-risk loans, although they may need additional verification steps to confirm actual defaults due to the potential for false positives.\n",
        "\n",
        "### Conclusion:\n",
        "\n",
        "The best recall value of 0.6518 at a threshold of 0.10 indicates that the model is highly sensitive to identifying positive cases, capturing about 65.18% of all actual positives. This is beneficial in scenarios where missing a positive case is more costly than dealing with false positives. However, the institution should be prepared to handle the higher number of false positives that come with this approach, possibly through additional verification processes."
      ],
      "metadata": {
        "id": "L7k62meXb-al"
      }
    },
    {
      "cell_type": "code",
      "source": [],
      "metadata": {
        "id": "ym-yp74Kb_D0"
      },
      "execution_count": null,
      "outputs": []
    }
  ]
}