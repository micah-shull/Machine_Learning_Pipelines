{
  "nbformat": 4,
  "nbformat_minor": 0,
  "metadata": {
    "colab": {
      "provenance": [],
      "authorship_tag": "ABX9TyO8X5f97nwPpstzg21P6rqG",
      "include_colab_link": true
    },
    "kernelspec": {
      "name": "python3",
      "display_name": "Python 3"
    },
    "language_info": {
      "name": "python"
    }
  },
  "cells": [
    {
      "cell_type": "markdown",
      "metadata": {
        "id": "view-in-github",
        "colab_type": "text"
      },
      "source": [
        "<a href=\"https://colab.research.google.com/github/micah-shull/pipelines/blob/main/pipelines_07_pytorch_pipeline_01_imbalanced_data.ipynb\" target=\"_parent\"><img src=\"https://colab.research.google.com/assets/colab-badge.svg\" alt=\"Open In Colab\"/></a>"
      ]
    },
    {
      "cell_type": "markdown",
      "source": [
        "### Class Imbalance in Machine Learning\n",
        "\n",
        "**Class imbalance** refers to a situation in a classification problem where the number of instances in different classes is significantly disproportionate. In other words, one class (the majority class) has many more instances than the other class (the minority class).\n",
        "\n",
        "#### Key Points about Class Imbalance:\n",
        "\n",
        "1. **Prevalence**:\n",
        "   - Class imbalance is common in many real-world datasets. Examples include fraud detection (where fraudulent transactions are rare), medical diagnosis (where certain diseases have low prevalence), and spam detection (where spam emails are much fewer than legitimate ones).\n",
        "\n",
        "2. **Impact on Model Performance**:\n",
        "   - **Bias Toward Majority Class**: Many machine learning algorithms assume that the classes are balanced. When they are not, the model may become biased toward the majority class, resulting in high accuracy but poor performance on the minority class.\n",
        "   - **Misleading Metrics**: Accuracy becomes a misleading metric in imbalanced datasets. A model that always predicts the majority class can achieve high accuracy but fails to correctly identify the minority class.\n",
        "   - **Poor Generalization**: The model might fail to generalize well to unseen data, especially in correctly identifying instances of the minority class.\n",
        "\n",
        "3. **Performance Metrics for Imbalanced Data**:\n",
        "   - **Precision**: The proportion of true positives among all predicted positives. Useful when the cost of false positives is high.\n",
        "   - **Recall (Sensitivity)**: The proportion of true positives among all actual positives. Useful when the cost of false negatives is high.\n",
        "   - **F1 Score**: The harmonic mean of precision and recall. Provides a balanced measure, especially useful for imbalanced datasets.\n",
        "   - **ROC-AUC**: Measures the ability of the model to distinguish between classes. The area under the ROC curve (AUC) provides an aggregate measure of performance across all classification thresholds.\n",
        "   - **Precision-Recall AUC**: Particularly useful for highly imbalanced datasets, focusing on the performance with respect to the minority class.\n",
        "\n",
        "4. **Techniques to Address Class Imbalance**:\n",
        "   - **Resampling Techniques**:\n",
        "     - **Oversampling**: Increasing the number of instances in the minority class. Techniques include Random Oversampling and Synthetic Minority Over-sampling Technique (SMOTE).\n",
        "     - **Undersampling**: Reducing the number of instances in the majority class. Techniques include Random Undersampling and NearMiss.\n",
        "   - **Algorithmic Approaches**:\n",
        "     - **Cost-sensitive Learning**: Assigning different misclassification costs to classes, penalizing the misclassification of the minority class more heavily.\n",
        "     - **Anomaly Detection Models**: Treating the minority class as anomalies and using specialized models designed for anomaly detection.\n",
        "   - **Ensemble Methods**:\n",
        "     - **Balanced Random Forest**: Combining multiple decision trees with resampling to create balanced datasets for each tree.\n",
        "     - **EasyEnsemble and BalanceCascade**: Combining boosting with undersampling techniques.\n",
        "\n",
        "5. **Threshold Adjustment**:\n",
        "   - Adjusting the decision threshold of the classifier to better capture the minority class. For example, lowering the threshold can increase the recall for the minority class at the expense of precision.\n",
        "\n"
      ],
      "metadata": {
        "id": "R5wUJdpdC-fv"
      }
    },
    {
      "cell_type": "markdown",
      "source": [
        "### Analyze Class Imbalance\n",
        "  - Check the distribution of classes in your target variable.\n",
        "  - Visualize the imbalance using bar plot\n",
        "\n",
        "\n"
      ],
      "metadata": {
        "id": "yHe3mvsM6_br"
      }
    },
    {
      "cell_type": "code",
      "source": [
        "import pandas as pd\n",
        "import matplotlib.pyplot as plt\n",
        "import seaborn as sns\n",
        "from model_pipeline import load_data_from_url, clean_column_names, remove_id_column, convert_categorical, split_data\n",
        "\n",
        "# Define dataset-specific parameters\n",
        "url = \"https://archive.ics.uci.edu/ml/machine-learning-databases/00350/default%20of%20credit%20card%20clients.xls\"\n",
        "categorical_columns = ['sex', 'education', 'marriage']\n",
        "target = 'default_payment_next_month'\n",
        "\n",
        "# Load and preprocess data\n",
        "data = load_data_from_url(url)\n",
        "data = clean_column_names(data)\n",
        "data = remove_id_column(data)\n",
        "data = convert_categorical(data, categorical_columns=categorical_columns)\n",
        "X_train, X_test, y_train, y_test = split_data(data, target=target)\n",
        "\n",
        "# Plot class balance in the training set with ratio annotations\n",
        "def plot_class_distribution(y_train):\n",
        "    plt.figure(figsize=(8, 5))\n",
        "    sns.countplot(x=y_train, hue=y_train, palette='PuRd')\n",
        "    plt.title('Class Distribution in Training Set')\n",
        "    plt.xlabel('Class')\n",
        "    plt.ylabel('Count')\n",
        "\n",
        "    # Calculate the percentage for each class\n",
        "    total = len(y_train)\n",
        "    class_counts = y_train.value_counts()\n",
        "    for i, count in enumerate(class_counts):\n",
        "        percentage = 100 * count / total\n",
        "        plt.text(i, count, f'{percentage:.1f}%', ha='center', va='bottom')\n",
        "\n",
        "    plt.show()\n"
      ],
      "metadata": {
        "colab": {
          "base_uri": "https://localhost:8080/",
          "height": 487
        },
        "id": "fdATPnUG7oxv",
        "outputId": "a823a074-e865-4ffb-edaa-8d6ab1821a60"
      },
      "execution_count": 11,
      "outputs": [
        {
          "output_type": "display_data",
          "data": {
            "text/plain": [
              "<Figure size 800x500 with 1 Axes>"
            ],
            "image/png": "[encoded data removed]"
          },
          "metadata": {}
        }
      ]
    },
    {
      "cell_type": "markdown",
      "source": [
        "In the context of fraud detection, **recall (sensitivity)** is generally considered more important than precision. Here’s why:\n",
        "\n",
        "### Importance of Recall in Fraud Detection\n",
        "\n",
        "1. **High Cost of Missing Fraudulent Transactions**:\n",
        "   - In fraud detection, the primary goal is to identify as many fraudulent transactions as possible. Missing a fraudulent transaction (false negative) can lead to significant financial losses and potential reputational damage. Therefore, having a high recall ensures that most fraudulent transactions are detected.\n",
        "\n",
        "2. **Accepting Some False Positives**:\n",
        "   - While false positives (legitimate transactions flagged as fraudulent) can be inconvenient and may require additional verification steps, the consequences are typically less severe than missing a fraudulent transaction. Companies can manually review flagged transactions to confirm their legitimacy, which is a manageable process.\n",
        "\n",
        "3. **Safety Net**:\n",
        "   - Ensuring that most fraud cases are caught, even at the expense of some false alarms, provides a safety net that is crucial for protecting financial assets and maintaining customer trust.\n",
        "\n",
        "### Balancing Precision and Recall\n",
        "\n",
        "However, it’s important to find a balance that suits the specific context and resources available. Excessive false positives can lead to customer dissatisfaction and increased operational costs due to manual reviews. Therefore, while recall is prioritized, precision should not be completely disregarded.\n",
        "\n",
        "### Practical Approach in Fraud Detection\n",
        "\n",
        "1. **Adjusting the Threshold**:\n",
        "   - As mentioned earlier, adjusting the decision threshold can help balance recall and precision. Lowering the threshold increases recall but may reduce precision.\n",
        "\n",
        "2. **Using Evaluation Metrics**:\n",
        "   - **F1 Score**: The F1 score, which is the harmonic mean of precision and recall, can be a useful metric to find a balance. However, if recall is the priority, you might focus more on maximizing recall even if the F1 score is slightly lower.\n",
        "\n",
        "3. **Implementing Resampling Techniques**:\n",
        "   - Techniques like SMOTE or balanced random forests can help improve model performance on the minority class.\n",
        "\n",
        "4. **Post-Processing**:\n",
        "   - Implementing rules or secondary models to review flagged transactions can help manage false positives. For example, flagging transactions for manual review if they fall into a certain range of probabilities.\n",
        "\n",
        "\n"
      ],
      "metadata": {
        "id": "KvZ_jMDq9MD2"
      }
    },
    {
      "cell_type": "markdown",
      "source": [
        "### Refactor Load and Process Steps"
      ],
      "metadata": {
        "id": "VqTVeEad_3fG"
      }
    },
    {
      "cell_type": "code",
      "source": [
        "# Function to be added to model_pipeline.py\n",
        "script_content = \"\"\"\n",
        "import pandas as pd\n",
        "import torch\n",
        "from model_pipeline import (\n",
        "    load_data_from_url,\n",
        "    clean_column_names,\n",
        "    remove_id_column,\n",
        "    convert_categorical,\n",
        "    split_data,\n",
        "    define_preprocessor,\n",
        "    preprocess_data\n",
        ")\n",
        "\n",
        "def load_and_preprocess_data(url, categorical_columns, target):\n",
        "    \\\"\"\"\n",
        "    Load and preprocess data from the given URL.\n",
        "\n",
        "    Parameters:\n",
        "    url (str): URL of the dataset.\n",
        "    categorical_columns (list): List of categorical column names.\n",
        "    target (str): Target column name.\n",
        "\n",
        "    Returns:\n",
        "    tuple: Processed training and testing data along with PyTorch tensors.\n",
        "    \\\"\"\"\n",
        "    # Load and preprocess data\n",
        "    data = load_data_from_url(url)\n",
        "    data = clean_column_names(data)\n",
        "    data = remove_id_column(data)\n",
        "    data = convert_categorical(data, categorical_columns=categorical_columns)\n",
        "    X_train, X_test, y_train, y_test = split_data(data, target=target)\n",
        "    preprocessor = define_preprocessor(X_train)\n",
        "    X_train_processed, X_test_processed = preprocess_data(preprocessor, X_train, X_test)\n",
        "\n",
        "    # Convert data to PyTorch tensors\n",
        "    X_train_tensor = torch.tensor(X_train_processed, dtype=torch.float32)\n",
        "    y_train_tensor = torch.tensor(y_train.values, dtype=torch.float32).unsqueeze(1)\n",
        "    X_test_tensor = torch.tensor(X_test_processed, dtype=torch.float32)\n",
        "    y_test_tensor = torch.tensor(y_test.values, dtype=torch.float32).unsqueeze(1)\n",
        "\n",
        "    return X_train, X_test, y_train, y_test, X_train_tensor, y_train_tensor, X_test_tensor, y_test_tensor\n",
        "\"\"\"\n",
        "\n",
        "# Append the function to model_pipeline.py\n",
        "with open(\"model_pipeline.py\", \"a\") as file:\n",
        "    file.write(script_content)\n",
        "\n",
        "print(\"Function appended successfully to model_pipeline.py\")\n",
        "\n",
        "# reload script to make function available for use\n",
        "# Reload the module\n",
        "import importlib\n",
        "import model_pipeline\n",
        "importlib.reload(model_pipeline)"
      ],
      "metadata": {
        "id": "FYShM_fhJIkv"
      },
      "execution_count": null,
      "outputs": []
    },
    {
      "cell_type": "markdown",
      "source": [
        "## Experiment with Different Class Weights"
      ],
      "metadata": {
        "id": "2y4LFYDw-Y3o"
      }
    },
    {
      "cell_type": "code",
      "source": [
        "# Function to be added to model_pipeline.py\n",
        "script_content = \"\"\"\n",
        "import pandas as pd\n",
        "import torch\n",
        "from model_pipeline import (\n",
        "    load_data_from_url,\n",
        "    clean_column_names,\n",
        "    remove_id_column,\n",
        "    convert_categorical,\n",
        "    split_data,\n",
        "    define_preprocessor,\n",
        "    preprocess_data\n",
        ")\n",
        "\n",
        "def load_and_preprocess_data(url, categorical_columns, target):\n",
        "    \\\"\"\"\n",
        "    Load and preprocess data from the given URL.\n",
        "\n",
        "    Parameters:\n",
        "    url (str): URL of the dataset.\n",
        "    categorical_columns (list): List of categorical column names.\n",
        "    target (str): Target column name.\n",
        "\n",
        "    Returns:\n",
        "    tuple: Processed training and testing data along with PyTorch tensors.\n",
        "    \\\"\"\"\n",
        "    # Load and preprocess data\n",
        "    data = load_data_from_url(url)\n",
        "    data = clean_column_names(data)\n",
        "    data = remove_id_column(data)\n",
        "    data = convert_categorical(data, categorical_columns=categorical_columns)\n",
        "    X_train, X_test, y_train, y_test = split_data(data, target=target)\n",
        "    preprocessor = define_preprocessor(X_train)\n",
        "    X_train_processed, X_test_processed = preprocess_data(preprocessor, X_train, X_test)\n",
        "\n",
        "    # Convert data to PyTorch tensors\n",
        "    X_train_tensor = torch.tensor(X_train_processed, dtype=torch.float32)\n",
        "    y_train_tensor = torch.tensor(y_train.values, dtype=torch.float32).unsqueeze(1)\n",
        "    X_test_tensor = torch.tensor(X_test_processed, dtype=torch.float32)\n",
        "    y_test_tensor = torch.tensor(y_test.values, dtype=torch.float32).unsqueeze(1)\n",
        "\n",
        "    return X_train, X_test, y_train, y_test, X_train_tensor, y_train_tensor, X_test_tensor, y_test_tensor\n",
        "\"\"\"\n",
        "\n",
        "# Append the function to model_pipeline.py\n",
        "with open(\"model_pipeline.py\", \"a\") as file:\n",
        "    file.write(script_content)\n",
        "\n",
        "print(\"Function appended successfully to model_pipeline.py\")\n",
        "\n",
        "# Reload the module\n",
        "import importlib\n",
        "import model_pipeline\n",
        "importlib.reload(model_pipeline)\n",
        "\n",
        "# Import necessary functions and classes\n",
        "from model_pipeline import SklearnSimpleNN, train_model, evaluate_model, load_and_preprocess_data\n",
        "\n",
        "# Define dataset-specific parameters\n",
        "url = \"https://archive.ics.uci.edu/ml/machine-learning-databases/00350/default%20of%20credit%20card%20clients.xls\"\n",
        "categorical_columns = ['sex', 'education', 'marriage']\n",
        "target = 'default_payment_next_month'\n",
        "\n",
        "# Load and preprocess data\n",
        "X_train, X_test, y_train, y_test, X_train_tensor, y_train_tensor, X_test_tensor, y_test_tensor = load_and_preprocess_data(url, categorical_columns, target)\n",
        "\n",
        "# Function to evaluate the model with different class weights\n",
        "def evaluate_class_weights(class_weights):\n",
        "    nn_estimator = SklearnSimpleNN(input_dim=X_train_tensor.shape[1], pos_weight=class_weights[1])\n",
        "    nn_estimator = train_model(nn_estimator, X_train_tensor, y_train_tensor)\n",
        "    y_pred = nn_estimator.predict(X_test_tensor.numpy())\n",
        "    f1 = f1_score(y_test_tensor.numpy(), y_pred)\n",
        "    return f1\n",
        "\n",
        "# Generate a range of class weights to test\n",
        "class_weight_range = np.linspace(0.5, 5.0, 10)\n",
        "best_f1 = 0\n",
        "best_weights = None\n",
        "\n",
        "for weight in class_weight_range:\n",
        "    class_weights = [1.0, weight]\n",
        "    f1 = evaluate_class_weights(class_weights)\n",
        "    print(f\"Class weights: {class_weights}, F1-score: {f1}\")\n",
        "    if f1 > best_f1:\n",
        "        best_f1 = f1\n",
        "        best_weights = class_weights\n",
        "\n",
        "print(f\"Best class weights: {best_weights}, Best F1-score: {best_f1}\")\n",
        "\n",
        "# Train and evaluate the model with the best class weights\n",
        "nn_estimator = SklearnSimpleNN(input_dim=X_train_tensor.shape[1], pos_weight=best_weights[1])\n",
        "nn_estimator = train_model(nn_estimator, X_train_tensor, y_train_tensor)\n",
        "evaluate_model(nn_estimator, X_test_tensor, y_test_tensor)\n"
      ],
      "metadata": {
        "colab": {
          "base_uri": "https://localhost:8080/"
        },
        "id": "dYoMQO2tIYfI",
        "outputId": "1068fc93-867b-4ae5-fa0a-79f72734a141"
      },
      "execution_count": null,
      "outputs": [
        {
          "output_type": "stream",
          "name": "stdout",
          "text": [
            "Function appended successfully to model_pipeline.py\n",
            "Class weights: [1.0, 0.5], F1-score: 0.3459522422830518\n",
            "Class weights: [1.0, 1.0], F1-score: 0.48862052949372964\n",
            "Class weights: [1.0, 1.5], F1-score: 0.5107692307692308\n",
            "Class weights: [1.0, 2.0], F1-score: 0.5147364051473641\n",
            "Class weights: [1.0, 2.5], F1-score: 0.5268366958507802\n",
            "Class weights: [1.0, 3.0], F1-score: 0.5283422459893047\n",
            "Class weights: [1.0, 3.5], F1-score: 0.5228113440197288\n",
            "Class weights: [1.0, 4.0], F1-score: 0.5165523411869967\n",
            "Class weights: [1.0, 4.5], F1-score: 0.5043149946062567\n",
            "Class weights: [1.0, 5.0], F1-score: 0.4855662472242784\n",
            "Best class weights: [1.0, 3.0], Best F1-score: 0.5283422459893047\n"
          ]
        }
      ]
    },
    {
      "cell_type": "code",
      "source": [
        "import numpy as np\n",
        "from sklearn.metrics import f1_score\n",
        "from model_pipeline import SklearnSimpleNN, train_model, evaluate_model, load_and_preprocess_data\n",
        "\n",
        "# Define dataset-specific parameters\n",
        "url = \"https://archive.ics.uci.edu/ml/machine-learning-databases/00350/default%20of%20credit%20card%20clients.xls\"\n",
        "categorical_columns = ['sex', 'education', 'marriage']\n",
        "target = 'default_payment_next_month'\n",
        "\n",
        "# Load and preprocess data\n",
        "X_train, X_test, y_train, y_test, X_train_tensor, y_train_tensor, X_test_tensor, y_test_tensor = load_and_preprocess_data(url, categorical_columns, target)\n",
        "\n",
        "# Function to evaluate the model with different class weights\n",
        "def evaluate_class_weights(class_weights):\n",
        "    nn_estimator = SklearnSimpleNN(input_dim=X_train_tensor.shape[1], pos_weight=class_weights[1])\n",
        "    nn_estimator = train_model(nn_estimator, X_train_tensor, y_train_tensor)\n",
        "    y_pred = nn_estimator.predict(X_test_tensor.numpy())\n",
        "    f1 = f1_score(y_test_tensor.numpy(), y_pred)\n",
        "    return f1\n",
        "\n",
        "# Generate a range of class weights to test\n",
        "class_weight_range = np.linspace(0.5, 5.0, 10)\n",
        "best_f1 = 0\n",
        "best_weights = None\n",
        "\n",
        "for weight in class_weight_range:\n",
        "    class_weights = [1.0, weight]\n",
        "    f1 = evaluate_class_weights(class_weights)\n",
        "    print(f\"Class weights: {class_weights}, F1-score: {f1}\")\n",
        "    if f1 > best_f1:\n",
        "        best_f1 = f1\n",
        "        best_weights = class_weights\n",
        "\n",
        "print(f\"Best class weights: {best_weights}, Best F1-score: {best_f1}\")\n",
        "\n",
        "# Train and evaluate the model with the best class weights\n",
        "nn_estimator = SklearnSimpleNN(input_dim=X_train_tensor.shape[1], pos_weight=best_weights[1])\n",
        "nn_estimator = train_model(nn_estimator, X_train_tensor, y_train_tensor)\n",
        "evaluate_model(nn_estimator, X_test_tensor, y_test_tensor)\n",
        "\n",
        "# import numpy as np\n",
        "# from sklearn.metrics import classification_report, f1_score\n",
        "# from model_pipeline import SklearnSimpleNN, train_model, evaluate_model\n",
        "\n",
        "# # Define dataset-specific parameters\n",
        "# url = \"https://archive.ics.uci.edu/ml/machine-learning-databases/00350/default%20of%20credit%20card%20clients.xls\"\n",
        "# categorical_columns = ['sex', 'education', 'marriage']\n",
        "# target = 'default_payment_next_month'\n",
        "\n",
        "# # Load and preprocess data\n",
        "# X_train, X_test, y_train, y_test, X_train_tensor, y_train_tensor, X_test_tensor, y_test_tensor = load_and_preprocess_data(url, categorical_columns, target)\n",
        "\n",
        "# # Function to evaluate the model with different class weights\n",
        "# def evaluate_class_weights(class_weights):\n",
        "#     nn_estimator = SklearnSimpleNN(input_dim=X_train_tensor.shape[1], pos_weight=class_weights[1])\n",
        "#     nn_estimator = train_model(nn_estimator, X_train_tensor, y_train_tensor)\n",
        "#     y_pred = nn_estimator.predict(X_test_tensor.numpy())\n",
        "#     f1 = f1_score(y_test_tensor.numpy(), y_pred)\n",
        "#     return f1\n",
        "\n",
        "# # Generate a range of class weights to test\n",
        "# class_weight_range = np.linspace(0.5, 5.0, 10)\n",
        "# best_f1 = 0\n",
        "# best_weights = None\n",
        "\n",
        "# for weight in class_weight_range:\n",
        "#     class_weights = [1.0, weight]\n",
        "#     f1 = evaluate_class_weights(class_weights)\n",
        "#     print(f\"Class weights: {class_weights}, F1-score: {f1}\")\n",
        "#     if f1 > best_f1:\n",
        "#         best_f1 = f1\n",
        "#         best_weights = class_weights\n",
        "\n",
        "# print(f\"Best class weights: {best_weights}, Best F1-score: {best_f1}\")\n",
        "\n",
        "# # Train and evaluate the model with the best class weights\n",
        "# nn_estimator = SklearnSimpleNN(input_dim=X_train_tensor.shape[1], pos_weight=best_weights[1])\n",
        "# nn_estimator = train_model(nn_estimator, X_train_tensor, y_train_tensor)\n",
        "# evaluate_model(nn_estimator, X_test_tensor, y_test_tensor)"
      ],
      "metadata": {
        "colab": {
          "base_uri": "https://localhost:8080/",
          "height": 384
        },
        "id": "FWjELQ26-bBo",
        "outputId": "df986d46-7d3b-45da-843c-be22e0c8a2b2"
      },
      "execution_count": 16,
      "outputs": [
        {
          "output_type": "error",
          "ename": "ImportError",
          "evalue": "cannot import name 'load_and_preprocess_data' from 'model_pipeline' (/content/model_pipeline.py)",
          "traceback": [
            "\u001b[0;31m---------------------------------------------------------------------------\u001b[0m",
            "\u001b[0;31mImportError\u001b[0m                               Traceback (most recent call last)",
            "\u001b[0;32m<ipython-input-16-888bce6dbbf1>\u001b[0m in \u001b[0;36m<cell line: 3>\u001b[0;34m()\u001b[0m\n\u001b[1;32m      1\u001b[0m \u001b[0;32mimport\u001b[0m \u001b[0mnumpy\u001b[0m \u001b[0;32mas\u001b[0m \u001b[0mnp\u001b[0m\u001b[0;34m\u001b[0m\u001b[0;34m\u001b[0m\u001b[0m\n\u001b[1;32m      2\u001b[0m \u001b[0;32mfrom\u001b[0m \u001b[0msklearn\u001b[0m\u001b[0;34m.\u001b[0m\u001b[0mmetrics\u001b[0m \u001b[0;32mimport\u001b[0m \u001b[0mf1_score\u001b[0m\u001b[0;34m\u001b[0m\u001b[0;34m\u001b[0m\u001b[0m\n\u001b[0;32m----> 3\u001b[0;31m \u001b[0;32mfrom\u001b[0m \u001b[0mmodel_pipeline\u001b[0m \u001b[0;32mimport\u001b[0m \u001b[0mSklearnSimpleNN\u001b[0m\u001b[0;34m,\u001b[0m \u001b[0mtrain_model\u001b[0m\u001b[0;34m,\u001b[0m \u001b[0mevaluate_model\u001b[0m\u001b[0;34m,\u001b[0m \u001b[0mload_and_preprocess_data\u001b[0m\u001b[0;34m\u001b[0m\u001b[0;34m\u001b[0m\u001b[0m\n\u001b[0m\u001b[1;32m      4\u001b[0m \u001b[0;34m\u001b[0m\u001b[0m\n\u001b[1;32m      5\u001b[0m \u001b[0;31m# Define dataset-specific parameters\u001b[0m\u001b[0;34m\u001b[0m\u001b[0;34m\u001b[0m\u001b[0m\n",
            "\u001b[0;31mImportError\u001b[0m: cannot import name 'load_and_preprocess_data' from 'model_pipeline' (/content/model_pipeline.py)",
            "",
            "\u001b[0;31m---------------------------------------------------------------------------\u001b[0;32m\nNOTE: If your import is failing due to a missing package, you can\nmanually install dependencies using either !pip or !apt.\n\nTo view examples of installing some common dependencies, click the\n\"Open Examples\" button below.\n\u001b[0;31m---------------------------------------------------------------------------\u001b[0m\n"
          ],
          "errorDetails": {
            "actions": [
              {
                "action": "open_url",
                "actionText": "Open Examples",
                "url": "/notebooks/snippets/importing_libraries.ipynb"
              }
            ]
          }
        }
      ]
    },
    {
      "cell_type": "code",
      "source": [
        "print(best_weights)"
      ],
      "metadata": {
        "colab": {
          "base_uri": "https://localhost:8080/"
        },
        "id": "HxQBTtFLB4Nq",
        "outputId": "49b56f70-6276-4d11-eb09-e98ab44b8e3d"
      },
      "execution_count": 6,
      "outputs": [
        {
          "output_type": "stream",
          "name": "stdout",
          "text": [
            "[1.0, 2.5]\n"
          ]
        }
      ]
    },
    {
      "cell_type": "markdown",
      "source": [
        "### Understanding Threshold in Machine Learning\n",
        "\n",
        "**Threshold** refers to the value at which a continuous output from a model is converted into a binary classification. In many classification models, the output is a probability score between 0 and 1 that represents the likelihood of a given instance belonging to a positive class. The threshold is the cutoff point that determines which class the instance is assigned to.\n",
        "\n",
        "#### How Threshold Affects Class Imbalance and Model Performance\n",
        "\n",
        "1. **Class Imbalance**:\n",
        "   - In datasets with class imbalance, where one class is significantly more frequent than the other, the default threshold (usually 0.5) might not be optimal. For example, if you have a dataset where only 5% of the instances belong to the positive class, a model might output low probability scores for most instances. If you stick with a 0.5 threshold, the model will likely classify almost all instances as the negative class, leading to poor performance on the minority class.\n",
        "\n",
        "2. **Adjusting the Threshold**:\n",
        "   - **Lowering the Threshold**: By lowering the threshold (e.g., to 0.3 or 0.2), you increase the sensitivity of the model, allowing it to classify more instances as positive. This can improve the recall for the minority class but may reduce precision, leading to more false positives.\n",
        "   - **Raising the Threshold**: Conversely, increasing the threshold (e.g., to 0.7 or 0.8) makes the model more conservative, classifying fewer instances as positive. This can improve precision but reduce recall, leading to more false negatives.\n",
        "\n",
        "3. **Model Performance Metrics**:\n",
        "   - The choice of threshold affects various performance metrics differently. Key metrics include:\n",
        "     - **Accuracy**: The overall correctness of the model. However, it can be misleading in imbalanced datasets.\n",
        "     - **Precision**: The proportion of true positives among all predicted positives. Sensitive to false positives.\n",
        "     - **Recall (Sensitivity)**: The proportion of true positives among all actual positives. Sensitive to false negatives.\n",
        "     - **F1 Score**: The harmonic mean of precision and recall, providing a balance between the two.\n",
        "     - **ROC Curve and AUC**: The ROC curve plots the true positive rate against the false positive rate at various threshold settings. The AUC (Area Under the Curve) provides a single measure of model performance, regardless of the threshold.\n",
        "\n",
        "4. **Choosing the Optimal Threshold**:\n",
        "   - The optimal threshold depends on the specific goals and constraints of your project. For example, in medical diagnosis, you might prioritize recall to ensure that as many actual positive cases are identified as possible. In fraud detection, precision might be more critical to minimize false positives.\n",
        "   - Techniques such as Precision-Recall curves, ROC curves, and Grid Search can help in determining the most suitable threshold for your model.\n",
        "\n",
        "\n"
      ],
      "metadata": {
        "id": "5LvvwYdiB9Ll"
      }
    },
    {
      "cell_type": "markdown",
      "source": [
        "### Testing Different Thresholds"
      ],
      "metadata": {
        "id": "ZRmYnmGb9vq5"
      }
    },
    {
      "cell_type": "code",
      "source": [
        "import numpy as np\n",
        "import torch\n",
        "from sklearn.metrics import classification_report, precision_recall_curve, f1_score, precision_score, recall_score\n",
        "# from model_pipeline import load_and_preprocess_data, SklearnSimpleNN, train_model\n",
        "\n",
        "# Define dataset-specific parameters\n",
        "url = \"https://archive.ics.uci.edu/ml/machine-learning-databases/00350/default%20of%20credit%20card%20clients.xls\"\n",
        "categorical_columns = ['sex', 'education', 'marriage']\n",
        "target = 'default_payment_next_month'\n",
        "\n",
        "# Load and preprocess data\n",
        "X_train, X_test, y_train, y_test, X_train_tensor, y_train_tensor, X_test_tensor, y_test_tensor = load_and_preprocess_data(url, categorical_columns, target)\n",
        "\n",
        "# Best class weights obtained from previous evaluation\n",
        "best_weights = best_weights\n",
        "\n",
        "# Train the model with the best class weights\n",
        "nn_estimator = SklearnSimpleNN(input_dim=X_train_tensor.shape[1], pos_weight=best_weights[1])\n",
        "nn_estimator = train_model(nn_estimator, X_train_tensor, y_train_tensor)\n",
        "\n",
        "# Predict probabilities on the test set\n",
        "y_prob = nn_estimator.model(X_test_tensor).detach().numpy().squeeze()\n",
        "\n",
        "# Function to evaluate model performance at different thresholds\n",
        "def evaluate_thresholds(y_prob, y_test_tensor, thresholds):\n",
        "    results = []\n",
        "    for threshold in thresholds:\n",
        "        y_pred = (y_prob > threshold).astype(int)\n",
        "        f1 = f1_score(y_test_tensor.numpy(), y_pred)\n",
        "        precision = precision_score(y_test_tensor.numpy(), y_pred)\n",
        "        recall = recall_score(y_test_tensor.numpy(), y_pred)\n",
        "        results.append((threshold, f1, precision, recall))\n",
        "        print(f\"Threshold: {threshold:.2f}, F1-score: {f1:.4f}, Precision: {precision:.4f}, Recall: {recall:.4f}\")\n",
        "    return results\n",
        "\n",
        "# Define a range of thresholds to evaluate\n",
        "thresholds = np.arange(0.1, 0.9, 0.1)\n",
        "\n",
        "# Evaluate and print the results for each threshold\n",
        "results = evaluate_thresholds(y_prob, y_test_tensor, thresholds)\n",
        "\n",
        "# Plot Precision-Recall curve\n",
        "precision, recall, _ = precision_recall_curve(y_test_tensor.numpy(), y_prob)\n",
        "plt.plot(recall, precision, marker='.')\n",
        "plt.xlabel('Recall')\n",
        "plt.ylabel('Precision')\n",
        "plt.title('Precision-Recall Curve')\n",
        "plt.show()"
      ],
      "metadata": {
        "colab": {
          "base_uri": "https://localhost:8080/",
          "height": 611
        },
        "id": "hlA-GcI1DLHJ",
        "outputId": "259d3082-b853-4491-a797-db7fb676d408"
      },
      "execution_count": 10,
      "outputs": [
        {
          "output_type": "stream",
          "name": "stdout",
          "text": [
            "Threshold: 0.10, F1-score: 0.5241, Precision: 0.5447, Recall: 0.5049\n",
            "Threshold: 0.20, F1-score: 0.5227, Precision: 0.5642, Recall: 0.4868\n",
            "Threshold: 0.30, F1-score: 0.5185, Precision: 0.5790, Recall: 0.4695\n",
            "Threshold: 0.40, F1-score: 0.5157, Precision: 0.6028, Recall: 0.4506\n",
            "Threshold: 0.50, F1-score: 0.4996, Precision: 0.6073, Recall: 0.4243\n",
            "Threshold: 0.60, F1-score: 0.4950, Precision: 0.6229, Recall: 0.4107\n",
            "Threshold: 0.70, F1-score: 0.4821, Precision: 0.6283, Recall: 0.3911\n",
            "Threshold: 0.80, F1-score: 0.4730, Precision: 0.6353, Recall: 0.3768\n"
          ]
        },
        {
          "output_type": "display_data",
          "data": {
            "text/plain": [
              "<Figure size 640x480 with 1 Axes>"
            ],
            "image/png": "[encoded data removed]"
          },
          "metadata": {}
        }
      ]
    },
    {
      "cell_type": "markdown",
      "source": [
        "To interpret the precision-recall data and the plot, let's break down the metrics and what they signify:\n",
        "\n",
        "### Metrics Explanation\n",
        "\n",
        "1. **Threshold**:\n",
        "    - This is the decision threshold for classifying a positive instance. For example, a threshold of 0.10 means that if the predicted probability is greater than 0.10, the instance is classified as positive.\n",
        "\n",
        "2. **F1-Score**:\n",
        "    - The F1-score is the harmonic mean of precision and recall. It balances the trade-off between precision and recall, providing a single metric that captures both.\n",
        "\n",
        "3. **Precision**:\n",
        "    - Precision (or positive predictive value) is the ratio of true positive predictions to the total number of positive predictions. High precision indicates that the model is making fewer false positive errors.\n",
        "\n",
        "4. **Recall**:\n",
        "    - Recall (or sensitivity) is the ratio of true positive predictions to the total number of actual positives. High recall indicates that the model is capturing most of the positive instances.\n",
        "\n",
        "### Interpretation of the Data\n",
        "\n",
        "#### Precision-Recall Trade-Off\n",
        "\n",
        "- As you increase the threshold:\n",
        "    - **Precision tends to increase**: This is because the model becomes more conservative, classifying fewer instances as positive, thus reducing false positives.\n",
        "    - **Recall tends to decrease**: The model is less likely to classify instances as positive, increasing the chance of false negatives.\n",
        "\n",
        "- At a lower threshold (e.g., 0.10):\n",
        "    - The model is more lenient in classifying instances as positive, leading to higher recall but lower precision.\n",
        "    - This means the model captures more true positives but also includes more false positives.\n",
        "\n",
        "- At a higher threshold (e.g., 0.80):\n",
        "    - The model is more stringent, leading to higher precision but lower recall.\n",
        "    - This means the model is more accurate in its positive predictions but misses more true positives.\n",
        "\n",
        "### Plot Interpretation\n",
        "\n",
        "#### Precision-Recall Curve\n",
        "\n",
        "- The Precision-Recall curve is a plot of precision (y-axis) against recall (x-axis) at various threshold settings.\n",
        "    - **A good model** will have a curve that bows towards the top right corner, indicating high precision and high recall.\n",
        "\n",
        "#### Your Plot\n",
        "\n",
        "- The curve helps visualize the trade-off between precision and recall.\n",
        "- By examining the curve, you can choose a threshold that balances the two metrics according to your application's needs.\n",
        "\n",
        "### Choosing the Optimal Threshold\n",
        "\n",
        "- **Context-Dependent**: The optimal threshold depends on the specific context and goals of your application.\n",
        "    - If false positives are costly, you might prefer a higher threshold to increase precision.\n",
        "    - If false negatives are more critical, you might choose a lower threshold to increase recall.\n",
        "\n",
        "### Example Decision\n",
        "\n",
        "- In your data:\n",
        "    - At a threshold of 0.10, you have an F1-score of 0.5352, precision of 0.5295, and recall of 0.5411.\n",
        "    - At a threshold of 0.50, the F1-score is 0.5104, precision is 0.5808, and recall is 0.4552.\n",
        "    - If you prioritize recall, a lower threshold like 0.10 might be more suitable.\n",
        "    - If you prioritize precision, a higher threshold like 0.50 or 0.60 might be better.\n",
        "\n",
        "### Summary\n",
        "\n",
        "- Use the precision-recall curve to visualize and decide on the optimal threshold.\n",
        "- Choose the threshold that best balances precision and recall according to your application's requirements.\n",
        "- The F1-score can guide you to find a balanced point, but the final decision should consider the specific costs and benefits of precision and recall in your context.\n",
        "\n",
        "Would you like to implement this analysis or need further assistance with any specific part?"
      ],
      "metadata": {
        "id": "L7k62meXb-al"
      }
    },
    {
      "cell_type": "code",
      "source": [],
      "metadata": {
        "id": "ym-yp74Kb_D0"
      },
      "execution_count": null,
      "outputs": []
    }
  ]
}