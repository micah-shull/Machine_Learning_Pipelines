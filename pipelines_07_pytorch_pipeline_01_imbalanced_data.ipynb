{
  "nbformat": 4,
  "nbformat_minor": 0,
  "metadata": {
    "colab": {
      "provenance": [],
      "authorship_tag": "ABX9TyPlF/RmSLb/AybMXB2szbrG",
      "include_colab_link": true
    },
    "kernelspec": {
      "name": "python3",
      "display_name": "Python 3"
    },
    "language_info": {
      "name": "python"
    }
  },
  "cells": [
    {
      "cell_type": "markdown",
      "metadata": {
        "id": "view-in-github",
        "colab_type": "text"
      },
      "source": [
        "<a href=\"https://colab.research.google.com/github/micah-shull/pipelines/blob/main/pipelines_07_pytorch_pipeline_01_imbalanced_data.ipynb\" target=\"_parent\"><img src=\"https://colab.research.google.com/assets/colab-badge.svg\" alt=\"Open In Colab\"/></a>"
      ]
    },
    {
      "cell_type": "markdown",
      "source": [
        "### Testing Class Imbalance\n",
        "\n",
        "1. **Analyze Class Imbalance**:\n",
        "    - Check the distribution of classes in your target variable.\n",
        "    - Visualize the imbalance using bar plots or pie charts.\n",
        "\n",
        "2. **Implement Sampling Techniques**:\n",
        "    - **Random Undersampling**: Already included in your pipeline.\n",
        "    - **Random Oversampling**: Use techniques like SMOTE (Synthetic Minority Over-sampling Technique).\n",
        "    - **Combination of Over- and Undersampling**: Apply methods like SMOTEENN or SMOTETomek.\n",
        "\n",
        "3. **Evaluate the Impact of Sampling**:\n",
        "    - Compare model performance metrics (e.g., F1-score, precision, recall) before and after applying sampling techniques.\n",
        "    - Use cross-validation to ensure robustness of the results.\n",
        "\n",
        "4. **Parameter Tuning**:\n",
        "    - Tune hyperparameters for both the sampling techniques and the model itself.\n",
        "    - Use GridSearchCV or RandomizedSearchCV to find the optimal parameters.\n",
        "\n",
        "5. **Experiment with Different Models**:\n",
        "    - Compare the performance of different classifiers (e.g., RandomForest, SVM, XGBoost) on your dataset.\n",
        "    - Use ensemble methods to potentially improve performance.\n",
        "\n"
      ],
      "metadata": {
        "id": "yHe3mvsM6_br"
      }
    },
    {
      "cell_type": "markdown",
      "source": [
        "1. **Analyze Class Imbalance**:"
      ],
      "metadata": {
        "id": "Bc5M7C0Q7rAu"
      }
    },
    {
      "cell_type": "code",
      "source": [
        "import pandas as pd\n",
        "import matplotlib.pyplot as plt\n",
        "import seaborn as sns\n",
        "from model_pipeline import load_data_from_url, clean_column_names, remove_id_column, convert_categorical, split_data\n",
        "\n",
        "# Define dataset-specific parameters\n",
        "url = \"https://archive.ics.uci.edu/ml/machine-learning-databases/00350/default%20of%20credit%20card%20clients.xls\"\n",
        "categorical_columns = ['sex', 'education', 'marriage']\n",
        "target = 'default_payment_next_month'\n",
        "\n",
        "# Load and preprocess data\n",
        "data = load_data_from_url(url)\n",
        "data = clean_column_names(data)\n",
        "data = remove_id_column(data)\n",
        "data = convert_categorical(data, categorical_columns=categorical_columns)\n",
        "X_train, X_test, y_train, y_test = split_data(data, target=target)\n",
        "\n",
        "# Plot class balance in the training set\n",
        "plt.figure(figsize=(8, 5))\n",
        "sns.countplot(x=y_train, hue=y_train, palette='PuRd')\n",
        "plt.title('Class Distribution in Training Set')\n",
        "plt.xlabel('Class')\n",
        "plt.ylabel('Count')\n",
        "plt.show()\n"
      ],
      "metadata": {
        "colab": {
          "base_uri": "https://localhost:8080/",
          "height": 487
        },
        "id": "fdATPnUG7oxv",
        "outputId": "ebc2ff40-9839-4c57-8ebf-43aa4f8805ee"
      },
      "execution_count": 1,
      "outputs": [
        {
          "output_type": "display_data",
          "data": {
            "text/plain": [
              "<Figure size 800x500 with 1 Axes>"
            ],
            "image/png": "[encoded data removed]"
          },
          "metadata": {}
        }
      ]
    },
    {
      "cell_type": "markdown",
      "source": [
        "### 1. Adjusting Class Weights in the Model\n",
        "You can modify the class weights in the loss function of your neural network. This approach is already somewhat addressed in your code, but you can fine-tune the class weights to see if it improves performance.\n",
        "\n",
        "### 2. Using Different Thresholds for Classification\n",
        "Instead of the default threshold of 0.5 for binary classification, you can experiment with different threshold values to find the optimal one that balances precision and recall.\n",
        "\n",
        "### 3. Resampling Techniques (Undersampling/Oversampling)\n",
        "You can try undersampling the majority class or oversampling the minority class using techniques like RandomUndersampler or RandomOversampler. This approach is already part of your pipeline, but you can try different sampling strategies.\n",
        "\n"
      ],
      "metadata": {
        "id": "KvZ_jMDq9MD2"
      }
    },
    {
      "cell_type": "markdown",
      "source": [
        "### Refactor Load and Process Steps"
      ],
      "metadata": {
        "id": "VqTVeEad_3fG"
      }
    },
    {
      "cell_type": "code",
      "source": [
        "import pandas as pd\n",
        "import torch\n",
        "from model_pipeline import load_data_from_url, clean_column_names, remove_id_column, convert_categorical, split_data, define_preprocessor, preprocess_data\n",
        "\n",
        "def load_and_preprocess_data(url, categorical_columns, target):\n",
        "    # Load and preprocess data\n",
        "    data = load_data_from_url(url)\n",
        "    data = clean_column_names(data)\n",
        "    data = remove_id_column(data)\n",
        "    data = convert_categorical(data, categorical_columns=categorical_columns)\n",
        "    X_train, X_test, y_train, y_test = split_data(data, target=target)\n",
        "    preprocessor = define_preprocessor(X_train)\n",
        "    X_train_processed, X_test_processed = preprocess_data(preprocessor, X_train, X_test)\n",
        "\n",
        "    # Convert data to PyTorch tensors\n",
        "    X_train_tensor = torch.tensor(X_train_processed, dtype=torch.float32)\n",
        "    y_train_tensor = torch.tensor(y_train.values, dtype=torch.float32).unsqueeze(1)\n",
        "    X_test_tensor = torch.tensor(X_test_processed, dtype=torch.float32)\n",
        "    y_test_tensor = torch.tensor(y_test.values, dtype=torch.float32).unsqueeze(1)\n",
        "\n",
        "    return X_train, X_test, y_train, y_test, X_train_tensor, y_train_tensor, X_test_tensor, y_test_tensor\n"
      ],
      "metadata": {
        "id": "2ihD6fsh_5eM"
      },
      "execution_count": 2,
      "outputs": []
    },
    {
      "cell_type": "markdown",
      "source": [
        "## Experiment with Different Class Weights"
      ],
      "metadata": {
        "id": "2y4LFYDw-Y3o"
      }
    },
    {
      "cell_type": "code",
      "source": [
        "import numpy as np\n",
        "from sklearn.metrics import classification_report, f1_score\n",
        "from model_pipeline import SklearnSimpleNN, train_model, evaluate_model\n",
        "\n",
        "# Define dataset-specific parameters\n",
        "url = \"https://archive.ics.uci.edu/ml/machine-learning-databases/00350/default%20of%20credit%20card%20clients.xls\"\n",
        "categorical_columns = ['sex', 'education', 'marriage']\n",
        "target = 'default_payment_next_month'\n",
        "\n",
        "# Load and preprocess data\n",
        "X_train, X_test, y_train, y_test, X_train_tensor, y_train_tensor, X_test_tensor, y_test_tensor = load_and_preprocess_data(url, categorical_columns, target)\n",
        "\n",
        "# Function to evaluate the model with different class weights\n",
        "def evaluate_class_weights(class_weights):\n",
        "    nn_estimator = SklearnSimpleNN(input_dim=X_train_tensor.shape[1], pos_weight=class_weights[1])\n",
        "    nn_estimator = train_model(nn_estimator, X_train_tensor, y_train_tensor)\n",
        "    y_pred = nn_estimator.predict(X_test_tensor.numpy())\n",
        "    f1 = f1_score(y_test_tensor.numpy(), y_pred)\n",
        "    return f1\n",
        "\n",
        "# Generate a range of class weights to test\n",
        "class_weight_range = np.linspace(0.5, 5.0, 10)\n",
        "best_f1 = 0\n",
        "best_weights = None\n",
        "\n",
        "for weight in class_weight_range:\n",
        "    class_weights = [1.0, weight]\n",
        "    f1 = evaluate_class_weights(class_weights)\n",
        "    print(f\"Class weights: {class_weights}, F1-score: {f1}\")\n",
        "    if f1 > best_f1:\n",
        "        best_f1 = f1\n",
        "        best_weights = class_weights\n",
        "\n",
        "print(f\"Best class weights: {best_weights}, Best F1-score: {best_f1}\")\n",
        "\n",
        "# Train and evaluate the model with the best class weights\n",
        "nn_estimator = SklearnSimpleNN(input_dim=X_train_tensor.shape[1], pos_weight=best_weights[1])\n",
        "nn_estimator = train_model(nn_estimator, X_train_tensor, y_train_tensor)\n",
        "evaluate_model(nn_estimator, X_test_tensor, y_test_tensor)"
      ],
      "metadata": {
        "colab": {
          "base_uri": "https://localhost:8080/"
        },
        "id": "FWjELQ26-bBo",
        "outputId": "518a60e2-9313-4bd6-9775-708724501bbc"
      },
      "execution_count": 3,
      "outputs": [
        {
          "output_type": "stream",
          "name": "stdout",
          "text": [
            "Class weights: [1.0, 0.5], F1-score: 0.31365533691115083\n",
            "Class weights: [1.0, 1.0], F1-score: 0.44708209693372897\n",
            "Class weights: [1.0, 1.5], F1-score: 0.501323918799647\n",
            "Class weights: [1.0, 2.0], F1-score: 0.5222222222222223\n",
            "Class weights: [1.0, 2.5], F1-score: 0.5317664340800587\n",
            "Class weights: [1.0, 3.0], F1-score: 0.5268542199488491\n",
            "Class weights: [1.0, 3.5], F1-score: 0.5253395163961577\n",
            "Class weights: [1.0, 4.0], F1-score: 0.5158705701078582\n",
            "Class weights: [1.0, 4.5], F1-score: 0.5259600614439324\n",
            "Class weights: [1.0, 5.0], F1-score: 0.49588968443383713\n",
            "Best class weights: [1.0, 2.5], Best F1-score: 0.5317664340800587\n",
            "              precision    recall  f1-score   support\n",
            "\n",
            "         0.0       0.87      0.86      0.87      4673\n",
            "         1.0       0.53      0.54      0.53      1327\n",
            "\n",
            "    accuracy                           0.79      6000\n",
            "   macro avg       0.70      0.70      0.70      6000\n",
            "weighted avg       0.79      0.79      0.79      6000\n",
            "\n"
          ]
        }
      ]
    },
    {
      "cell_type": "code",
      "source": [
        "print(best_weights)"
      ],
      "metadata": {
        "colab": {
          "base_uri": "https://localhost:8080/"
        },
        "id": "HxQBTtFLB4Nq",
        "outputId": "51cb5bf5-a5aa-4e8a-d5c4-3a4d1057da65"
      },
      "execution_count": 4,
      "outputs": [
        {
          "output_type": "stream",
          "name": "stdout",
          "text": [
            "[1.0, 2.5]\n"
          ]
        }
      ]
    },
    {
      "cell_type": "markdown",
      "source": [
        "### Testing Different Thresholds"
      ],
      "metadata": {
        "id": "ZRmYnmGb9vq5"
      }
    },
    {
      "cell_type": "code",
      "source": [
        "# import numpy as np\n",
        "# import torch\n",
        "# from sklearn.metrics import classification_report, precision_recall_curve, f1_score, precision_score, recall_score\n",
        "# from model_pipeline import load_and_preprocess_data, SklearnSimpleNN, train_model\n",
        "\n",
        "# Define dataset-specific parameters\n",
        "url = \"https://archive.ics.uci.edu/ml/machine-learning-databases/00350/default%20of%20credit%20card%20clients.xls\"\n",
        "categorical_columns = ['sex', 'education', 'marriage']\n",
        "target = 'default_payment_next_month'\n",
        "\n",
        "# Load and preprocess data\n",
        "X_train, X_test, y_train, y_test, X_train_tensor, y_train_tensor, X_test_tensor, y_test_tensor = load_and_preprocess_data(url, categorical_columns, target)\n",
        "\n",
        "# Best class weights obtained from previous evaluation\n",
        "best_weights = best_weights\n",
        "\n",
        "# Train the model with the best class weights\n",
        "nn_estimator = SklearnSimpleNN(input_dim=X_train_tensor.shape[1], pos_weight=best_weights[1])\n",
        "nn_estimator = train_model(nn_estimator, X_train_tensor, y_train_tensor)\n",
        "\n",
        "# Predict probabilities on the test set\n",
        "y_prob = nn_estimator.model(X_test_tensor).detach().numpy().squeeze()\n",
        "\n",
        "# Function to evaluate model performance at different thresholds\n",
        "def evaluate_thresholds(y_prob, y_test_tensor, thresholds):\n",
        "    results = []\n",
        "    for threshold in thresholds:\n",
        "        y_pred = (y_prob > threshold).astype(int)\n",
        "        f1 = f1_score(y_test_tensor.numpy(), y_pred)\n",
        "        precision = precision_score(y_test_tensor.numpy(), y_pred)\n",
        "        recall = recall_score(y_test_tensor.numpy(), y_pred)\n",
        "        results.append((threshold, f1, precision, recall))\n",
        "        print(f\"Threshold: {threshold:.2f}, F1-score: {f1:.4f}, Precision: {precision:.4f}, Recall: {recall:.4f}\")\n",
        "    return results\n",
        "\n",
        "# Define a range of thresholds to evaluate\n",
        "thresholds = np.arange(0.1, 0.9, 0.1)\n",
        "\n",
        "# Evaluate and print the results for each threshold\n",
        "results = evaluate_thresholds(y_prob, y_test_tensor, thresholds)\n",
        "\n",
        "# Plot Precision-Recall curve\n",
        "precision, recall, _ = precision_recall_curve(y_test_tensor.numpy(), y_prob)\n",
        "plt.plot(recall, precision, marker='.')\n",
        "plt.xlabel('Recall')\n",
        "plt.ylabel('Precision')\n",
        "plt.title('Precision-Recall Curve')\n",
        "plt.show()"
      ],
      "metadata": {
        "colab": {
          "base_uri": "https://localhost:8080/",
          "height": 611
        },
        "id": "hlA-GcI1DLHJ",
        "outputId": "e2e2acee-43fe-44ca-a101-62313d7d52a9"
      },
      "execution_count": 6,
      "outputs": [
        {
          "output_type": "stream",
          "name": "stdout",
          "text": [
            "Threshold: 0.10, F1-score: 0.5352, Precision: 0.5295, Recall: 0.5411\n",
            "Threshold: 0.20, F1-score: 0.5296, Precision: 0.5372, Recall: 0.5222\n",
            "Threshold: 0.30, F1-score: 0.5225, Precision: 0.5495, Recall: 0.4981\n",
            "Threshold: 0.40, F1-score: 0.5161, Precision: 0.5633, Recall: 0.4763\n",
            "Threshold: 0.50, F1-score: 0.5104, Precision: 0.5808, Recall: 0.4552\n",
            "Threshold: 0.60, F1-score: 0.5087, Precision: 0.5998, Recall: 0.4416\n",
            "Threshold: 0.70, F1-score: 0.4949, Precision: 0.6090, Recall: 0.4167\n",
            "Threshold: 0.80, F1-score: 0.4881, Precision: 0.6254, Recall: 0.4002\n"
          ]
        },
        {
          "output_type": "display_data",
          "data": {
            "text/plain": [
              "<Figure size 640x480 with 1 Axes>"
            ],
            "image/png": "[encoded data removed]"
          },
          "metadata": {}
        }
      ]
    },
    {
      "cell_type": "markdown",
      "source": [
        "To interpret the precision-recall data and the plot, let's break down the metrics and what they signify:\n",
        "\n",
        "### Metrics Explanation\n",
        "\n",
        "1. **Threshold**:\n",
        "    - This is the decision threshold for classifying a positive instance. For example, a threshold of 0.10 means that if the predicted probability is greater than 0.10, the instance is classified as positive.\n",
        "\n",
        "2. **F1-Score**:\n",
        "    - The F1-score is the harmonic mean of precision and recall. It balances the trade-off between precision and recall, providing a single metric that captures both.\n",
        "\n",
        "3. **Precision**:\n",
        "    - Precision (or positive predictive value) is the ratio of true positive predictions to the total number of positive predictions. High precision indicates that the model is making fewer false positive errors.\n",
        "\n",
        "4. **Recall**:\n",
        "    - Recall (or sensitivity) is the ratio of true positive predictions to the total number of actual positives. High recall indicates that the model is capturing most of the positive instances.\n",
        "\n",
        "### Interpretation of the Data\n",
        "\n",
        "#### Precision-Recall Trade-Off\n",
        "\n",
        "- As you increase the threshold:\n",
        "    - **Precision tends to increase**: This is because the model becomes more conservative, classifying fewer instances as positive, thus reducing false positives.\n",
        "    - **Recall tends to decrease**: The model is less likely to classify instances as positive, increasing the chance of false negatives.\n",
        "\n",
        "- At a lower threshold (e.g., 0.10):\n",
        "    - The model is more lenient in classifying instances as positive, leading to higher recall but lower precision.\n",
        "    - This means the model captures more true positives but also includes more false positives.\n",
        "\n",
        "- At a higher threshold (e.g., 0.80):\n",
        "    - The model is more stringent, leading to higher precision but lower recall.\n",
        "    - This means the model is more accurate in its positive predictions but misses more true positives.\n",
        "\n",
        "### Plot Interpretation\n",
        "\n",
        "#### Precision-Recall Curve\n",
        "\n",
        "- The Precision-Recall curve is a plot of precision (y-axis) against recall (x-axis) at various threshold settings.\n",
        "    - **A good model** will have a curve that bows towards the top right corner, indicating high precision and high recall.\n",
        "\n",
        "#### Your Plot\n",
        "\n",
        "- The curve helps visualize the trade-off between precision and recall.\n",
        "- By examining the curve, you can choose a threshold that balances the two metrics according to your application's needs.\n",
        "\n",
        "### Choosing the Optimal Threshold\n",
        "\n",
        "- **Context-Dependent**: The optimal threshold depends on the specific context and goals of your application.\n",
        "    - If false positives are costly, you might prefer a higher threshold to increase precision.\n",
        "    - If false negatives are more critical, you might choose a lower threshold to increase recall.\n",
        "\n",
        "### Example Decision\n",
        "\n",
        "- In your data:\n",
        "    - At a threshold of 0.10, you have an F1-score of 0.5352, precision of 0.5295, and recall of 0.5411.\n",
        "    - At a threshold of 0.50, the F1-score is 0.5104, precision is 0.5808, and recall is 0.4552.\n",
        "    - If you prioritize recall, a lower threshold like 0.10 might be more suitable.\n",
        "    - If you prioritize precision, a higher threshold like 0.50 or 0.60 might be better.\n",
        "\n",
        "### Summary\n",
        "\n",
        "- Use the precision-recall curve to visualize and decide on the optimal threshold.\n",
        "- Choose the threshold that best balances precision and recall according to your application's requirements.\n",
        "- The F1-score can guide you to find a balanced point, but the final decision should consider the specific costs and benefits of precision and recall in your context.\n",
        "\n",
        "Would you like to implement this analysis or need further assistance with any specific part?"
      ],
      "metadata": {
        "id": "L7k62meXb-al"
      }
    },
    {
      "cell_type": "code",
      "source": [],
      "metadata": {
        "id": "ym-yp74Kb_D0"
      },
      "execution_count": null,
      "outputs": []
    }
  ]
}