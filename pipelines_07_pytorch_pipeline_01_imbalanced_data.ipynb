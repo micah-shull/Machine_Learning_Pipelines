{
  "nbformat": 4,
  "nbformat_minor": 0,
  "metadata": {
    "colab": {
      "provenance": [],
      "authorship_tag": "ABX9TyOe8L7f9p9AOu0G3mabr5Yl",
      "include_colab_link": true
    },
    "kernelspec": {
      "name": "python3",
      "display_name": "Python 3"
    },
    "language_info": {
      "name": "python"
    }
  },
  "cells": [
    {
      "cell_type": "markdown",
      "metadata": {
        "id": "view-in-github",
        "colab_type": "text"
      },
      "source": [
        "<a href=\"https://colab.research.google.com/github/micah-shull/pipelines/blob/main/pipelines_07_pytorch_pipeline_01_imbalanced_data.ipynb\" target=\"_parent\"><img src=\"https://colab.research.google.com/assets/colab-badge.svg\" alt=\"Open In Colab\"/></a>"
      ]
    },
    {
      "cell_type": "markdown",
      "source": [
        "### Testing Class Imbalance\n",
        "\n",
        "1. **Analyze Class Imbalance**:\n",
        "    - Check the distribution of classes in your target variable.\n",
        "    - Visualize the imbalance using bar plots or pie charts.\n",
        "\n",
        "2. **Implement Sampling Techniques**:\n",
        "    - **Random Undersampling**: Already included in your pipeline.\n",
        "    - **Random Oversampling**: Use techniques like SMOTE (Synthetic Minority Over-sampling Technique).\n",
        "    - **Combination of Over- and Undersampling**: Apply methods like SMOTEENN or SMOTETomek.\n",
        "\n",
        "3. **Evaluate the Impact of Sampling**:\n",
        "    - Compare model performance metrics (e.g., F1-score, precision, recall) before and after applying sampling techniques.\n",
        "    - Use cross-validation to ensure robustness of the results.\n",
        "\n",
        "4. **Parameter Tuning**:\n",
        "    - Tune hyperparameters for both the sampling techniques and the model itself.\n",
        "    - Use GridSearchCV or RandomizedSearchCV to find the optimal parameters.\n",
        "\n",
        "5. **Experiment with Different Models**:\n",
        "    - Compare the performance of different classifiers (e.g., RandomForest, SVM, XGBoost) on your dataset.\n",
        "    - Use ensemble methods to potentially improve performance.\n",
        "\n"
      ],
      "metadata": {
        "id": "yHe3mvsM6_br"
      }
    },
    {
      "cell_type": "markdown",
      "source": [
        "1. **Analyze Class Imbalance**:"
      ],
      "metadata": {
        "id": "Bc5M7C0Q7rAu"
      }
    },
    {
      "cell_type": "code",
      "source": [
        "import pandas as pd\n",
        "import matplotlib.pyplot as plt\n",
        "import seaborn as sns\n",
        "from model_pipeline import load_data_from_url, clean_column_names, remove_id_column, convert_categorical, split_data\n",
        "\n",
        "# Define dataset-specific parameters\n",
        "url = \"https://archive.ics.uci.edu/ml/machine-learning-databases/00350/default%20of%20credit%20card%20clients.xls\"\n",
        "categorical_columns = ['sex', 'education', 'marriage']\n",
        "target = 'default_payment_next_month'\n",
        "\n",
        "# Load and preprocess data\n",
        "data = load_data_from_url(url)\n",
        "data = clean_column_names(data)\n",
        "data = remove_id_column(data)\n",
        "data = convert_categorical(data, categorical_columns=categorical_columns)\n",
        "X_train, X_test, y_train, y_test = split_data(data, target=target)\n",
        "\n",
        "# Plot class balance in the training set\n",
        "plt.figure(figsize=(8, 5))\n",
        "sns.countplot(x=y_train, hue=y_train, palette='PuRd')\n",
        "plt.title('Class Distribution in Training Set')\n",
        "plt.xlabel('Class')\n",
        "plt.ylabel('Count')\n",
        "plt.show()\n"
      ],
      "metadata": {
        "colab": {
          "base_uri": "https://localhost:8080/",
          "height": 487
        },
        "id": "fdATPnUG7oxv",
        "outputId": "545ce7f6-4656-46f4-a5ca-05e87f8f1f61"
      },
      "execution_count": 5,
      "outputs": [
        {
          "output_type": "display_data",
          "data": {
            "text/plain": [
              "<Figure size 800x500 with 1 Axes>"
            ],
            "image/png": "[encoded data removed]"
          },
          "metadata": {}
        }
      ]
    },
    {
      "cell_type": "markdown",
      "source": [
        "### 1. Adjusting Class Weights in the Model\n",
        "You can modify the class weights in the loss function of your neural network. This approach is already somewhat addressed in your code, but you can fine-tune the class weights to see if it improves performance.\n",
        "\n",
        "### 2. Using Different Thresholds for Classification\n",
        "Instead of the default threshold of 0.5 for binary classification, you can experiment with different threshold values to find the optimal one that balances precision and recall.\n",
        "\n",
        "### 3. Resampling Techniques (Undersampling/Oversampling)\n",
        "You can try undersampling the majority class or oversampling the minority class using techniques like RandomUndersampler or RandomOversampler. This approach is already part of your pipeline, but you can try different sampling strategies.\n",
        "\n"
      ],
      "metadata": {
        "id": "KvZ_jMDq9MD2"
      }
    },
    {
      "cell_type": "markdown",
      "source": [
        "### Refactor Load and Process Steps"
      ],
      "metadata": {
        "id": "VqTVeEad_3fG"
      }
    },
    {
      "cell_type": "code",
      "source": [
        "import pandas as pd\n",
        "import torch\n",
        "from model_pipeline import load_data_from_url, clean_column_names, remove_id_column, convert_categorical, split_data, define_preprocessor, preprocess_data\n",
        "\n",
        "def load_and_preprocess_data(url, categorical_columns, target):\n",
        "    # Load and preprocess data\n",
        "    data = load_data_from_url(url)\n",
        "    data = clean_column_names(data)\n",
        "    data = remove_id_column(data)\n",
        "    data = convert_categorical(data, categorical_columns=categorical_columns)\n",
        "    X_train, X_test, y_train, y_test = split_data(data, target=target)\n",
        "    preprocessor = define_preprocessor(X_train)\n",
        "    X_train_processed, X_test_processed = preprocess_data(preprocessor, X_train, X_test)\n",
        "\n",
        "    # Convert data to PyTorch tensors\n",
        "    X_train_tensor = torch.tensor(X_train_processed, dtype=torch.float32)\n",
        "    y_train_tensor = torch.tensor(y_train.values, dtype=torch.float32).unsqueeze(1)\n",
        "    X_test_tensor = torch.tensor(X_test_processed, dtype=torch.float32)\n",
        "    y_test_tensor = torch.tensor(y_test.values, dtype=torch.float32).unsqueeze(1)\n",
        "\n",
        "    return X_train, X_test, y_train, y_test, X_train_tensor, y_train_tensor, X_test_tensor, y_test_tensor\n"
      ],
      "metadata": {
        "id": "2ihD6fsh_5eM"
      },
      "execution_count": 13,
      "outputs": []
    },
    {
      "cell_type": "markdown",
      "source": [
        "## Experiment with Different Class Weights"
      ],
      "metadata": {
        "id": "2y4LFYDw-Y3o"
      }
    },
    {
      "cell_type": "code",
      "source": [
        "import numpy as np\n",
        "from sklearn.metrics import classification_report, f1_score\n",
        "from model_pipeline import SklearnSimpleNN, train_model, evaluate_model\n",
        "\n",
        "# Define dataset-specific parameters\n",
        "url = \"https://archive.ics.uci.edu/ml/machine-learning-databases/00350/default%20of%20credit%20card%20clients.xls\"\n",
        "categorical_columns = ['sex', 'education', 'marriage']\n",
        "target = 'default_payment_next_month'\n",
        "\n",
        "# Load and preprocess data\n",
        "X_train, X_test, y_train, y_test, X_train_tensor, y_train_tensor, X_test_tensor, y_test_tensor = load_and_preprocess_data(url, categorical_columns, target)\n",
        "\n",
        "# Function to evaluate the model with different class weights\n",
        "def evaluate_class_weights(class_weights):\n",
        "    nn_estimator = SklearnSimpleNN(input_dim=X_train_tensor.shape[1], pos_weight=class_weights[1])\n",
        "    nn_estimator = train_model(nn_estimator, X_train_tensor, y_train_tensor)\n",
        "    y_pred = nn_estimator.predict(X_test_tensor.numpy())\n",
        "    f1 = f1_score(y_test_tensor.numpy(), y_pred)\n",
        "    return f1\n",
        "\n",
        "# Generate a range of class weights to test\n",
        "class_weight_range = np.linspace(0.5, 5.0, 10)\n",
        "best_f1 = 0\n",
        "best_weights = None\n",
        "\n",
        "for weight in class_weight_range:\n",
        "    class_weights = [1.0, weight]\n",
        "    f1 = evaluate_class_weights(class_weights)\n",
        "    print(f\"Class weights: {class_weights}, F1-score: {f1}\")\n",
        "    if f1 > best_f1:\n",
        "        best_f1 = f1\n",
        "        best_weights = class_weights\n",
        "\n",
        "print(f\"Best class weights: {best_weights}, Best F1-score: {best_f1}\")\n",
        "\n",
        "# Train and evaluate the model with the best class weights\n",
        "nn_estimator = SklearnSimpleNN(input_dim=X_train_tensor.shape[1], pos_weight=best_weights[1])\n",
        "nn_estimator = train_model(nn_estimator, X_train_tensor, y_train_tensor)\n",
        "evaluate_model(nn_estimator, X_test_tensor, y_test_tensor)"
      ],
      "metadata": {
        "colab": {
          "base_uri": "https://localhost:8080/"
        },
        "id": "FWjELQ26-bBo",
        "outputId": "df4144bb-6065-43cd-8173-a4762344ced2"
      },
      "execution_count": null,
      "outputs": [
        {
          "output_type": "stream",
          "name": "stdout",
          "text": [
            "Class weights: [1.0, 0.5], F1-score: 0.3651877133105802\n",
            "Class weights: [1.0, 1.0], F1-score: 0.48958815363257757\n",
            "Class weights: [1.0, 1.5], F1-score: 0.4928057553956834\n",
            "Class weights: [1.0, 2.0], F1-score: 0.5168450257629805\n"
          ]
        }
      ]
    },
    {
      "cell_type": "code",
      "source": [
        "print(best_weights)"
      ],
      "metadata": {
        "colab": {
          "base_uri": "https://localhost:8080/"
        },
        "id": "HxQBTtFLB4Nq",
        "outputId": "2a32f0a8-da26-47fe-faa7-82f73a30da31"
      },
      "execution_count": 15,
      "outputs": [
        {
          "output_type": "stream",
          "name": "stdout",
          "text": [
            "None\n"
          ]
        }
      ]
    },
    {
      "cell_type": "markdown",
      "source": [
        "### Testing Different Thresholds"
      ],
      "metadata": {
        "id": "ZRmYnmGb9vq5"
      }
    },
    {
      "cell_type": "code",
      "source": [
        "import numpy as np\n",
        "import pandas as pd\n",
        "import matplotlib.pyplot as plt\n",
        "import seaborn as sns\n",
        "import torch\n",
        "from model_pipeline import load_data_from_url, clean_column_names, remove_id_column, convert_categorical, split_data, define_preprocessor, preprocess_data, SklearnSimpleNN, train_model, evaluate_model\n",
        "from sklearn.metrics import classification_report, precision_recall_curve\n",
        "\n",
        "# Define dataset-specific parameters\n",
        "url = \"https://archive.ics.uci.edu/ml/machine-learning-databases/00350/default%20of%20credit%20card%20clients.xls\"\n",
        "categorical_columns = ['sex', 'education', 'marriage']\n",
        "target = 'default_payment_next_month'\n",
        "\n",
        "# Load and preprocess data\n",
        "data = load_data_from_url(url)\n",
        "data = clean_column_names(data)\n",
        "data = remove_id_column(data)\n",
        "data = convert_categorical(data, categorical_columns=categorical_columns)\n",
        "X_train, X_test, y_train, y_test = split_data(data, target=target)\n",
        "preprocessor = define_preprocessor(X_train)\n",
        "X_train_processed, X_test_processed = preprocess_data(preprocessor, X_train, X_test)\n",
        "\n",
        "# Calculate class weights for imbalanced datasets\n",
        "class_weights = len(y_train) / (2 * np.bincount(y_train))\n",
        "\n",
        "# Convert data to PyTorch tensors\n",
        "X_train_tensor = torch.tensor(X_train_processed, dtype=torch.float32)\n",
        "y_train_tensor = torch.tensor(y_train.values, dtype=torch.float32).unsqueeze(1)\n",
        "X_test_tensor = torch.tensor(X_test_processed, dtype=torch.float32)\n",
        "y_test_tensor = torch.tensor(y_test.values, dtype=torch.float32).unsqueeze(1)\n",
        "\n",
        "# Define the neural network estimator\n",
        "nn_estimator = SklearnSimpleNN(input_dim=X_train_tensor.shape[1], pos_weight=class_weights[1])\n",
        "\n",
        "# Train the model\n",
        "nn_estimator = train_model(nn_estimator, X_train_tensor, y_train_tensor)\n",
        "\n",
        "# Predict probabilities on the test set\n",
        "y_prob = nn_estimator.model(X_test_tensor).detach().numpy().squeeze()\n",
        "\n",
        "# Evaluate the model with different thresholds\n",
        "thresholds = np.arange(0.1, 0.9, 0.1)\n",
        "for threshold in thresholds:\n",
        "    y_pred = (y_prob > threshold).astype(int)\n",
        "    print(f\"Classification report for threshold {threshold}:\\n\")\n",
        "    print(classification_report(y_test_tensor.numpy(), y_pred))\n",
        "\n",
        "# Plot Precision-Recall curve\n",
        "precision, recall, thresholds = precision_recall_curve(y_test_tensor.numpy(), y_prob)\n",
        "plt.plot(recall, precision, marker='.')\n",
        "plt.xlabel('Recall')\n",
        "plt.ylabel('Precision')\n",
        "plt.title('Precision-Recall Curve')\n",
        "plt.show()\n"
      ],
      "metadata": {
        "colab": {
          "base_uri": "https://localhost:8080/",
          "height": 1000
        },
        "id": "2M-c3bdU9rt3",
        "outputId": "c275dfbc-e764-4b8d-dc0e-61919a4c99b4"
      },
      "execution_count": 8,
      "outputs": [
        {
          "output_type": "stream",
          "name": "stdout",
          "text": [
            "Classification report for threshold 0.1:\n",
            "\n",
            "              precision    recall  f1-score   support\n",
            "\n",
            "         0.0       0.86      0.88      0.87      4673\n",
            "         1.0       0.55      0.50      0.53      1327\n",
            "\n",
            "    accuracy                           0.80      6000\n",
            "   macro avg       0.71      0.69      0.70      6000\n",
            "weighted avg       0.79      0.80      0.80      6000\n",
            "\n",
            "Classification report for threshold 0.2:\n",
            "\n",
            "              precision    recall  f1-score   support\n",
            "\n",
            "         0.0       0.86      0.90      0.88      4673\n",
            "         1.0       0.56      0.48      0.52      1327\n",
            "\n",
            "    accuracy                           0.80      6000\n",
            "   macro avg       0.71      0.69      0.70      6000\n",
            "weighted avg       0.79      0.80      0.80      6000\n",
            "\n",
            "Classification report for threshold 0.30000000000000004:\n",
            "\n",
            "              precision    recall  f1-score   support\n",
            "\n",
            "         0.0       0.86      0.90      0.88      4673\n",
            "         1.0       0.58      0.47      0.52      1327\n",
            "\n",
            "    accuracy                           0.81      6000\n",
            "   macro avg       0.72      0.69      0.70      6000\n",
            "weighted avg       0.79      0.81      0.80      6000\n",
            "\n",
            "Classification report for threshold 0.4:\n",
            "\n",
            "              precision    recall  f1-score   support\n",
            "\n",
            "         0.0       0.85      0.91      0.88      4673\n",
            "         1.0       0.58      0.46      0.51      1327\n",
            "\n",
            "    accuracy                           0.81      6000\n",
            "   macro avg       0.72      0.68      0.70      6000\n",
            "weighted avg       0.79      0.81      0.80      6000\n",
            "\n",
            "Classification report for threshold 0.5:\n",
            "\n",
            "              precision    recall  f1-score   support\n",
            "\n",
            "         0.0       0.85      0.92      0.88      4673\n",
            "         1.0       0.60      0.43      0.50      1327\n",
            "\n",
            "    accuracy                           0.81      6000\n",
            "   macro avg       0.72      0.68      0.69      6000\n",
            "weighted avg       0.79      0.81      0.80      6000\n",
            "\n",
            "Classification report for threshold 0.6:\n",
            "\n",
            "              precision    recall  f1-score   support\n",
            "\n",
            "         0.0       0.85      0.92      0.88      4673\n",
            "         1.0       0.61      0.42      0.50      1327\n",
            "\n",
            "    accuracy                           0.81      6000\n",
            "   macro avg       0.73      0.67      0.69      6000\n",
            "weighted avg       0.80      0.81      0.80      6000\n",
            "\n",
            "Classification report for threshold 0.7000000000000001:\n",
            "\n",
            "              precision    recall  f1-score   support\n",
            "\n",
            "         0.0       0.85      0.93      0.89      4673\n",
            "         1.0       0.62      0.40      0.49      1327\n",
            "\n",
            "    accuracy                           0.81      6000\n",
            "   macro avg       0.73      0.67      0.69      6000\n",
            "weighted avg       0.80      0.81      0.80      6000\n",
            "\n",
            "Classification report for threshold 0.8:\n",
            "\n",
            "              precision    recall  f1-score   support\n",
            "\n",
            "         0.0       0.84      0.94      0.89      4673\n",
            "         1.0       0.64      0.39      0.48      1327\n",
            "\n",
            "    accuracy                           0.82      6000\n",
            "   macro avg       0.74      0.66      0.69      6000\n",
            "weighted avg       0.80      0.82      0.80      6000\n",
            "\n"
          ]
        },
        {
          "output_type": "display_data",
          "data": {
            "text/plain": [
              "<Figure size 640x480 with 1 Axes>"
            ],
            "image/png": "[encoded data removed]"
          },
          "metadata": {}
        }
      ]
    },
    {
      "cell_type": "code",
      "source": [
        "# Manually setting different class weights\n",
        "class_weights = [1.0, 2.0]  # Example weights for [class 0, class 1]\n",
        "\n",
        "# Define the neural network estimator with new weights\n",
        "nn_estimator = SklearnSimpleNN(input_dim=X_train_tensor.shape[1], pos_weight=class_weights[1])\n",
        "\n",
        "# Train and evaluate the model\n",
        "nn_estimator = train_model(nn_estimator, X_train_tensor, y_train_tensor)\n",
        "evaluate_model(nn_estimator, X_test_tensor, y_test_tensor)"
      ],
      "metadata": {
        "colab": {
          "base_uri": "https://localhost:8080/",
          "height": 211
        },
        "id": "CEn9ofDy9Lxl",
        "outputId": "9d481e34-9ec7-47c7-eeee-17571489445e"
      },
      "execution_count": 6,
      "outputs": [
        {
          "output_type": "error",
          "ename": "NameError",
          "evalue": "name 'SklearnSimpleNN' is not defined",
          "traceback": [
            "\u001b[0;31m---------------------------------------------------------------------------\u001b[0m",
            "\u001b[0;31mNameError\u001b[0m                                 Traceback (most recent call last)",
            "\u001b[0;32m<ipython-input-6-399108b0b498>\u001b[0m in \u001b[0;36m<cell line: 5>\u001b[0;34m()\u001b[0m\n\u001b[1;32m      3\u001b[0m \u001b[0;34m\u001b[0m\u001b[0m\n\u001b[1;32m      4\u001b[0m \u001b[0;31m# Define the neural network estimator with new weights\u001b[0m\u001b[0;34m\u001b[0m\u001b[0;34m\u001b[0m\u001b[0m\n\u001b[0;32m----> 5\u001b[0;31m \u001b[0mnn_estimator\u001b[0m \u001b[0;34m=\u001b[0m \u001b[0mSklearnSimpleNN\u001b[0m\u001b[0;34m(\u001b[0m\u001b[0minput_dim\u001b[0m\u001b[0;34m=\u001b[0m\u001b[0mX_train_tensor\u001b[0m\u001b[0;34m.\u001b[0m\u001b[0mshape\u001b[0m\u001b[0;34m[\u001b[0m\u001b[0;36m1\u001b[0m\u001b[0;34m]\u001b[0m\u001b[0;34m,\u001b[0m \u001b[0mpos_weight\u001b[0m\u001b[0;34m=\u001b[0m\u001b[0mclass_weights\u001b[0m\u001b[0;34m[\u001b[0m\u001b[0;36m1\u001b[0m\u001b[0;34m]\u001b[0m\u001b[0;34m)\u001b[0m\u001b[0;34m\u001b[0m\u001b[0;34m\u001b[0m\u001b[0m\n\u001b[0m\u001b[1;32m      6\u001b[0m \u001b[0;34m\u001b[0m\u001b[0m\n\u001b[1;32m      7\u001b[0m \u001b[0;31m# Train and evaluate the model\u001b[0m\u001b[0;34m\u001b[0m\u001b[0;34m\u001b[0m\u001b[0m\n",
            "\u001b[0;31mNameError\u001b[0m: name 'SklearnSimpleNN' is not defined"
          ]
        }
      ]
    },
    {
      "cell_type": "code",
      "source": [],
      "metadata": {
        "id": "lXuNTEPu9LvB"
      },
      "execution_count": null,
      "outputs": []
    },
    {
      "cell_type": "code",
      "source": [],
      "metadata": {
        "id": "UmF2uXGS9LmH"
      },
      "execution_count": null,
      "outputs": []
    },
    {
      "cell_type": "code",
      "source": [],
      "metadata": {
        "id": "LGgJAw5-9LjS"
      },
      "execution_count": null,
      "outputs": []
    },
    {
      "cell_type": "markdown",
      "source": [
        "2. **Implement and Evaluate Sampling Techniques**:"
      ],
      "metadata": {
        "id": "YQHzIr2x7hbb"
      }
    },
    {
      "cell_type": "code",
      "source": [
        "import matplotlib.pyplot as plt\n",
        "import seaborn as sns\n",
        "\n",
        "# Visualize class distribution\n",
        "sns.countplot(x=y_train)\n",
        "plt.title('Class Distribution in Training Set')\n",
        "plt.show()"
      ],
      "metadata": {
        "id": "UI5IuUZj7d09"
      },
      "execution_count": null,
      "outputs": []
    },
    {
      "cell_type": "code",
      "source": [
        "from imblearn.over_sampling import SMOTE\n",
        "from imblearn.combine import SMOTEENN\n",
        "\n",
        "# Function to apply SMOTE\n",
        "def apply_smote(X_train, y_train):\n",
        "    smote = SMOTE(random_state=42)\n",
        "    X_train_resampled, y_train_resampled = smote.fit_resample(X_train, y_train)\n",
        "    return X_train_resampled, y_train_resampled\n",
        "\n",
        "# Function to apply SMOTEENN\n",
        "def apply_smoteenn(X_train, y_train):\n",
        "    smoteenn = SMOTEENN(random_state=42)\n",
        "    X_train_resampled, y_train_resampled = smoteenn.fit_resample(X_train, y_train)\n",
        "    return X_train_resampled, y_train_resampled"
      ],
      "metadata": {
        "id": "h0Z6O5e07ZN7"
      },
      "execution_count": null,
      "outputs": []
    },
    {
      "cell_type": "markdown",
      "source": [
        "3. **Evaluate Impact**:"
      ],
      "metadata": {
        "id": "s6cxmDwD7VXD"
      }
    },
    {
      "cell_type": "code",
      "source": [
        "# Function to evaluate different sampling techniques\n",
        "def evaluate_sampling_techniques(X_train, X_test, y_train, y_test, preprocessor, class_weights, SklearnSimpleNN, sampling_technique=None):\n",
        "    if sampling_technique:\n",
        "        X_train_resampled, y_train_resampled = sampling_technique(X_train, y_train)\n",
        "    else:\n",
        "        X_train_resampled, y_train_resampled = X_train, y_train\n",
        "\n",
        "    X_train_tensor, y_train_tensor, X_test_tensor, y_test_tensor = convert_to_tensors(\n",
        "        X_train_resampled, y_train_resampled, X_test, y_test)\n",
        "\n",
        "    nn_estimator = SklearnSimpleNN(input_dim=X_train_tensor.shape[1], pos_weight=class_weights[1])\n",
        "    nn_estimator = train_model(nn_estimator, X_train_tensor, y_train_tensor)\n",
        "    evaluate_model(nn_estimator, X_test_tensor, y_test_tensor)"
      ],
      "metadata": {
        "id": "2XwiRHax7RCJ"
      },
      "execution_count": null,
      "outputs": []
    },
    {
      "cell_type": "markdown",
      "source": [
        "4. **Comparison and Visualization**:"
      ],
      "metadata": {
        "id": "fyGd1ANJ7MVc"
      }
    },
    {
      "cell_type": "code",
      "source": [
        "  # Compare results of different sampling techniques\n",
        "  print(\"Original Data:\")\n",
        "  evaluate_sampling_techniques(X_train, X_test, y_train, y_test, preprocessor, class_weights, SklearnSimpleNN)\n",
        "\n",
        "  print(\"SMOTE:\")\n",
        "  evaluate_sampling_techniques(X_train, X_test, y_train, y_test, preprocessor, class_weights, SklearnSimpleNN, apply_smote)\n",
        "\n",
        "  print(\"SMOTEENN:\")\n",
        "  evaluate_sampling_techniques(X_train, X_test, y_train, y_test, preprocessor, class_weights, SklearnSimpleNN, apply_smoteenn)"
      ],
      "metadata": {
        "id": "IrZiIZax7E-G"
      },
      "execution_count": null,
      "outputs": []
    }
  ]
}