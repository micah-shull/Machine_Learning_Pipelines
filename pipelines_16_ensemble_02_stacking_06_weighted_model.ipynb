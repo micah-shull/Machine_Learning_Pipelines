{
  "nbformat": 4,
  "nbformat_minor": 0,
  "metadata": {
    "colab": {
      "provenance": [],
      "authorship_tag": "ABX9TyPpWhZ/XplJAIiv1hU5ogcC",
      "include_colab_link": true
    },
    "kernelspec": {
      "name": "python3",
      "display_name": "Python 3"
    },
    "language_info": {
      "name": "python"
    }
  },
  "cells": [
    {
      "cell_type": "markdown",
      "metadata": {
        "id": "view-in-github",
        "colab_type": "text"
      },
      "source": [
        "<a href=\"https://colab.research.google.com/github/micah-shull/pipelines/blob/main/pipelines_16_ensemble_02_stacking_06_weighted_model.ipynb\" target=\"_parent\"><img src=\"https://colab.research.google.com/assets/colab-badge.svg\" alt=\"Open In Colab\"/></a>"
      ]
    },
    {
      "cell_type": "markdown",
      "source": [
        "### Load & Preprocess Data"
      ],
      "metadata": {
        "id": "bjOilQaL9ExT"
      }
    },
    {
      "cell_type": "code",
      "execution_count": 1,
      "metadata": {
        "colab": {
          "base_uri": "https://localhost:8080/",
          "height": 626
        },
        "id": "wnw84qQE8wXQ",
        "outputId": "563e3f28-55c2-4017-ea2d-a8f4df5ba7b6"
      },
      "outputs": [
        {
          "output_type": "stream",
          "name": "stdout",
          "text": [
            "1.3.2\n"
          ]
        },
        {
          "output_type": "stream",
          "name": "stderr",
          "text": [
            "/usr/local/lib/python3.10/dist-packages/dask/dataframe/__init__.py:42: FutureWarning: \n",
            "Dask dataframe query planning is disabled because dask-expr is not installed.\n",
            "\n",
            "You can install it with `pip install dask[dataframe]` or `conda install dask`.\n",
            "This will raise in a future version.\n",
            "\n",
            "  warnings.warn(msg, FutureWarning)\n"
          ]
        },
        {
          "output_type": "display_data",
          "data": {
            "text/plain": [
              "<Figure size 800x500 with 1 Axes>"
            ],
            "image/png": "[encoded data removed]"
          },
          "metadata": {}
        }
      ],
      "source": [
        "import sklearn\n",
        "print(sklearn.__version__)\n",
        "import pandas as pd\n",
        "from sklearn.linear_model import LogisticRegression\n",
        "from sklearn.ensemble import RandomForestClassifier, HistGradientBoostingClassifier\n",
        "from lightgbm import LGBMClassifier\n",
        "from sklearn.pipeline import Pipeline\n",
        "from sklearn.compose import ColumnTransformer\n",
        "from sklearn.impute import SimpleImputer\n",
        "from sklearn.preprocessing import StandardScaler, OneHotEncoder\n",
        "from sklearn.model_selection import train_test_split\n",
        "from sklearn.metrics import recall_score, precision_score, f1_score, accuracy_score\n",
        "from loan_data_utils import load_and_preprocess_data, plot_class_distribution\n",
        "import joblib\n",
        "import numpy as np\n",
        "import matplotlib.pyplot as plt\n",
        "from sklearn.ensemble import VotingClassifier\n",
        "\n",
        "# Load and preprocess data (assuming this function is defined)\n",
        "url = \"https://archive.ics.uci.edu/ml/machine-learning-databases/00350/default%20of%20credit%20card%20clients.xls\"\n",
        "categorical_columns = ['sex', 'education', 'marriage']\n",
        "target = 'default_payment_next_month'\n",
        "\n",
        "# load and preprocess data\n",
        "X, y = load_and_preprocess_data(url, categorical_columns, target)\n",
        "\n",
        "# Split the data into training and testing sets\n",
        "X_train, X_test, y_train, y_test = train_test_split(X, y, test_size=0.2, random_state=42, stratify=y)\n",
        "\n",
        "# Identify numeric and categorical columns\n",
        "numeric_features = X.select_dtypes(include=['int64', 'float64']).columns.tolist()\n",
        "categorical_features = X.select_dtypes(include=['category']).columns.tolist()\n",
        "\n",
        "# Define the column transformer\n",
        "preprocessor = ColumnTransformer(\n",
        "    transformers=[\n",
        "        ('num', Pipeline(steps=[\n",
        "            ('imputer', SimpleImputer(strategy='median')),\n",
        "            ('scaler', StandardScaler())\n",
        "        ]), numeric_features),\n",
        "        ('cat', Pipeline(steps=[\n",
        "            ('imputer', SimpleImputer(strategy='most_frequent')),\n",
        "            ('encoder', OneHotEncoder(drop='first'))\n",
        "        ]), categorical_features)\n",
        "    ])\n",
        "\n",
        "plot_class_distribution(y_train, target)"
      ]
    },
    {
      "cell_type": "markdown",
      "source": [
        "### Weighted Model Approach"
      ],
      "metadata": {
        "id": "GYXMLiUX9KeI"
      }
    },
    {
      "cell_type": "code",
      "source": [
        "import joblib\n",
        "import json\n",
        "import pandas as pd\n",
        "import numpy as np\n",
        "from sklearn.linear_model import LogisticRegression\n",
        "from sklearn.ensemble import RandomForestClassifier\n",
        "from lightgbm import LGBMClassifier\n",
        "from sklearn.pipeline import Pipeline\n",
        "from sklearn.compose import ColumnTransformer\n",
        "from sklearn.impute import SimpleImputer\n",
        "from sklearn.preprocessing import StandardScaler, OneHotEncoder\n",
        "from sklearn.model_selection import train_test_split\n",
        "from sklearn.metrics import recall_score, precision_score, f1_score, accuracy_score, classification_report\n",
        "from sklearn.ensemble import VotingClassifier\n",
        "from loan_data_utils import load_and_preprocess_data\n",
        "\n",
        "# Define class weights\n",
        "class_weight = {0: 1, 1: 3}\n",
        "scale_pos_weight = 3\n",
        "\n",
        "# Define candidate models with weights\n",
        "candidate_models = {\n",
        "    'LogReg': LogisticRegression(random_state=42, class_weight=class_weight, max_iter=1000),\n",
        "    'RF': RandomForestClassifier(random_state=42, class_weight=class_weight),\n",
        "    'LGBM': LGBMClassifier(random_state=42, scale_pos_weight=scale_pos_weight)\n",
        "}\n",
        "\n",
        "# Create pipelines for each candidate model\n",
        "pipelines = {name: Pipeline(steps=[('preprocessor', preprocessor), ('classifier', model)])\n",
        "             for name, model in candidate_models.items()}\n",
        "\n",
        "# Load the previous best models and parameters\n",
        "best_models = joblib.load('best_models.pkl')\n",
        "with open('best_params.json', 'r') as json_file:\n",
        "    best_params = json.load(json_file)\n",
        "\n",
        "# Update models with weights\n",
        "for metric, model in best_models.items():\n",
        "    model_name = model.named_steps['classifier'].__class__.__name__\n",
        "\n",
        "    if model_name == 'LGBMClassifier':\n",
        "        model.named_steps['classifier'].set_params(scale_pos_weight=scale_pos_weight)\n",
        "        best_params[metric]['classifier__scale_pos_weight'] = scale_pos_weight\n",
        "    elif model_name in ['LogisticRegression', 'RandomForestClassifier']:\n",
        "        model.named_steps['classifier'].set_params(class_weight=class_weight)\n",
        "        best_params[metric]['classifier__class_weight'] = class_weight\n",
        "\n",
        "# Save the updated models and parameters\n",
        "joblib.dump(best_models, 'best_models_weighted.pkl')\n",
        "with open('best_params_weighted.json', 'w') as json_file:\n",
        "    json.dump(best_params, json_file, indent=4)\n",
        "\n",
        "# Create a list of (name, model) tuples for the VotingClassifier\n",
        "estimators = [\n",
        "    ('recall_class_1', best_models['recall_class_1']),\n",
        "    ('precision_class_1', best_models['precision_class_1']),\n",
        "    ('recall_class_0', best_models['recall_class_0']),\n",
        "    ('precision_class_0', best_models['precision_class_0'])\n",
        "]\n",
        "\n",
        "# Initialize the VotingClassifier with the best models\n",
        "voting_clf = VotingClassifier(estimators=estimators, voting='soft')\n",
        "\n",
        "# Fit the VotingClassifier on the training data\n",
        "voting_clf.fit(X_train, y_train)\n",
        "\n",
        "# Save the updated VotingClassifier model\n",
        "joblib.dump(voting_clf, 'voting_classifier_weighted.pkl')\n",
        "\n",
        "print(\"Updated VotingClassifier model saved to 'voting_classifier_weighted.pkl'\")\n",
        "\n",
        "# Load the optimal thresholds from the file\n",
        "with open('optimal_thresholds.json', 'r') as json_file:\n",
        "    optimal_thresholds = json.load(json_file)\n",
        "\n",
        "# Function to apply class-specific thresholds\n",
        "def predict_with_class_specific_thresholds(model, X, threshold_class_1, threshold_class_0):\n",
        "    y_proba = model.predict_proba(X)\n",
        "    y_pred = np.zeros(y_proba.shape[0])\n",
        "\n",
        "    # Apply thresholds to obtain predictions\n",
        "    y_pred[(y_proba[:, 1] >= threshold_class_1)] = 1  # Predict class 1 for probabilities above threshold_class_1\n",
        "    y_pred[(y_proba[:, 0] >= threshold_class_0)] = 0  # Predict class 0 for probabilities above threshold_class_0\n",
        "\n",
        "    return y_pred\n",
        "\n",
        "# Predict with the updated VotingClassifier model using the optimal thresholds\n",
        "threshold_class_1 = optimal_thresholds['threshold_class_1']\n",
        "threshold_class_0 = optimal_thresholds['threshold_class_0']\n",
        "\n",
        "y_pred_voting = predict_with_class_specific_thresholds(voting_clf, X_test, threshold_class_1, threshold_class_0)\n",
        "\n",
        "# Evaluate the performance of the VotingClassifier\n",
        "recall_1 = recall_score(y_test, y_pred_voting, pos_label=1)\n",
        "precision_1 = precision_score(y_test, y_pred_voting, pos_label=1, zero_division=0)\n",
        "recall_0 = recall_score(y_test, y_pred_voting, pos_label=0)\n",
        "precision_0 = precision_score(y_test, y_pred_voting, pos_label=0, zero_division=0)\n",
        "f1_macro = f1_score(y_test, y_pred_voting, average='macro')\n",
        "accuracy = accuracy_score(y_test, y_pred_voting)\n",
        "\n",
        "# Print the evaluation metrics\n",
        "print(f'Recall Class 1: {recall_1:.4f}')\n",
        "print(f'Precision Class 1: {precision_1:.4f}')\n",
        "print(f'Recall Class 0: {recall_0:.4f}')\n",
        "print(f'Precision Class 0: {precision_0:.4f}')\n",
        "print(f'F1 Macro: {f1_macro:.4f}')\n",
        "print(f'Accuracy: {accuracy:.4f}')\n",
        "\n",
        "# Print the classification report\n",
        "print(\"\\nClassification Report:\")\n",
        "print(classification_report(y_test, y_pred_voting))\n"
      ],
      "metadata": {
        "colab": {
          "base_uri": "https://localhost:8080/"
        },
        "id": "DkgZaOwH9LwB",
        "outputId": "c6a5b687-68d6-452f-fdd5-3ee04bccd359"
      },
      "execution_count": 3,
      "outputs": [
        {
          "output_type": "stream",
          "name": "stdout",
          "text": [
            "[LightGBM] [Info] Number of positive: 5309, number of negative: 18691\n",
            "[LightGBM] [Info] Auto-choosing col-wise multi-threading, the overhead of testing was 0.032243 seconds.\n",
            "You can set `force_col_wise=true` to remove the overhead.\n",
            "[LightGBM] [Info] Total Bins 3276\n",
            "[LightGBM] [Info] Number of data points in the train set: 24000, number of used features: 30\n",
            "[LightGBM] [Info] [binary:BoostFromScore]: pavg=0.500000 -> initscore=0.000000\n",
            "[LightGBM] [Info] Start training from score 0.000000\n",
            "[LightGBM] [Info] Number of positive: 5309, number of negative: 18691\n",
            "[LightGBM] [Info] Auto-choosing row-wise multi-threading, the overhead of testing was 0.001860 seconds.\n",
            "You can set `force_row_wise=true` to remove the overhead.\n",
            "And if memory is not enough, you can set `force_col_wise=true`.\n",
            "[LightGBM] [Info] Total Bins 3276\n",
            "[LightGBM] [Info] Number of data points in the train set: 24000, number of used features: 30\n",
            "[LightGBM] [Info] [binary:BoostFromScore]: pavg=0.500000 -> initscore=0.000000\n",
            "[LightGBM] [Info] Start training from score 0.000000\n",
            "Updated VotingClassifier model saved to 'voting_classifier_weighted.pkl'\n",
            "Recall Class 1: 0.7958\n",
            "Precision Class 1: 0.3348\n",
            "Recall Class 0: 0.5510\n",
            "Precision Class 0: 0.9048\n",
            "F1 Macro: 0.5781\n",
            "Accuracy: 0.6052\n",
            "\n",
            "Classification Report:\n",
            "              precision    recall  f1-score   support\n",
            "\n",
            "           0       0.90      0.55      0.68      4673\n",
            "           1       0.33      0.80      0.47      1327\n",
            "\n",
            "    accuracy                           0.61      6000\n",
            "   macro avg       0.62      0.67      0.58      6000\n",
            "weighted avg       0.78      0.61      0.64      6000\n",
            "\n"
          ]
        }
      ]
    },
    {
      "cell_type": "markdown",
      "source": [
        "### Analysis of the Classification Reports\n",
        "\n",
        "1. **Precision and Recall for Class 0**:\n",
        "   - **Current**: Lower recall (0.55) compared to the previous model (0.87). This indicates more false negatives for class 0.\n",
        "   - **Previous**: Higher precision (0.99) and recall (0.87), indicating fewer false positives and false negatives for class 0.\n",
        "\n",
        "2. **Precision and Recall for Class 1**:\n",
        "   - **Current**: Lower precision (0.33) compared to the previous model (0.68). This indicates more false positives for class 1.\n",
        "   - **Previous**: Higher recall (0.95) and precision (0.68), indicating better performance in identifying class 1 correctly.\n",
        "\n",
        "3. **Overall Performance**:\n",
        "   - **Current**: The overall performance metrics (accuracy, macro F1-score, and weighted F1-score) are significantly lower compared to the previous best model.\n",
        "\n",
        "### Recommendations:\n",
        "\n",
        "The weighted approach significantly impacted the overall performance, resulting in a notable drop in accuracy and F1-scores. Given the results, it's clear that the previous model performs better.\n",
        "\n",
        "### Next Steps:\n",
        "\n",
        "1. **Revert to the Previous Best Model**:\n",
        "   - Since the previous model achieved better performance metrics, reverting to it seems the best course of action.\n",
        "   - Use the previous best-performing model without the added weights, as it maintained higher precision, recall, and overall accuracy.\n",
        "\n",
        "2. **Explore Resampling Techniques**:\n",
        "   - To address class imbalance, consider using resampling techniques such as SMOTE (Synthetic Minority Over-sampling Technique) or ADASYN (Adaptive Synthetic Sampling).\n",
        "   - These techniques can help balance the class distribution by generating synthetic samples for the minority class.\n",
        "\n"
      ],
      "metadata": {
        "id": "hETyEp23_IpO"
      }
    },
    {
      "cell_type": "code",
      "source": [],
      "metadata": {
        "id": "eD0jXXSy_MlH"
      },
      "execution_count": null,
      "outputs": []
    }
  ]
}